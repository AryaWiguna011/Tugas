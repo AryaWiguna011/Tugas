{
  "cells": [
    {
      "cell_type": "markdown",
      "metadata": {
        "id": "view-in-github",
        "colab_type": "text"
      },
      "source": [
        "<a href=\"https://colab.research.google.com/github/AryaWiguna011/Tugas/blob/main/Bioinformatics_Lab%20SESI%204.ipynb\" target=\"_parent\"><img src=\"https://colab.research.google.com/assets/colab-badge.svg\" alt=\"Open In Colab\"/></a>"
      ]
    },
    {
      "cell_type": "markdown",
      "metadata": {
        "id": "80tgd3_QZrqr"
      },
      "source": [
        "###### SCIE6062 Computational Biology: Bioinformatics using Biopython"
      ]
    },
    {
      "cell_type": "markdown",
      "metadata": {
        "id": "permBQOGZrq0"
      },
      "source": [
        "## Introduction to BioPython\n",
        "\n",
        "\n",
        "### What is BioPython?\n",
        "Biopython is a set of freely available tools for biological computation written in Python by an international team of developers. It is a distributed collaborative effort to develop Python libraries and applications which address the needs of current and future work in bioinformatics. The source code is made available under the Biopython License, which is extremely liberal and compatible with almost every license in the world.\n",
        "http://biopython.org/DIST/docs/tutorial/Tutorial.pdf\n",
        "\n",
        "![](https://drive.google.com/uc?export=view&id=1UlZt4j65UAWDVnvI5X0iKjm3VsVUoaLd)\n",
        "\n",
        "\n",
        "#### Common Applications\n",
        "+ For sequence analysis (DNA,RNA)\n",
        "+ To do transcription and translation of DNA (Protein Synthesis)\n",
        "+ Querying and Access BioInformatic Databases\n",
        "    - Entrez, BLAST,GenBank,etc\n",
        "+ 3D Structure analysis\n",
        "+ ATGATCTCGTAA\n",
        "+ ATTAAAGGTTTATACCTTCCCAGGTAACAAACCAACCAACTTTCGATCTCTTGTAGATCTGTTCTCTAAA\n",
        "\n",
        "\n",
        "#### Common Questions in BioInformatics\n",
        "+ How to create a sequence?\n",
        "+ How to Protein Synthesis (Transcription,Translation)?\n",
        "+ How to Find GC content and Molecular weights of a protein or DNA?\n",
        "+ How to Convert protein sequence from one-letter to three-letter code and vice versa?\n",
        "+ How to find the Frequency of Nucleotide,Amino Acids,etc?\n",
        "+ How to do Sequence Alignment?\n",
        "+ How to do Similarity and homology analysis?\n",
        "+ etc"
      ]
    },
    {
      "cell_type": "markdown",
      "metadata": {
        "id": "WA5E7KefZrq2"
      },
      "source": [
        "#### Features of BioPython\n",
        "[](Biopython_featuresdiagram.png)\n",
        "![](https://drive.google.com/uc?export=view&id=1U-M19NFryjlGtHZTXbVV2_BMTU2vGI8Q)\n",
        "\n",
        "+ [https://coggle.it/diagram/XYlLv7styC7WAgJM/t/biopython-tutorial]"
      ]
    },
    {
      "cell_type": "markdown",
      "metadata": {
        "id": "isksyVZvZrq3"
      },
      "source": [
        "## Lab 1 : Introduction to DNA Sequence\n",
        "\n",
        "#### Check biopython installation"
      ]
    },
    {
      "cell_type": "code",
      "execution_count": 1,
      "metadata": {
        "id": "M6B0rEEUZrq3"
      },
      "outputs": [],
      "source": [
        "#Installation (try !pip for native anaconda distribution or pip for google colab)\n"
      ]
    },
    {
      "cell_type": "code",
      "execution_count": 2,
      "metadata": {
        "colab": {
          "base_uri": "https://localhost:8080/"
        },
        "id": "KJaGmf29Wpod",
        "outputId": "71b2ddd7-f6e2-4475-b3cb-d340bfc78b1b"
      },
      "outputs": [
        {
          "output_type": "stream",
          "name": "stdout",
          "text": [
            "Collecting biopython\n",
            "  Downloading biopython-1.85-cp311-cp311-manylinux_2_17_x86_64.manylinux2014_x86_64.whl.metadata (13 kB)\n",
            "Requirement already satisfied: numpy in /usr/local/lib/python3.11/dist-packages (from biopython) (2.0.2)\n",
            "Downloading biopython-1.85-cp311-cp311-manylinux_2_17_x86_64.manylinux2014_x86_64.whl (3.3 MB)\n",
            "\u001b[?25l   \u001b[90m━━━━━━━━━━━━━━━━━━━━━━━━━━━━━━━━━━━━━━━━\u001b[0m \u001b[32m0.0/3.3 MB\u001b[0m \u001b[31m?\u001b[0m eta \u001b[36m-:--:--\u001b[0m\r\u001b[2K   \u001b[91m━━━━━━━━━━━━━━━━━━━━━━━━━━━━━━━━━━━━━━━\u001b[0m\u001b[91m╸\u001b[0m \u001b[32m3.3/3.3 MB\u001b[0m \u001b[31m111.4 MB/s\u001b[0m eta \u001b[36m0:00:01\u001b[0m\r\u001b[2K   \u001b[90m━━━━━━━━━━━━━━━━━━━━━━━━━━━━━━━━━━━━━━━━\u001b[0m \u001b[32m3.3/3.3 MB\u001b[0m \u001b[31m60.8 MB/s\u001b[0m eta \u001b[36m0:00:00\u001b[0m\n",
            "\u001b[?25hInstalling collected packages: biopython\n",
            "Successfully installed biopython-1.85\n"
          ]
        }
      ],
      "source": [
        "!pip install biopython"
      ]
    },
    {
      "cell_type": "code",
      "source": [
        "from google.colab import drive\n",
        "drive.mount(\"/content/drive\")"
      ],
      "metadata": {
        "colab": {
          "base_uri": "https://localhost:8080/"
        },
        "id": "bV_C2NKzkCBh",
        "outputId": "40fb8bb2-11ae-4529-9feb-e942b63d2e51"
      },
      "execution_count": 3,
      "outputs": [
        {
          "output_type": "stream",
          "name": "stdout",
          "text": [
            "Mounted at /content/drive\n"
          ]
        }
      ]
    },
    {
      "cell_type": "code",
      "execution_count": 4,
      "metadata": {
        "id": "YOjQCzT6Zrq5"
      },
      "outputs": [],
      "source": [
        "# Load Bioinformatic Pkgs\n",
        "import Bio"
      ]
    },
    {
      "cell_type": "code",
      "execution_count": 5,
      "metadata": {
        "id": "-A_87zH2Zrq6",
        "scrolled": false
      },
      "outputs": [],
      "source": [
        "# Methods and Attributes"
      ]
    },
    {
      "cell_type": "markdown",
      "metadata": {
        "id": "9vYGrp4QZrq7"
      },
      "source": [
        "#### Sequence Analysis\n",
        "+ DNA and RNA Sequence\n",
        "    - A Adenine\n",
        "    - C Cytosine\n",
        "    - G Guanine\n",
        "    - T Thymine\n",
        "    - U Uracil * RNA\n",
        "    \n",
        "\n",
        "+ DNA Structure\n",
        "\n",
        "![](https://drive.google.com/uc?export=view&id=1Q79Lo8pb305Lyv2ORnikIQpj2UC2wgw2)\n"
      ]
    },
    {
      "cell_type": "markdown",
      "metadata": {
        "id": "alaKZ7AeZrq8"
      },
      "source": [
        "#### Working with Sequences"
      ]
    },
    {
      "cell_type": "code",
      "execution_count": 6,
      "metadata": {
        "id": "qSaAmj7eZrq9"
      },
      "outputs": [],
      "source": [
        "from Bio.Seq import Seq"
      ]
    },
    {
      "cell_type": "code",
      "execution_count": 7,
      "metadata": {
        "colab": {
          "base_uri": "https://localhost:8080/"
        },
        "id": "TP5MhDG98DYF",
        "outputId": "dfc8d5b1-550e-4576-b321-d9d891d36716"
      },
      "outputs": [
        {
          "output_type": "stream",
          "name": "stdout",
          "text": [
            "\u001b[31mERROR: Could not find a version that satisfies the requirement biophyton (from versions: none)\u001b[0m\u001b[31m\n",
            "\u001b[0m\u001b[31mERROR: No matching distribution found for biophyton\u001b[0m\u001b[31m\n",
            "\u001b[0m"
          ]
        }
      ],
      "source": [
        "!pip install biophyton"
      ]
    },
    {
      "cell_type": "code",
      "execution_count": 8,
      "metadata": {
        "id": "6qfsyClqZrq9",
        "colab": {
          "base_uri": "https://localhost:8080/"
        },
        "outputId": "90b374bf-6d9a-42c3-ffcc-4e5547c98d37"
      },
      "outputs": [
        {
          "output_type": "execute_result",
          "data": {
            "text/plain": [
              "['__abstractmethods__',\n",
              " '__add__',\n",
              " '__annotations__',\n",
              " '__array_ufunc__',\n",
              " '__bytes__',\n",
              " '__class__',\n",
              " '__contains__',\n",
              " '__delattr__',\n",
              " '__dict__',\n",
              " '__dir__',\n",
              " '__doc__',\n",
              " '__eq__',\n",
              " '__format__',\n",
              " '__ge__',\n",
              " '__getattribute__',\n",
              " '__getitem__',\n",
              " '__getstate__',\n",
              " '__gt__',\n",
              " '__hash__',\n",
              " '__imul__',\n",
              " '__init__',\n",
              " '__init_subclass__',\n",
              " '__iter__',\n",
              " '__le__',\n",
              " '__len__',\n",
              " '__lt__',\n",
              " '__module__',\n",
              " '__mul__',\n",
              " '__ne__',\n",
              " '__new__',\n",
              " '__radd__',\n",
              " '__reduce__',\n",
              " '__reduce_ex__',\n",
              " '__repr__',\n",
              " '__rmul__',\n",
              " '__setattr__',\n",
              " '__sizeof__',\n",
              " '__slots__',\n",
              " '__str__',\n",
              " '__subclasshook__',\n",
              " '__weakref__',\n",
              " '_abc_impl',\n",
              " '_data',\n",
              " 'back_transcribe',\n",
              " 'complement',\n",
              " 'complement_rna',\n",
              " 'count',\n",
              " 'count_overlap',\n",
              " 'defined',\n",
              " 'defined_ranges',\n",
              " 'endswith',\n",
              " 'find',\n",
              " 'index',\n",
              " 'islower',\n",
              " 'isupper',\n",
              " 'join',\n",
              " 'lower',\n",
              " 'lstrip',\n",
              " 'removeprefix',\n",
              " 'removesuffix',\n",
              " 'replace',\n",
              " 'reverse_complement',\n",
              " 'reverse_complement_rna',\n",
              " 'rfind',\n",
              " 'rindex',\n",
              " 'rsplit',\n",
              " 'rstrip',\n",
              " 'search',\n",
              " 'split',\n",
              " 'startswith',\n",
              " 'strip',\n",
              " 'transcribe',\n",
              " 'translate',\n",
              " 'upper']"
            ]
          },
          "metadata": {},
          "execution_count": 8
        }
      ],
      "source": [
        "# Methods of Seq\n",
        "dir(Seq)"
      ]
    },
    {
      "cell_type": "code",
      "execution_count": 9,
      "metadata": {
        "id": "Z_x9hKqDZrq-"
      },
      "outputs": [],
      "source": [
        "# Create A simple sequences\n",
        "Seq1 = Seq('ATGATCTCGTAA')"
      ]
    },
    {
      "cell_type": "code",
      "execution_count": 10,
      "metadata": {
        "id": "ZVZQc0fxZrq_",
        "colab": {
          "base_uri": "https://localhost:8080/"
        },
        "outputId": "fae2af79-aeeb-4b4b-a71b-d4f72aa45d8c"
      },
      "outputs": [
        {
          "output_type": "execute_result",
          "data": {
            "text/plain": [
              "Seq('ATGATCTCGTAA')"
            ]
          },
          "metadata": {},
          "execution_count": 10
        }
      ],
      "source": [
        "# Create an RNA\n",
        "Seq1"
      ]
    },
    {
      "cell_type": "code",
      "execution_count": 11,
      "metadata": {
        "id": "9bvbP7JBZrrA"
      },
      "outputs": [],
      "source": [
        "# Creating a Protein seq\n"
      ]
    },
    {
      "cell_type": "markdown",
      "metadata": {
        "id": "jErhPegFZrrA"
      },
      "source": [
        "#### Sequence Manipulation\n",
        "+ Indexing/Slicing\n",
        "+ Join 2 Sequences\n",
        "+ Find a Codon in a sequence (Optional)\n",
        "+ Count the number of Nucleotides\n",
        "+ Find the number of times a patten repeat\n",
        "+ Subsequence Search\n",
        "+ Plot the Nucleotide/ Base frequency"
      ]
    },
    {
      "cell_type": "code",
      "execution_count": 12,
      "metadata": {
        "id": "y3hrKz8oZrrB",
        "colab": {
          "base_uri": "https://localhost:8080/"
        },
        "outputId": "15750f23-eb21-4fe2-8263-891141866cd0"
      },
      "outputs": [
        {
          "output_type": "execute_result",
          "data": {
            "text/plain": [
              "12"
            ]
          },
          "metadata": {},
          "execution_count": 12
        }
      ],
      "source": [
        "# Length of our seq\n",
        "len(Seq1)"
      ]
    },
    {
      "cell_type": "code",
      "execution_count": 13,
      "metadata": {
        "id": "5_6-Ns6aZrrB",
        "colab": {
          "base_uri": "https://localhost:8080/"
        },
        "outputId": "98631f0c-0606-485f-e09a-ccd873d22ebf"
      },
      "outputs": [
        {
          "output_type": "execute_result",
          "data": {
            "text/plain": [
              "12"
            ]
          },
          "metadata": {},
          "execution_count": 13
        }
      ],
      "source": [
        "len('ATGATCTCGTAA')"
      ]
    },
    {
      "cell_type": "code",
      "execution_count": 14,
      "metadata": {
        "id": "DHzEX7wEZrrB",
        "colab": {
          "base_uri": "https://localhost:8080/"
        },
        "outputId": "9a05bcc6-2051-4687-ab9e-ec4ea5ecb0d4"
      },
      "outputs": [
        {
          "output_type": "execute_result",
          "data": {
            "text/plain": [
              "Seq('ATG')"
            ]
          },
          "metadata": {},
          "execution_count": 14
        }
      ],
      "source": [
        "# Slicing\n",
        "Seq1[0:3]"
      ]
    },
    {
      "cell_type": "code",
      "execution_count": 15,
      "metadata": {
        "id": "ibggYpqTZrrC",
        "colab": {
          "base_uri": "https://localhost:8080/"
        },
        "outputId": "ad66d4b6-47ef-43a5-b846-b2f930963135"
      },
      "outputs": [
        {
          "output_type": "execute_result",
          "data": {
            "text/plain": [
              "Seq('ATGATCTCGTAA')"
            ]
          },
          "metadata": {},
          "execution_count": 15
        }
      ],
      "source": [
        "# Reverse\n",
        "Seq1[::1]"
      ]
    },
    {
      "cell_type": "code",
      "execution_count": 16,
      "metadata": {
        "id": "govjN5OQZrrC"
      },
      "outputs": [],
      "source": [
        "Seq2 = Seq('ATGATCTCGTGG')"
      ]
    },
    {
      "cell_type": "code",
      "execution_count": 17,
      "metadata": {
        "id": "6XaPhvbcZrrD",
        "colab": {
          "base_uri": "https://localhost:8080/"
        },
        "outputId": "52f5b396-f5b2-420b-dbc9-6a9d4d4ec91b"
      },
      "outputs": [
        {
          "output_type": "execute_result",
          "data": {
            "text/plain": [
              "Seq('ATGATCATGATCTCGTGG')"
            ]
          },
          "metadata": {},
          "execution_count": 17
        }
      ],
      "source": [
        "# Join Seq\n",
        "Seq1[0:6] + Seq2"
      ]
    },
    {
      "cell_type": "code",
      "execution_count": 18,
      "metadata": {
        "id": "aVI46MrJZrrD",
        "colab": {
          "base_uri": "https://localhost:8080/"
        },
        "outputId": "91f6ad1a-ccce-412e-b2df-8100931e4abd"
      },
      "outputs": [
        {
          "output_type": "execute_result",
          "data": {
            "text/plain": [
              "2"
            ]
          },
          "metadata": {},
          "execution_count": 18
        }
      ],
      "source": [
        "# Find the number of Nucleotides/Base within our seq\n",
        "# Count\n",
        "Seq1.count('G')"
      ]
    },
    {
      "cell_type": "code",
      "source": [
        "Seq1.count('A')"
      ],
      "metadata": {
        "colab": {
          "base_uri": "https://localhost:8080/"
        },
        "id": "eTS4T2gsk7qk",
        "outputId": "28f0bbd9-da26-45a9-847d-6864f4c3c1c4"
      },
      "execution_count": 19,
      "outputs": [
        {
          "output_type": "execute_result",
          "data": {
            "text/plain": [
              "4"
            ]
          },
          "metadata": {},
          "execution_count": 19
        }
      ]
    },
    {
      "cell_type": "code",
      "execution_count": 20,
      "metadata": {
        "id": "sKzQ9SdcZrrE",
        "colab": {
          "base_uri": "https://localhost:8080/"
        },
        "outputId": "6dcd5a7b-373e-49e3-fb91-911bed72b4c4"
      },
      "outputs": [
        {
          "output_type": "execute_result",
          "data": {
            "text/plain": [
              "1"
            ]
          },
          "metadata": {},
          "execution_count": 20
        }
      ],
      "source": [
        "# Count the number of codon (3B) within a seq\n",
        "Seq1.count('ATG')"
      ]
    },
    {
      "cell_type": "code",
      "execution_count": 21,
      "metadata": {
        "id": "Y_hir105ZrrE",
        "colab": {
          "base_uri": "https://localhost:8080/"
        },
        "outputId": "8bdd48a0-7193-4ec8-ed86-60eb1f0af89d"
      },
      "outputs": [
        {
          "output_type": "execute_result",
          "data": {
            "text/plain": [
              "2"
            ]
          },
          "metadata": {},
          "execution_count": 21
        }
      ],
      "source": [
        "# Find the position/location of a nucleotide\n",
        "Seq1.find('G')"
      ]
    },
    {
      "cell_type": "code",
      "source": [
        "Seq1"
      ],
      "metadata": {
        "colab": {
          "base_uri": "https://localhost:8080/"
        },
        "id": "te-9NX-Wlou3",
        "outputId": "e38ef3a5-1273-4333-824d-2e4ce1e972e4"
      },
      "execution_count": 22,
      "outputs": [
        {
          "output_type": "execute_result",
          "data": {
            "text/plain": [
              "Seq('ATGATCTCGTAA')"
            ]
          },
          "metadata": {},
          "execution_count": 22
        }
      ]
    },
    {
      "cell_type": "code",
      "execution_count": 23,
      "metadata": {
        "id": "St0avENZZrrF",
        "colab": {
          "base_uri": "https://localhost:8080/"
        },
        "outputId": "92e9aca4-a5ee-48a7-9aa3-0028324113d6"
      },
      "outputs": [
        {
          "output_type": "execute_result",
          "data": {
            "text/plain": [
              "8"
            ]
          },
          "metadata": {},
          "execution_count": 23
        }
      ],
      "source": [
        "# Find the position/location of a nucleotide from the right\n",
        "Seq1.rfind('G')"
      ]
    },
    {
      "cell_type": "code",
      "execution_count": 24,
      "metadata": {
        "id": "ufe3KwLnZrrF",
        "scrolled": true,
        "colab": {
          "base_uri": "https://localhost:8080/"
        },
        "outputId": "a225ddf3-df97-4409-a148-db15fb4bdfb7"
      },
      "outputs": [
        {
          "output_type": "execute_result",
          "data": {
            "text/plain": [
              "2"
            ]
          },
          "metadata": {},
          "execution_count": 24
        }
      ],
      "source": [
        "# Find the location/index using index\n",
        "Seq1.index('G')"
      ]
    },
    {
      "cell_type": "code",
      "execution_count": 25,
      "metadata": {
        "id": "5NW-jUE4ZrrF",
        "scrolled": true,
        "colab": {
          "base_uri": "https://localhost:8080/"
        },
        "outputId": "8876c1af-a028-47a4-c5f3-74efdccc1c7d"
      },
      "outputs": [
        {
          "output_type": "execute_result",
          "data": {
            "text/plain": [
              "8"
            ]
          },
          "metadata": {},
          "execution_count": 25
        }
      ],
      "source": [
        "# Find the location/index using index\n",
        "Seq1.rindex('G')"
      ]
    },
    {
      "cell_type": "markdown",
      "metadata": {
        "id": "2ROka1NOZrrG"
      },
      "source": [
        "#### Subsequences\n",
        "+ Search for a DNA subseq in sequence, return list of [subseq, positions]"
      ]
    },
    {
      "cell_type": "code",
      "execution_count": 26,
      "metadata": {
        "id": "jsy6BWTgZrrG"
      },
      "outputs": [],
      "source": [
        "# import nt_search from Bio.SeqUtils package\n"
      ]
    },
    {
      "cell_type": "code",
      "execution_count": 27,
      "metadata": {
        "id": "-OAiB6bVZrrG"
      },
      "outputs": [],
      "source": [
        "# create main and subsequence\n"
      ]
    },
    {
      "cell_type": "code",
      "execution_count": 28,
      "metadata": {
        "id": "z0SGfa_9ZrrG"
      },
      "outputs": [],
      "source": [
        "# Search the subsequence from main sequence\n"
      ]
    },
    {
      "cell_type": "markdown",
      "metadata": {
        "id": "2kLotrLRZrrH"
      },
      "source": [
        "#### Plot of Frequency of Nucleotides/Base"
      ]
    },
    {
      "cell_type": "code",
      "execution_count": 29,
      "metadata": {
        "id": "VlkbIYJOZrrH"
      },
      "outputs": [],
      "source": [
        "#Install matplotlib\n"
      ]
    },
    {
      "cell_type": "code",
      "execution_count": 30,
      "metadata": {
        "id": "9eSshHTGZrrH"
      },
      "outputs": [],
      "source": [
        "# import matplotlib.pyplot and assign as plt\n"
      ]
    },
    {
      "cell_type": "code",
      "execution_count": 31,
      "metadata": {
        "id": "PQSPe7UPZrrI"
      },
      "outputs": [],
      "source": [
        "# import Counter function from from collections package\n"
      ]
    },
    {
      "cell_type": "code",
      "execution_count": 32,
      "metadata": {
        "id": "9_Kv8zqpZrrI"
      },
      "outputs": [],
      "source": [
        "# create sequence and count the Nucletide frequency\n"
      ]
    },
    {
      "cell_type": "code",
      "execution_count": 33,
      "metadata": {
        "id": "Vz8guAGCZrrI"
      },
      "outputs": [],
      "source": [
        "# plot the DNA sequence Nucletide frequency\n"
      ]
    },
    {
      "cell_type": "code",
      "source": [
        "from Bio.SeqUtils import nt_search"
      ],
      "metadata": {
        "id": "abcp7iVtmGXo"
      },
      "execution_count": 34,
      "outputs": []
    },
    {
      "cell_type": "code",
      "source": [
        "main_Seq = Seq('ACTATT')\n",
        "subseq = Seq('ATT')"
      ],
      "metadata": {
        "id": "iAQifpkYmOY3"
      },
      "execution_count": 35,
      "outputs": []
    },
    {
      "cell_type": "code",
      "source": [
        "nt_search(str(main_Seq),str(subseq))"
      ],
      "metadata": {
        "colab": {
          "base_uri": "https://localhost:8080/"
        },
        "id": "MuW2v3_7mVq0",
        "outputId": "98e80558-b7b0-4b9c-c977-79c3379835c1"
      },
      "execution_count": 36,
      "outputs": [
        {
          "output_type": "execute_result",
          "data": {
            "text/plain": [
              "['ATT', 3]"
            ]
          },
          "metadata": {},
          "execution_count": 36
        }
      ]
    },
    {
      "cell_type": "code",
      "source": [
        "pip install matplotlib"
      ],
      "metadata": {
        "colab": {
          "base_uri": "https://localhost:8080/"
        },
        "id": "i3Hu9If9mcdZ",
        "outputId": "7bffa70c-71e5-4ccb-9668-8997e029ad77"
      },
      "execution_count": 37,
      "outputs": [
        {
          "output_type": "stream",
          "name": "stdout",
          "text": [
            "Requirement already satisfied: matplotlib in /usr/local/lib/python3.11/dist-packages (3.10.0)\n",
            "Requirement already satisfied: contourpy>=1.0.1 in /usr/local/lib/python3.11/dist-packages (from matplotlib) (1.3.2)\n",
            "Requirement already satisfied: cycler>=0.10 in /usr/local/lib/python3.11/dist-packages (from matplotlib) (0.12.1)\n",
            "Requirement already satisfied: fonttools>=4.22.0 in /usr/local/lib/python3.11/dist-packages (from matplotlib) (4.57.0)\n",
            "Requirement already satisfied: kiwisolver>=1.3.1 in /usr/local/lib/python3.11/dist-packages (from matplotlib) (1.4.8)\n",
            "Requirement already satisfied: numpy>=1.23 in /usr/local/lib/python3.11/dist-packages (from matplotlib) (2.0.2)\n",
            "Requirement already satisfied: packaging>=20.0 in /usr/local/lib/python3.11/dist-packages (from matplotlib) (24.2)\n",
            "Requirement already satisfied: pillow>=8 in /usr/local/lib/python3.11/dist-packages (from matplotlib) (11.1.0)\n",
            "Requirement already satisfied: pyparsing>=2.3.1 in /usr/local/lib/python3.11/dist-packages (from matplotlib) (3.2.3)\n",
            "Requirement already satisfied: python-dateutil>=2.7 in /usr/local/lib/python3.11/dist-packages (from matplotlib) (2.8.2)\n",
            "Requirement already satisfied: six>=1.5 in /usr/local/lib/python3.11/dist-packages (from python-dateutil>=2.7->matplotlib) (1.17.0)\n"
          ]
        }
      ]
    },
    {
      "cell_type": "code",
      "source": [
        "import matplotlib.pyplot as plt"
      ],
      "metadata": {
        "id": "XEkahto2mxfx"
      },
      "execution_count": 38,
      "outputs": []
    },
    {
      "cell_type": "code",
      "source": [
        "from collections import Counter"
      ],
      "metadata": {
        "id": "bLC4stIjmynD"
      },
      "execution_count": 39,
      "outputs": []
    },
    {
      "cell_type": "code",
      "source": [
        "dna_seq = Seq('ATGATCTCGTAA')"
      ],
      "metadata": {
        "id": "8Xq2Ob15m_eL"
      },
      "execution_count": 40,
      "outputs": []
    },
    {
      "cell_type": "code",
      "source": [
        "dna_freq = Counter(dna_seq)\n",
        "dna_freq"
      ],
      "metadata": {
        "colab": {
          "base_uri": "https://localhost:8080/"
        },
        "id": "rgg_-8cIm_rp",
        "outputId": "ef72bef9-4dc7-4736-a458-cedd7cff6c86"
      },
      "execution_count": 41,
      "outputs": [
        {
          "output_type": "execute_result",
          "data": {
            "text/plain": [
              "Counter({'A': 4, 'T': 4, 'G': 2, 'C': 2})"
            ]
          },
          "metadata": {},
          "execution_count": 41
        }
      ]
    },
    {
      "cell_type": "code",
      "source": [
        "plt.bar(dna_freq.keys(),dna_freq.values())"
      ],
      "metadata": {
        "colab": {
          "base_uri": "https://localhost:8080/",
          "height": 447
        },
        "id": "gC9StMLinT03",
        "outputId": "c4659bf8-5188-4b54-d267-d3f10780cc61"
      },
      "execution_count": 42,
      "outputs": [
        {
          "output_type": "execute_result",
          "data": {
            "text/plain": [
              "<BarContainer object of 4 artists>"
            ]
          },
          "metadata": {},
          "execution_count": 42
        },
        {
          "output_type": "display_data",
          "data": {
            "text/plain": [
              "<Figure size 640x480 with 1 Axes>"
            ],
            "image/png": "[encoded data removed]"
          },
          "metadata": {}
        }
      ]
    },
    {
      "cell_type": "code",
      "source": [
        "dna_seq1 = ('ATGCATGGTGCGCGA')\n",
        "dna_seq2 = ('ATTTGTGCTCCTGGA')"
      ],
      "metadata": {
        "id": "ocj3XU45nTk0"
      },
      "execution_count": 43,
      "outputs": []
    },
    {
      "cell_type": "code",
      "source": [
        "freq1 = Counter(dna_seq1)\n",
        "freq2 = Counter(dna_seq2)\n",
        "freq1\n",
        "freq2"
      ],
      "metadata": {
        "colab": {
          "base_uri": "https://localhost:8080/"
        },
        "id": "goE-7Iwen8B5",
        "outputId": "4d5a3f55-b1fe-433f-ca7b-0ea3dfc406da"
      },
      "execution_count": 44,
      "outputs": [
        {
          "output_type": "execute_result",
          "data": {
            "text/plain": [
              "Counter({'A': 2, 'T': 6, 'G': 4, 'C': 3})"
            ]
          },
          "metadata": {},
          "execution_count": 44
        }
      ]
    },
    {
      "cell_type": "code",
      "source": [
        "combined_freq = Counter(freq1) + Counter(freq2)"
      ],
      "metadata": {
        "id": "5a6GydgZn7k-"
      },
      "execution_count": 45,
      "outputs": []
    },
    {
      "cell_type": "code",
      "source": [
        "plt.bar(freq1.keys(), freq1.values())"
      ],
      "metadata": {
        "colab": {
          "base_uri": "https://localhost:8080/",
          "height": 447
        },
        "id": "vKwlji5aoT6F",
        "outputId": "e3b276d0-d46f-408e-d320-85a05dd1527d"
      },
      "execution_count": 46,
      "outputs": [
        {
          "output_type": "execute_result",
          "data": {
            "text/plain": [
              "<BarContainer object of 4 artists>"
            ]
          },
          "metadata": {},
          "execution_count": 46
        },
        {
          "output_type": "display_data",
          "data": {
            "text/plain": [
              "<Figure size 640x480 with 1 Axes>"
            ],
            "image/png": "[encoded data removed]"
          },
          "metadata": {}
        }
      ]
    },
    {
      "cell_type": "code",
      "source": [
        "plt.bar(freq2.keys(), freq2.values())"
      ],
      "metadata": {
        "colab": {
          "base_uri": "https://localhost:8080/",
          "height": 447
        },
        "id": "_360a6G-n7UN",
        "outputId": "e4932ae2-4d8b-49c1-bed5-44f6ea4e538b"
      },
      "execution_count": 47,
      "outputs": [
        {
          "output_type": "execute_result",
          "data": {
            "text/plain": [
              "<BarContainer object of 4 artists>"
            ]
          },
          "metadata": {},
          "execution_count": 47
        },
        {
          "output_type": "display_data",
          "data": {
            "text/plain": [
              "<Figure size 640x480 with 1 Axes>"
            ],
            "image/png": "[encoded data removed]"
          },
          "metadata": {}
        }
      ]
    },
    {
      "cell_type": "code",
      "source": [
        "plt.bar(combined_freq.keys(), combined_freq.values())"
      ],
      "metadata": {
        "colab": {
          "base_uri": "https://localhost:8080/",
          "height": 447
        },
        "id": "0KMtfL_on6aF",
        "outputId": "6f9a54ae-6b40-48dd-fac0-1653f3937ddf"
      },
      "execution_count": 48,
      "outputs": [
        {
          "output_type": "execute_result",
          "data": {
            "text/plain": [
              "<BarContainer object of 4 artists>"
            ]
          },
          "metadata": {},
          "execution_count": 48
        },
        {
          "output_type": "display_data",
          "data": {
            "text/plain": [
              "<Figure size 640x480 with 1 Axes>"
            ],
            "image/png": "[encoded data removed]"
          },
          "metadata": {}
        }
      ]
    },
    {
      "cell_type": "code",
      "source": [],
      "metadata": {
        "id": "DOobFGnun6vK"
      },
      "execution_count": 48,
      "outputs": []
    },
    {
      "cell_type": "markdown",
      "source": [],
      "metadata": {
        "id": "k6YsKHbnmqPr"
      }
    },
    {
      "cell_type": "markdown",
      "metadata": {
        "id": "qdZWcOlRZrrI"
      },
      "source": [
        "## LAB 2 DNA Composition Analysis"
      ]
    },
    {
      "cell_type": "markdown",
      "metadata": {
        "id": "gm9kM39KZrrJ"
      },
      "source": [
        "#### GC Contents In DNA\n",
        "+ GC-content (or guanine-cytosine content) is the percentage of nitrogenous bases in a DNA or RNA molecule\n",
        "that are either Guanine (G) or Cytosine (C)\n",
        "\n",
        "A=T\n",
        "G=-C\n",
        "\n",
        "#### Usefulness\n",
        "+ In polymerase chain reaction (PCR) experiments, the GC-content of short oligonucleotides known as primers is often used to predict their annealing temperature to the template DNA.\n",
        "+ A higher GC-content level indicates a relatively higher melting temperature.\n",
        "+ DNA with low GC-content is less stable than DNA with high GC-content\n",
        "+ High GC content DNA can make it difficult to perform PCR amplication due to difficulty in designing a primer long enough to provide great specifity\n",
        "\n"
      ]
    },
    {
      "cell_type": "code",
      "execution_count": 49,
      "metadata": {
        "id": "MuOnlktBZrrJ"
      },
      "outputs": [],
      "source": [
        "# import GC function from Bio.SeqUtils Package\n"
      ]
    },
    {
      "cell_type": "code",
      "execution_count": 50,
      "metadata": {
        "id": "D1KI-3SUZrrJ"
      },
      "outputs": [],
      "source": [
        "#Create DNA Sequence and run GC function\n"
      ]
    },
    {
      "cell_type": "code",
      "execution_count": 51,
      "metadata": {
        "id": "vu32h1WRZrrK"
      },
      "outputs": [],
      "source": [
        "# Method 2 : create a customized GC Counter function I\n"
      ]
    },
    {
      "cell_type": "code",
      "execution_count": 52,
      "metadata": {
        "id": "p-YF5ULMZrrK"
      },
      "outputs": [],
      "source": [
        "# Method 3 : create a customized GC Counter function II\n"
      ]
    },
    {
      "cell_type": "markdown",
      "metadata": {
        "id": "TgQliRz1ZrrM"
      },
      "source": [
        "#### AT Contents in DNA\n",
        "+ AT content is the percentage of nitrogenous bases in a DNA or RNA molecule that are either Adenine (A) or Thymine (T)\n",
        "+ AT base pairing yields only 2 hydrogen bonds"
      ]
    },
    {
      "cell_type": "code",
      "execution_count": 53,
      "metadata": {
        "id": "OyFZwOizZrrM"
      },
      "outputs": [],
      "source": [
        "# Method : create a customized AT Counter function\n"
      ]
    },
    {
      "cell_type": "markdown",
      "metadata": {
        "id": "mUZUzLnOZrrM"
      },
      "source": [
        "#### Melting  Point of DNA\n",
        "+ Higher GC means high melting point\n",
        "+ Tm_Wallace: 'Rule of thumb'\n",
        "+ Tm_GC: Empirical formulas based on GC content. Salt and mismatch corrections can be included.\n",
        "+ Tm_NN: Calculation based on nearest neighbor thermodynamics. Several tables for DNA/DNA, DNA/RNA and RNA/RNA hybridizations are included. Correction for mismatches, dangling ends, salt concentration and other additives are available."
      ]
    },
    {
      "cell_type": "code",
      "execution_count": 54,
      "metadata": {
        "id": "ekkW3MOTZrrN"
      },
      "outputs": [],
      "source": [
        "# import MeltingTemp function from from Bio.SeqUtils packages\n"
      ]
    },
    {
      "cell_type": "code",
      "execution_count": 55,
      "metadata": {
        "id": "-EYrSaaAZrrO"
      },
      "outputs": [],
      "source": [
        "#Calculate GC Content from DNA sequence"
      ]
    },
    {
      "cell_type": "code",
      "source": [
        "!pip install biopython\n",
        "from Bio.Seq import Seq\n",
        "from Bio.SeqUtils import MeltingTemp as mt\n",
        "# The following function calculates the GC skew for a DNA sequence\n",
        "def GC_skew(seq):\n",
        "    seq = Seq(seq) # Convert the string to a Bio.Seq object\n",
        "    g = seq.count('G')\n",
        "    c = seq.count('C')\n",
        "    if (g+c) == 0:\n",
        "        return 0\n",
        "    return (g - c) / (g + c)"
      ],
      "metadata": {
        "colab": {
          "base_uri": "https://localhost:8080/"
        },
        "id": "skaqK0yCNxbz",
        "outputId": "1d7df295-8299-442f-e4d5-c4df48e08b7a"
      },
      "execution_count": 56,
      "outputs": [
        {
          "output_type": "stream",
          "name": "stdout",
          "text": [
            "Requirement already satisfied: biopython in /usr/local/lib/python3.11/dist-packages (1.85)\n",
            "Requirement already satisfied: numpy in /usr/local/lib/python3.11/dist-packages (from biopython) (2.0.2)\n"
          ]
        }
      ]
    },
    {
      "cell_type": "code",
      "source": [
        "GC_skew(dna_seq2)"
      ],
      "metadata": {
        "colab": {
          "base_uri": "https://localhost:8080/"
        },
        "id": "u3-XfPJBNjqJ",
        "outputId": "762d6a04-97c1-4bd6-f12f-4a605d3b4409"
      },
      "execution_count": 57,
      "outputs": [
        {
          "output_type": "execute_result",
          "data": {
            "text/plain": [
              "0.14285714285714285"
            ]
          },
          "metadata": {},
          "execution_count": 57
        }
      ]
    },
    {
      "cell_type": "code",
      "execution_count": 58,
      "metadata": {
        "id": "aSpacMO9ZrrO",
        "colab": {
          "base_uri": "https://localhost:8080/"
        },
        "outputId": "987402e8-7121-42d1-9cab-3a6459469c72"
      },
      "outputs": [
        {
          "output_type": "execute_result",
          "data": {
            "text/plain": [
              "48.0"
            ]
          },
          "metadata": {},
          "execution_count": 58
        }
      ],
      "source": [
        "# check for the melting point using wallace\n",
        "mt.Tm_Wallace(dna_seq1)"
      ]
    },
    {
      "cell_type": "code",
      "source": [
        "mt.Tm_Wallace(dna_seq2)"
      ],
      "metadata": {
        "colab": {
          "base_uri": "https://localhost:8080/"
        },
        "id": "jHvt6lPSOZ2-",
        "outputId": "0b2b1dfb-4340-4238-ae3e-3d9b28460ef2"
      },
      "execution_count": 59,
      "outputs": [
        {
          "output_type": "execute_result",
          "data": {
            "text/plain": [
              "44.0"
            ]
          },
          "metadata": {},
          "execution_count": 59
        }
      ]
    },
    {
      "cell_type": "code",
      "execution_count": 60,
      "metadata": {
        "id": "msjzaTlLZrrO",
        "colab": {
          "base_uri": "https://localhost:8080/"
        },
        "outputId": "f0f93220-6f72-490d-a5a1-4f0cf4d8434a"
      },
      "outputs": [
        {
          "output_type": "execute_result",
          "data": {
            "text/plain": [
              "44.5029020719779"
            ]
          },
          "metadata": {},
          "execution_count": 60
        }
      ],
      "source": [
        "# Check for the melting point using GC content\n",
        "mt.Tm_GC(dna_seq1)"
      ]
    },
    {
      "cell_type": "code",
      "source": [
        "mt.Tm_GC(dna_seq2)"
      ],
      "metadata": {
        "colab": {
          "base_uri": "https://localhost:8080/"
        },
        "id": "N5mtELGHOqYA",
        "outputId": "c9c88a46-ca70-46f4-e5ce-c1e04485a0c0"
      },
      "execution_count": 61,
      "outputs": [
        {
          "output_type": "execute_result",
          "data": {
            "text/plain": [
              "39.03623540531123"
            ]
          },
          "metadata": {},
          "execution_count": 61
        }
      ]
    },
    {
      "cell_type": "markdown",
      "metadata": {
        "id": "aJco9MfSZrrO"
      },
      "source": [
        "#### Excersise\n",
        "+ Which of the following sequence will have the highest GC?\n",
        "+ contoh 1 = 'ATGCATGGTGCGCGA'\n",
        "+ contoh 2 = 'ATTTGTGCTCCTGGA'"
      ]
    },
    {
      "cell_type": "markdown",
      "metadata": {
        "id": "SiTaN7VCZrrR"
      },
      "source": [
        "#### Check for the  Molecular Weight\n",
        "+ ProtParam.ProteinAnalysis\n",
        "+ Counter from collections"
      ]
    },
    {
      "cell_type": "code",
      "execution_count": 62,
      "metadata": {
        "id": "CMEhKdeNZrrR"
      },
      "outputs": [],
      "source": [
        "# import molecular_weight function from from Bio.SeqUtils packages\n",
        "from Bio.SeqUtils import molecular_weight\n",
        "from Bio.Seq import Seq"
      ]
    },
    {
      "cell_type": "code",
      "execution_count": 63,
      "metadata": {
        "id": "lbh8oeZqZrrR"
      },
      "outputs": [],
      "source": [
        "#Create DNA Sequence\n",
        "dna1 = Seq('ATGCATGGTGCGCGA')\n",
        "dna2 = Seq('ATTTGTGCTCCTGGA')"
      ]
    },
    {
      "cell_type": "code",
      "execution_count": 64,
      "metadata": {
        "id": "bPnO1VUyZrrR",
        "colab": {
          "base_uri": "https://localhost:8080/"
        },
        "outputId": "8a868f69-b588-4b5d-eefe-2351acfd3883"
      },
      "outputs": [
        {
          "output_type": "execute_result",
          "data": {
            "text/plain": [
              "4712.995199999999"
            ]
          },
          "metadata": {},
          "execution_count": 64
        }
      ],
      "source": [
        "# Molecular weight of DNA nucleotide\n",
        "molecular_weight(dna1)"
      ]
    },
    {
      "cell_type": "code",
      "source": [
        "molecular_weight(dna2)"
      ],
      "metadata": {
        "colab": {
          "base_uri": "https://localhost:8080/"
        },
        "id": "1SmmsviQPnl6",
        "outputId": "f08cddee-000c-4605-aa9c-a608cacb91a0"
      },
      "execution_count": 65,
      "outputs": [
        {
          "output_type": "execute_result",
          "data": {
            "text/plain": [
              "4653.9565"
            ]
          },
          "metadata": {},
          "execution_count": 65
        }
      ]
    },
    {
      "cell_type": "code",
      "source": [
        "dna_seq2.count('A')"
      ],
      "metadata": {
        "colab": {
          "base_uri": "https://localhost:8080/"
        },
        "id": "5W3uDoFjPzGH",
        "outputId": "0d618aca-d615-48dd-ee60-e749c3bb0a16"
      },
      "execution_count": 66,
      "outputs": [
        {
          "output_type": "execute_result",
          "data": {
            "text/plain": [
              "2"
            ]
          },
          "metadata": {},
          "execution_count": 66
        }
      ]
    },
    {
      "cell_type": "code",
      "source": [
        "def gc_content(seq):\n",
        "  result = float(seq.count('G') + seq.count('C'))/len(seq) * 100\n",
        "  return result"
      ],
      "metadata": {
        "id": "75fa3sTGP3na"
      },
      "execution_count": 67,
      "outputs": []
    },
    {
      "cell_type": "code",
      "source": [
        "gc_content(dna_seq1)"
      ],
      "metadata": {
        "colab": {
          "base_uri": "https://localhost:8080/"
        },
        "id": "BNUCgxF8QJDX",
        "outputId": "cc3907e4-a08f-4d2b-f68a-eb2293082138"
      },
      "execution_count": 68,
      "outputs": [
        {
          "output_type": "execute_result",
          "data": {
            "text/plain": [
              "60.0"
            ]
          },
          "metadata": {},
          "execution_count": 68
        }
      ]
    },
    {
      "cell_type": "code",
      "source": [
        "gc_content(dna_seq2)"
      ],
      "metadata": {
        "colab": {
          "base_uri": "https://localhost:8080/"
        },
        "id": "ybYVelCKQOp0",
        "outputId": "9d1161a7-a076-484f-d347-ac351d12ddd9"
      },
      "execution_count": 69,
      "outputs": [
        {
          "output_type": "execute_result",
          "data": {
            "text/plain": [
              "46.666666666666664"
            ]
          },
          "metadata": {},
          "execution_count": 69
        }
      ]
    },
    {
      "cell_type": "code",
      "source": [
        "def gc_content2(seq):\n",
        "  gc = [ B for B in seq.upper() if B in 'GC']\n",
        "  result = float(len(gc))/len(seq * 100)\n",
        "  return result"
      ],
      "metadata": {
        "id": "ec6U6D24QRZD"
      },
      "execution_count": 70,
      "outputs": []
    },
    {
      "cell_type": "code",
      "source": [
        "import Bio.SeqUtils"
      ],
      "metadata": {
        "id": "paEwSu_xSM_4"
      },
      "execution_count": 71,
      "outputs": []
    },
    {
      "cell_type": "code",
      "source": [
        "dir(Bio.SeqUtils)"
      ],
      "metadata": {
        "colab": {
          "base_uri": "https://localhost:8080/"
        },
        "id": "5Ujuxto0SMrs",
        "outputId": "d9fdf4e7-c1a6-43c2-a0a4-9620e3759b94"
      },
      "execution_count": 72,
      "outputs": [
        {
          "output_type": "execute_result",
          "data": {
            "text/plain": [
              "['CodonAdaptationIndex',\n",
              " 'GC123',\n",
              " 'GC_skew',\n",
              " 'IUPACData',\n",
              " 'MeltingTemp',\n",
              " 'Seq',\n",
              " '__builtins__',\n",
              " '__cached__',\n",
              " '__doc__',\n",
              " '__file__',\n",
              " '__loader__',\n",
              " '__name__',\n",
              " '__package__',\n",
              " '__path__',\n",
              " '__spec__',\n",
              " '_gc_values',\n",
              " 'complement',\n",
              " 'complement_rna',\n",
              " 'cos',\n",
              " 'exp',\n",
              " 'gc_fraction',\n",
              " 'log',\n",
              " 'molecular_weight',\n",
              " 'nt_search',\n",
              " 'pi',\n",
              " 're',\n",
              " 'seq1',\n",
              " 'seq3',\n",
              " 'sin',\n",
              " 'six_frame_translations',\n",
              " 'standard_dna_table',\n",
              " 'translate',\n",
              " 'xGC_skew']"
            ]
          },
          "metadata": {},
          "execution_count": 72
        }
      ]
    },
    {
      "cell_type": "code",
      "source": [
        "\n",
        "from Bio.SeqUtils import MeltingTemp as mt"
      ],
      "metadata": {
        "id": "tsCVOECbSXlZ"
      },
      "execution_count": 73,
      "outputs": []
    },
    {
      "cell_type": "code",
      "source": [
        "dna_seq1"
      ],
      "metadata": {
        "colab": {
          "base_uri": "https://localhost:8080/",
          "height": 36
        },
        "id": "ljj5RlWKShZY",
        "outputId": "f99ca45b-7f83-4aa8-d2c9-ae866262ba71"
      },
      "execution_count": 74,
      "outputs": [
        {
          "output_type": "execute_result",
          "data": {
            "text/plain": [
              "'ATGCATGGTGCGCGA'"
            ],
            "application/vnd.google.colaboratory.intrinsic+json": {
              "type": "string"
            }
          },
          "metadata": {},
          "execution_count": 74
        }
      ]
    },
    {
      "cell_type": "code",
      "source": [
        "dna_seq2"
      ],
      "metadata": {
        "colab": {
          "base_uri": "https://localhost:8080/",
          "height": 36
        },
        "id": "ji3iFa_NSko1",
        "outputId": "500e62ff-98c7-4643-a401-ddf209affc34"
      },
      "execution_count": 75,
      "outputs": [
        {
          "output_type": "execute_result",
          "data": {
            "text/plain": [
              "'ATTTGTGCTCCTGGA'"
            ],
            "application/vnd.google.colaboratory.intrinsic+json": {
              "type": "string"
            }
          },
          "metadata": {},
          "execution_count": 75
        }
      ]
    },
    {
      "cell_type": "code",
      "source": [
        "GC_skew(dna_seq1)"
      ],
      "metadata": {
        "colab": {
          "base_uri": "https://localhost:8080/"
        },
        "id": "wR8gNvzzSkmJ",
        "outputId": "97934592-1aee-4d34-c63b-52951a73be55"
      },
      "execution_count": 76,
      "outputs": [
        {
          "output_type": "execute_result",
          "data": {
            "text/plain": [
              "0.3333333333333333"
            ]
          },
          "metadata": {},
          "execution_count": 76
        }
      ]
    },
    {
      "cell_type": "code",
      "source": [
        "def at_content(seq):\n",
        "  result = float(seq.cont('A') + seq.count('T'))/len(seq) * 100\n",
        "  return result"
      ],
      "metadata": {
        "id": "0fkaQXWbSkjs"
      },
      "execution_count": 77,
      "outputs": []
    },
    {
      "cell_type": "code",
      "source": [
        "gc_content2(dna_seq1)"
      ],
      "metadata": {
        "colab": {
          "base_uri": "https://localhost:8080/"
        },
        "id": "eqz6lNObSkg8",
        "outputId": "fc5ea99c-b1ea-48f2-a5b5-8ca7e6ee8376"
      },
      "execution_count": 78,
      "outputs": [
        {
          "output_type": "execute_result",
          "data": {
            "text/plain": [
              "0.006"
            ]
          },
          "metadata": {},
          "execution_count": 78
        }
      ]
    },
    {
      "cell_type": "code",
      "source": [
        "gc_content2(dna_seq2)"
      ],
      "metadata": {
        "colab": {
          "base_uri": "https://localhost:8080/"
        },
        "id": "H-KHoL7rSkeg",
        "outputId": "ac601304-8abe-4cd0-a5f3-61d8c4618ce4"
      },
      "execution_count": 79,
      "outputs": [
        {
          "output_type": "execute_result",
          "data": {
            "text/plain": [
              "0.004666666666666667"
            ]
          },
          "metadata": {},
          "execution_count": 79
        }
      ]
    },
    {
      "cell_type": "code",
      "source": [
        "dna_seq1.lower()"
      ],
      "metadata": {
        "colab": {
          "base_uri": "https://localhost:8080/",
          "height": 36
        },
        "id": "DuFEH4XYSkbI",
        "outputId": "9397a6d9-0988-43b8-cd9a-6bef77ba3e2f"
      },
      "execution_count": 80,
      "outputs": [
        {
          "output_type": "execute_result",
          "data": {
            "text/plain": [
              "'atgcatggtgcgcga'"
            ],
            "application/vnd.google.colaboratory.intrinsic+json": {
              "type": "string"
            }
          },
          "metadata": {},
          "execution_count": 80
        }
      ]
    },
    {
      "cell_type": "code",
      "source": [
        "dna_seq2.lower()"
      ],
      "metadata": {
        "colab": {
          "base_uri": "https://localhost:8080/",
          "height": 36
        },
        "id": "qqNnFBxiSkWd",
        "outputId": "6c72bdf7-1dcd-4b03-dfc4-8ec14421e965"
      },
      "execution_count": 81,
      "outputs": [
        {
          "output_type": "execute_result",
          "data": {
            "text/plain": [
              "'atttgtgctcctgga'"
            ],
            "application/vnd.google.colaboratory.intrinsic+json": {
              "type": "string"
            }
          },
          "metadata": {},
          "execution_count": 81
        }
      ]
    },
    {
      "cell_type": "code",
      "source": [
        "from Bio.SeqUtils import GC_skew"
      ],
      "metadata": {
        "id": "zM1M1zqKTtI2"
      },
      "execution_count": 82,
      "outputs": []
    },
    {
      "cell_type": "code",
      "source": [
        "dna_seq1 = Seq('ATGCATGGTGCGCGA')\n",
        "dna_seq2 = Seq('ATTTGTGCTCCTGGA')"
      ],
      "metadata": {
        "id": "7TKGj51fTtFu"
      },
      "execution_count": 83,
      "outputs": []
    },
    {
      "cell_type": "code",
      "source": [
        "GC_skew(dna_seq1)"
      ],
      "metadata": {
        "colab": {
          "base_uri": "https://localhost:8080/"
        },
        "id": "LmMveCh8UX1S",
        "outputId": "aaa89bfb-e654-4126-c4d5-735a622ceb37"
      },
      "execution_count": 84,
      "outputs": [
        {
          "output_type": "execute_result",
          "data": {
            "text/plain": [
              "[0.3333333333333333]"
            ]
          },
          "metadata": {},
          "execution_count": 84
        }
      ]
    },
    {
      "cell_type": "code",
      "source": [
        "GC_skew(dna_seq2)"
      ],
      "metadata": {
        "colab": {
          "base_uri": "https://localhost:8080/"
        },
        "id": "qVl2d2Z9TtCh",
        "outputId": "34bddf65-163f-4f87-d072-ca1cecba62cb"
      },
      "execution_count": 85,
      "outputs": [
        {
          "output_type": "execute_result",
          "data": {
            "text/plain": [
              "[0.14285714285714285]"
            ]
          },
          "metadata": {},
          "execution_count": 85
        }
      ]
    },
    {
      "cell_type": "code",
      "source": [
        "dna_seq1.count('A')"
      ],
      "metadata": {
        "colab": {
          "base_uri": "https://localhost:8080/"
        },
        "id": "jshf3G6dTs_C",
        "outputId": "db4d951b-e449-4aea-be34-168bd425390f"
      },
      "execution_count": 86,
      "outputs": [
        {
          "output_type": "execute_result",
          "data": {
            "text/plain": [
              "3"
            ]
          },
          "metadata": {},
          "execution_count": 86
        }
      ]
    },
    {
      "cell_type": "code",
      "source": [
        "gc_content2('ATGCATGGTGCGCGA')"
      ],
      "metadata": {
        "colab": {
          "base_uri": "https://localhost:8080/"
        },
        "id": "Tt6_7VDeTs7t",
        "outputId": "44a1fe7b-6e8b-4a05-8cdd-732153812bc8"
      },
      "execution_count": 87,
      "outputs": [
        {
          "output_type": "execute_result",
          "data": {
            "text/plain": [
              "0.006"
            ]
          },
          "metadata": {},
          "execution_count": 87
        }
      ]
    },
    {
      "cell_type": "code",
      "source": [
        "gc_content2('ATTTGTGCTCCTGGA')"
      ],
      "metadata": {
        "colab": {
          "base_uri": "https://localhost:8080/"
        },
        "id": "rduds-m9Ts49",
        "outputId": "72edef05-207a-44c7-ad6c-a51da9e22eec"
      },
      "execution_count": 88,
      "outputs": [
        {
          "output_type": "execute_result",
          "data": {
            "text/plain": [
              "0.004666666666666667"
            ]
          },
          "metadata": {},
          "execution_count": 88
        }
      ]
    },
    {
      "cell_type": "code",
      "source": [],
      "metadata": {
        "id": "WmI5s1b_Ts1P"
      },
      "execution_count": 88,
      "outputs": []
    },
    {
      "cell_type": "code",
      "source": [],
      "metadata": {
        "id": "7ZmkWKuKTswN"
      },
      "execution_count": 88,
      "outputs": []
    },
    {
      "cell_type": "code",
      "source": [],
      "metadata": {
        "id": "PilRBmMZTssw"
      },
      "execution_count": 88,
      "outputs": []
    },
    {
      "cell_type": "markdown",
      "metadata": {
        "id": "Q3eGwBsuZrrS"
      },
      "source": [
        "## Lab 3 : Protein Synthesis\n",
        "+ Protein synthesis is how cells make proteins using 2 stages\n",
        " - Transcription\n",
        " - Translation\n",
        "\n",
        "![](https://drive.google.com/uc?export=view&id=1q90fm_nu4SAr80Dly1NJ7aj63J4FjV24)"
      ]
    },
    {
      "cell_type": "code",
      "execution_count": 89,
      "metadata": {
        "id": "hHLcfSyiZrrS"
      },
      "outputs": [],
      "source": [
        "#Create DNA Sequence and calculate the length\n"
      ]
    },
    {
      "cell_type": "code",
      "execution_count": 90,
      "metadata": {
        "id": "J2ukl3gCZrrT"
      },
      "outputs": [],
      "source": [
        "# Calculate DNA sequence Complement\n",
        "# Be mind that AT = 2 hydrogen bonds GC = 3 hydrogen bonds\n"
      ]
    },
    {
      "cell_type": "code",
      "execution_count": 91,
      "metadata": {
        "id": "hqYFv8wSZrrT"
      },
      "outputs": [],
      "source": [
        "# Calculate DNA sequence reverse complement\n"
      ]
    },
    {
      "cell_type": "code",
      "execution_count": 92,
      "metadata": {
        "id": "Gu2dIvuvZrrT"
      },
      "outputs": [],
      "source": [
        "# custom function to Calculate DNA sequence complement\n"
      ]
    },
    {
      "cell_type": "markdown",
      "metadata": {
        "id": "yA_D5o6DZrrT"
      },
      "source": [
        "### Protein Synthesis\n",
        "![](https://drive.google.com/uc?export=view&id=1cwvbv3t0iU1-UmQhgS2L845vMUxajUHs)"
      ]
    },
    {
      "cell_type": "code",
      "execution_count": 93,
      "metadata": {
        "id": "GsgRusiWZrrU",
        "colab": {
          "base_uri": "https://localhost:8080/"
        },
        "outputId": "ff86cddb-ec9d-4eb0-c4de-4d74daae79b8"
      },
      "outputs": [
        {
          "output_type": "execute_result",
          "data": {
            "text/plain": [
              "Seq('ATGATCTCGTAA')"
            ]
          },
          "metadata": {},
          "execution_count": 93
        }
      ],
      "source": [
        "dna_seq"
      ]
    },
    {
      "cell_type": "code",
      "execution_count": 94,
      "metadata": {
        "id": "tiKJExt2ZrrU"
      },
      "outputs": [],
      "source": [
        "# Transcription : DNA to mRNA (Writing the message)\n"
      ]
    },
    {
      "cell_type": "code",
      "execution_count": 95,
      "metadata": {
        "id": "sVEJAeGBZrrU"
      },
      "outputs": [],
      "source": [
        "mRNA = dna_seq.transcribe()"
      ]
    },
    {
      "cell_type": "code",
      "execution_count": 96,
      "metadata": {
        "id": "xg3-0F37ZrrU"
      },
      "outputs": [],
      "source": [
        "# Translation : mRNA to Protein/Amino Acid\n",
        "# Method 1\n"
      ]
    },
    {
      "cell_type": "code",
      "execution_count": 97,
      "metadata": {
        "id": "palJYLEZZrrU"
      },
      "outputs": [],
      "source": [
        "# Method 2\n",
        "# Direct translation of DNA to Amino Acid\n"
      ]
    },
    {
      "cell_type": "code",
      "execution_count": 98,
      "metadata": {
        "id": "PRxq2dyTZrrV"
      },
      "outputs": [],
      "source": [
        "# Create our custom stop codon symbol\n"
      ]
    },
    {
      "cell_type": "code",
      "execution_count": 99,
      "metadata": {
        "id": "sgzmAKWgZrrV"
      },
      "outputs": [],
      "source": [
        "# Back Transcription : mRNA to DNA\n"
      ]
    },
    {
      "cell_type": "code",
      "execution_count": 100,
      "metadata": {
        "id": "YLlM86sUZrrV"
      },
      "outputs": [],
      "source": [
        "# Join the steps\n"
      ]
    },
    {
      "cell_type": "code",
      "execution_count": 101,
      "metadata": {
        "id": "dyGOIPeYZrrW"
      },
      "outputs": [],
      "source": [
        "# Convert Amino Acid to 3 letter codon"
      ]
    },
    {
      "cell_type": "code",
      "execution_count": 102,
      "metadata": {
        "id": "21OdgerBZrrW"
      },
      "outputs": [],
      "source": [
        "# Convert from 3 letters to 1 letter\n"
      ]
    },
    {
      "cell_type": "markdown",
      "metadata": {
        "id": "3J1GwxgqZrrW"
      },
      "source": [
        "### Amino Acids Codon Table\n",
        "![](https://github.com/AryaWiguna011/Tugas/blob/main/aminoacidchart1.png?raw=1)\n",
        "![](https://drive.google.com/uc?export=view&id=1NArwpAUNnCRm980LMHnrVO24MUXNTgy3)"
      ]
    },
    {
      "cell_type": "code",
      "execution_count": 103,
      "metadata": {
        "id": "xGhgWjN3ZrrX"
      },
      "outputs": [],
      "source": [
        "# View our codonTable\n"
      ]
    },
    {
      "cell_type": "code",
      "execution_count": 104,
      "metadata": {
        "id": "v9GU3KRyZrrX"
      },
      "outputs": [],
      "source": [
        "# check methods  & attributes\n"
      ]
    },
    {
      "cell_type": "code",
      "execution_count": 105,
      "metadata": {
        "id": "f-gN7v-gZrrX"
      },
      "outputs": [],
      "source": [
        "# DNA codon table\n"
      ]
    },
    {
      "cell_type": "code",
      "execution_count": 106,
      "metadata": {
        "id": "xvumKRYHZrrX"
      },
      "outputs": [],
      "source": [
        "# RNA codon table\n"
      ]
    },
    {
      "cell_type": "markdown",
      "metadata": {
        "id": "drVwNJGbZrro"
      },
      "source": [
        "### 3D Structure of Protein (OPTIONAL)\n",
        "+ File Format\n",
        " - pdb :PDBParser() legacy\n",
        " - cif :MMCIFParser() recent\n",
        "\n",
        "+ links\n",
        " - https://www.ncbi.nlm.nih.gov/Structure/pdb/6LU7\n",
        " - https://www.rcsb.org/search\n",
        " - Protein Data Bank\n",
        "\n",
        "+ Packages\n",
        " - pip install nglview\n",
        " - jupyter-nbextension enable nglview --py --sys-prefix\n",
        " - nglview enable\n",
        " - jupyter-labextension install @jupyter-widget/jupyterlab-manager\n",
        " - jupyter-labextension install nglview-js-widgets"
      ]
    },
    {
      "cell_type": "code",
      "execution_count": 107,
      "metadata": {
        "id": "81-rpvBAZrro",
        "scrolled": true
      },
      "outputs": [],
      "source": [
        "# Reading PDB Files\n",
        "\n",
        "# Create a parser\n"
      ]
    },
    {
      "cell_type": "code",
      "execution_count": 108,
      "metadata": {
        "id": "4mM1Wa-XZrro"
      },
      "outputs": [],
      "source": [
        "# The overall layout of a Structure object follows the so-called SMCRA\n",
        "# (Structure/Model/Chain/Residue/Atom) architecture:\n"
      ]
    },
    {
      "cell_type": "code",
      "execution_count": 109,
      "metadata": {
        "id": "f8Ll7c2IZrrp"
      },
      "outputs": [],
      "source": [
        "# Models in the structure\n"
      ]
    },
    {
      "cell_type": "code",
      "execution_count": 110,
      "metadata": {
        "id": "pOvsUnwhZrrp"
      },
      "outputs": [],
      "source": [
        "# Check for chains\n"
      ]
    },
    {
      "cell_type": "code",
      "execution_count": 111,
      "metadata": {
        "id": "ZZFBl355Zrrp"
      },
      "outputs": [],
      "source": [
        "# Check for Residue\n"
      ]
    },
    {
      "cell_type": "code",
      "execution_count": 112,
      "metadata": {
        "id": "xM-i5O_bZrrp"
      },
      "outputs": [],
      "source": [
        "# Check for atoms\n"
      ]
    },
    {
      "cell_type": "code",
      "execution_count": 113,
      "metadata": {
        "id": "Met0Uk8qZrrp",
        "colab": {
          "base_uri": "https://localhost:8080/"
        },
        "outputId": "8766453a-ad57-4538-bffb-e9fc80fcd220"
      },
      "outputs": [
        {
          "output_type": "stream",
          "name": "stdout",
          "text": [
            "Collecting py3Dmol\n",
            "  Downloading py3Dmol-2.4.2-py2.py3-none-any.whl.metadata (1.9 kB)\n",
            "Downloading py3Dmol-2.4.2-py2.py3-none-any.whl (7.0 kB)\n",
            "Installing collected packages: py3Dmol\n",
            "Successfully installed py3Dmol-2.4.2\n"
          ]
        }
      ],
      "source": [
        "!pip install py3Dmol\n",
        "import py3Dmol"
      ]
    },
    {
      "cell_type": "code",
      "execution_count": 114,
      "metadata": {
        "id": "UWzCVzZnZrrq",
        "colab": {
          "base_uri": "https://localhost:8080/",
          "height": 514
        },
        "outputId": "41833ac7-5193-45bf-ed37-b2c469dc01d6"
      },
      "outputs": [
        {
          "output_type": "display_data",
          "data": {
            "application/3dmoljs_load.v0": "<div id=\"3dmolviewer_17455730699735644\"  style=\"position: relative; width: 640px; height: 480px;\">\n        <p id=\"3dmolwarning_17455730699735644\" style=\"background-color:#ffcccc;color:black\">3Dmol.js failed to load for some reason.  Please check your browser console for error messages.<br></p>\n        </div>\n<script>\n\nvar loadScriptAsync = function(uri){\n  return new Promise((resolve, reject) => {\n    //this is to ignore the existence of requirejs amd\n    var savedexports, savedmodule;\n    if (typeof exports !== 'undefined') savedexports = exports;\n    else exports = {}\n    if (typeof module !== 'undefined') savedmodule = module;\n    else module = {}\n\n    var tag = document.createElement('script');\n    tag.src = uri;\n    tag.async = true;\n    tag.onload = () => {\n        exports = savedexports;\n        module = savedmodule;\n        resolve();\n    };\n  var firstScriptTag = document.getElementsByTagName('script')[0];\n  firstScriptTag.parentNode.insertBefore(tag, firstScriptTag);\n});\n};\n\nif(typeof $3Dmolpromise === 'undefined') {\n$3Dmolpromise = null;\n  $3Dmolpromise = loadScriptAsync('https://cdnjs.cloudflare.com/ajax/libs/3Dmol/2.4.2/3Dmol-min.js');\n}\n\nvar viewer_17455730699735644 = null;\nvar warn = document.getElementById(\"3dmolwarning_17455730699735644\");\nif(warn) {\n    warn.parentNode.removeChild(warn);\n}\n$3Dmolpromise.then(function() {\nviewer_17455730699735644 = $3Dmol.createViewer(document.getElementById(\"3dmolviewer_17455730699735644\"),{backgroundColor:\"white\"});\n$3Dmol.download(\"pdb:6LU7\", viewer_17455730699735644, {}, function() {\nviewer_17455730699735644.zoomTo();\n\tviewer_17455730699735644.setStyle({\"cartoon\": {\"color\": \"spectrum\"}});\nviewer_17455730699735644.render();\n})\n});\n</script>",
            "text/html": [
              "<div id=\"3dmolviewer_17455730699735644\"  style=\"position: relative; width: 640px; height: 480px;\">\n",
              "        <p id=\"3dmolwarning_17455730699735644\" style=\"background-color:#ffcccc;color:black\">3Dmol.js failed to load for some reason.  Please check your browser console for error messages.<br></p>\n",
              "        </div>\n",
              "<script>\n",
              "\n",
              "var loadScriptAsync = function(uri){\n",
              "  return new Promise((resolve, reject) => {\n",
              "    //this is to ignore the existence of requirejs amd\n",
              "    var savedexports, savedmodule;\n",
              "    if (typeof exports !== 'undefined') savedexports = exports;\n",
              "    else exports = {}\n",
              "    if (typeof module !== 'undefined') savedmodule = module;\n",
              "    else module = {}\n",
              "\n",
              "    var tag = document.createElement('script');\n",
              "    tag.src = uri;\n",
              "    tag.async = true;\n",
              "    tag.onload = () => {\n",
              "        exports = savedexports;\n",
              "        module = savedmodule;\n",
              "        resolve();\n",
              "    };\n",
              "  var firstScriptTag = document.getElementsByTagName('script')[0];\n",
              "  firstScriptTag.parentNode.insertBefore(tag, firstScriptTag);\n",
              "});\n",
              "};\n",
              "\n",
              "if(typeof $3Dmolpromise === 'undefined') {\n",
              "$3Dmolpromise = null;\n",
              "  $3Dmolpromise = loadScriptAsync('https://cdnjs.cloudflare.com/ajax/libs/3Dmol/2.4.2/3Dmol-min.js');\n",
              "}\n",
              "\n",
              "var viewer_17455730699735644 = null;\n",
              "var warn = document.getElementById(\"3dmolwarning_17455730699735644\");\n",
              "if(warn) {\n",
              "    warn.parentNode.removeChild(warn);\n",
              "}\n",
              "$3Dmolpromise.then(function() {\n",
              "viewer_17455730699735644 = $3Dmol.createViewer(document.getElementById(\"3dmolviewer_17455730699735644\"),{backgroundColor:\"white\"});\n",
              "$3Dmol.download(\"pdb:6LU7\", viewer_17455730699735644, {}, function() {\n",
              "viewer_17455730699735644.zoomTo();\n",
              "\tviewer_17455730699735644.setStyle({\"cartoon\": {\"color\": \"spectrum\"}});\n",
              "viewer_17455730699735644.render();\n",
              "})\n",
              "});\n",
              "</script>"
            ]
          },
          "metadata": {}
        },
        {
          "output_type": "execute_result",
          "data": {
            "text/plain": [
              "<py3Dmol.view at 0x7d094b5b64d0>"
            ]
          },
          "metadata": {},
          "execution_count": 114
        }
      ],
      "source": [
        "view1 = py3Dmol.view(query='pdb:6LU7')\n",
        "view1.setStyle({'cartoon':{'color':'spectrum'}})"
      ]
    },
    {
      "cell_type": "code",
      "execution_count": 115,
      "metadata": {
        "id": "1ZqxBqIeZrrq",
        "outputId": "df55e2a6-60bc-4fe1-cf78-c2c6bfe7a624",
        "colab": {
          "base_uri": "https://localhost:8080/",
          "height": 514
        }
      },
      "outputs": [
        {
          "output_type": "display_data",
          "data": {
            "application/3dmoljs_load.v0": "<div id=\"3dmolviewer_17455730699888463\"  style=\"position: relative; width: 640px; height: 480px;\">\n        <p id=\"3dmolwarning_17455730699888463\" style=\"background-color:#ffcccc;color:black\">3Dmol.js failed to load for some reason.  Please check your browser console for error messages.<br></p>\n        </div>\n<script>\n\nvar loadScriptAsync = function(uri){\n  return new Promise((resolve, reject) => {\n    //this is to ignore the existence of requirejs amd\n    var savedexports, savedmodule;\n    if (typeof exports !== 'undefined') savedexports = exports;\n    else exports = {}\n    if (typeof module !== 'undefined') savedmodule = module;\n    else module = {}\n\n    var tag = document.createElement('script');\n    tag.src = uri;\n    tag.async = true;\n    tag.onload = () => {\n        exports = savedexports;\n        module = savedmodule;\n        resolve();\n    };\n  var firstScriptTag = document.getElementsByTagName('script')[0];\n  firstScriptTag.parentNode.insertBefore(tag, firstScriptTag);\n});\n};\n\nif(typeof $3Dmolpromise === 'undefined') {\n$3Dmolpromise = null;\n  $3Dmolpromise = loadScriptAsync('https://cdnjs.cloudflare.com/ajax/libs/3Dmol/2.4.2/3Dmol-min.js');\n}\n\nvar viewer_17455730699888463 = null;\nvar warn = document.getElementById(\"3dmolwarning_17455730699888463\");\nif(warn) {\n    warn.parentNode.removeChild(warn);\n}\n$3Dmolpromise.then(function() {\nviewer_17455730699888463 = $3Dmol.createViewer(document.getElementById(\"3dmolviewer_17455730699888463\"),{backgroundColor:\"white\"});\n$3Dmol.download(\"pdb:4ZS6\", viewer_17455730699888463, {}, function() {\nviewer_17455730699888463.zoomTo();\n\tviewer_17455730699888463.setStyle({\"cartoon\": {\"color\": \"spectrum\"}});\nviewer_17455730699888463.render();\n})\n});\n</script>",
            "text/html": [
              "<div id=\"3dmolviewer_17455730699888463\"  style=\"position: relative; width: 640px; height: 480px;\">\n",
              "        <p id=\"3dmolwarning_17455730699888463\" style=\"background-color:#ffcccc;color:black\">3Dmol.js failed to load for some reason.  Please check your browser console for error messages.<br></p>\n",
              "        </div>\n",
              "<script>\n",
              "\n",
              "var loadScriptAsync = function(uri){\n",
              "  return new Promise((resolve, reject) => {\n",
              "    //this is to ignore the existence of requirejs amd\n",
              "    var savedexports, savedmodule;\n",
              "    if (typeof exports !== 'undefined') savedexports = exports;\n",
              "    else exports = {}\n",
              "    if (typeof module !== 'undefined') savedmodule = module;\n",
              "    else module = {}\n",
              "\n",
              "    var tag = document.createElement('script');\n",
              "    tag.src = uri;\n",
              "    tag.async = true;\n",
              "    tag.onload = () => {\n",
              "        exports = savedexports;\n",
              "        module = savedmodule;\n",
              "        resolve();\n",
              "    };\n",
              "  var firstScriptTag = document.getElementsByTagName('script')[0];\n",
              "  firstScriptTag.parentNode.insertBefore(tag, firstScriptTag);\n",
              "});\n",
              "};\n",
              "\n",
              "if(typeof $3Dmolpromise === 'undefined') {\n",
              "$3Dmolpromise = null;\n",
              "  $3Dmolpromise = loadScriptAsync('https://cdnjs.cloudflare.com/ajax/libs/3Dmol/2.4.2/3Dmol-min.js');\n",
              "}\n",
              "\n",
              "var viewer_17455730699888463 = null;\n",
              "var warn = document.getElementById(\"3dmolwarning_17455730699888463\");\n",
              "if(warn) {\n",
              "    warn.parentNode.removeChild(warn);\n",
              "}\n",
              "$3Dmolpromise.then(function() {\n",
              "viewer_17455730699888463 = $3Dmol.createViewer(document.getElementById(\"3dmolviewer_17455730699888463\"),{backgroundColor:\"white\"});\n",
              "$3Dmol.download(\"pdb:4ZS6\", viewer_17455730699888463, {}, function() {\n",
              "viewer_17455730699888463.zoomTo();\n",
              "\tviewer_17455730699888463.setStyle({\"cartoon\": {\"color\": \"spectrum\"}});\n",
              "viewer_17455730699888463.render();\n",
              "})\n",
              "});\n",
              "</script>"
            ]
          },
          "metadata": {}
        },
        {
          "output_type": "execute_result",
          "data": {
            "text/plain": [
              "<py3Dmol.view at 0x7d09484f21d0>"
            ]
          },
          "metadata": {},
          "execution_count": 115
        }
      ],
      "source": [
        "view2 = py3Dmol.view(query='pdb:4ZS6')\n",
        "view2.setStyle({'cartoon':{'color':'spectrum'}})"
      ]
    },
    {
      "cell_type": "markdown",
      "metadata": {
        "id": "qB7JOs0EZrrY"
      },
      "source": [
        "## Lab 4 Sequence Alignment"
      ]
    },
    {
      "cell_type": "markdown",
      "metadata": {
        "id": "mFZqUCpMZrrY"
      },
      "source": [
        "### Sequence Alignment\n",
        "+ Sequence alignment is a method of arranging sequences of DNA, RNA, or Amino Acids or proteins to identify regions of similarity.\n",
        "+ The similarity being identified, may be a result of functional, structural, or evolutionary relationships between the sequences.\n",
        "+ It is useful in identifying similarity and homology\n",
        "+ Homology: descent from a common ancestor or source.\n",
        "\n",
        "#### Terms\n",
        "+ Matches\n",
        "+ Mismatches\n",
        "+ Gap\n",
        "\n",
        "![](https://drive.google.com/uc?export=view&id=1xjcoAfhvq0JY-Oc7EiVH-syEe5qamdrw)\n",
        "\n",
        "#### Alignment Types\n",
        "+ Global alignment: finds the best concordance/agreement betwenn all characters in two sequences\n",
        "    + Mostly from end to end\n",
        "    + By Needle\n",
        "+ Local Alignment: finds just the subsequences that align the best\n",
        "    + In this method, we consider subsequences within each of the 2 sequences and try to match them to obtain the best alignment.\n",
        "    + By Water\n",
        "\n",
        "![](https://drive.google.com/uc?export=view&id=1NRwK49u9zjKN9KjiJZyBprlYFr6PPWe5)\n",
        "\n",
        "#### When to use local alignment\n",
        "\n",
        "+ 2 sequences have a small matched region\n",
        "+ 2 Sequences are of different lengths\n",
        "+ Overlapping sequences\n",
        "+ One sequences is a subsequences of the other\n",
        "\n",
        "+ Blast\n",
        "+ Emboss"
      ]
    },
    {
      "cell_type": "code",
      "execution_count": 116,
      "metadata": {
        "id": "9moTFXCKZrrY",
        "colab": {
          "base_uri": "https://localhost:8080/"
        },
        "outputId": "6a191ed9-318e-4756-bd32-ff89258d0bd6"
      },
      "outputs": [
        {
          "output_type": "stream",
          "name": "stderr",
          "text": [
            "/usr/local/lib/python3.11/dist-packages/Bio/pairwise2.py:278: BiopythonDeprecationWarning: Bio.pairwise2 has been deprecated, and we intend to remove it in a future release of Biopython. As an alternative, please consider using Bio.Align.PairwiseAligner as a replacement, and contact the Biopython developers if you still need the Bio.pairwise2 module.\n",
            "  warnings.warn(\n"
          ]
        }
      ],
      "source": [
        "# import the required functions (pairwise2 and format_alignment) from Bio packages\n",
        "from Bio import pairwise2\n",
        "from Bio.pairwise2 import format_alignment"
      ]
    },
    {
      "cell_type": "code",
      "execution_count": 198,
      "metadata": {
        "id": "mX2RIvV1ZrrZ"
      },
      "outputs": [],
      "source": [
        "# create example sequences\n",
        "seq1 = Seq('ATGCATGGTGCGCGA')\n",
        "seq2 = Seq('ATTTGTGCTCCTGGA')"
      ]
    },
    {
      "cell_type": "code",
      "execution_count": 199,
      "metadata": {
        "id": "1GShHX88ZrrZ"
      },
      "outputs": [],
      "source": [
        "# Perform Global Alignment\n",
        "alignments = pairwise2.align.globalxx(seq1,seq2)"
      ]
    },
    {
      "cell_type": "code",
      "source": [
        "alignments"
      ],
      "metadata": {
        "colab": {
          "base_uri": "https://localhost:8080/"
        },
        "id": "yIBptZ1M42Xt",
        "outputId": "ed5a91c4-7d03-4f94-b1d1-4f24b81a4372"
      },
      "execution_count": 200,
      "outputs": [
        {
          "output_type": "execute_result",
          "data": {
            "text/plain": [
              "[Alignment(seqA='ATGCATG-GTGCG-C--G-A', seqB='AT---T-TGTGC-TCCTGGA', score=10.0, start=0, end=20),\n",
              " Alignment(seqA='ATGCATGGTGCG-C--G-A', seqB='AT---TTGTGC-TCCTGGA', score=10.0, start=0, end=19),\n",
              " Alignment(seqA='ATGCA-TGGTGCG-C--G-A', seqB='AT---TT-GTGC-TCCTGGA', score=10.0, start=0, end=20),\n",
              " Alignment(seqA='ATGCATGGTGCG-C--G-A', seqB='AT--TT-GTGC-TCCTGGA', score=10.0, start=0, end=19),\n",
              " Alignment(seqA='ATGCATGGTGCG-C--G-A', seqB='AT-T-T-GTGC-TCCTGGA', score=10.0, start=0, end=19),\n",
              " Alignment(seqA='ATGCATGGTGCG-C--G-A', seqB='ATT--T-GTGC-TCCTGGA', score=10.0, start=0, end=19),\n",
              " Alignment(seqA='A-TGCATGGTGCG-C--G-A', seqB='ATT---T-GTGC-TCCTGGA', score=10.0, start=0, end=20),\n",
              " Alignment(seqA='ATGCAT-GGTGCG-C--G-A', seqB='AT---TTG-TGC-TCCTGGA', score=10.0, start=0, end=20),\n",
              " Alignment(seqA='ATGCA-TGGTGCG-C--G-A', seqB='AT---TTG-TGC-TCCTGGA', score=10.0, start=0, end=20),\n",
              " Alignment(seqA='ATGCATGGTGCG-C--G-A', seqB='AT--TTG-TGC-TCCTGGA', score=10.0, start=0, end=19),\n",
              " Alignment(seqA='ATGCATGGTGCG-C--G-A', seqB='AT-T-TG-TGC-TCCTGGA', score=10.0, start=0, end=19),\n",
              " Alignment(seqA='ATGCATGGTGCG-C--G-A', seqB='ATT--TG-TGC-TCCTGGA', score=10.0, start=0, end=19),\n",
              " Alignment(seqA='A-TGCATGGTGCG-C--G-A', seqB='ATT---TG-TGC-TCCTGGA', score=10.0, start=0, end=20),\n",
              " Alignment(seqA='ATGCATG-GTGCGC--G-A', seqB='AT---T-TGTGCTCCTGGA', score=10.0, start=0, end=19),\n",
              " Alignment(seqA='ATGCATGGTGCGC--G-A', seqB='AT---TTGTGCTCCTGGA', score=10.0, start=0, end=18),\n",
              " Alignment(seqA='ATGCA-TGGTGCGC--G-A', seqB='AT---TT-GTGCTCCTGGA', score=10.0, start=0, end=19),\n",
              " Alignment(seqA='ATGCATGGTGCGC--G-A', seqB='AT--TT-GTGCTCCTGGA', score=10.0, start=0, end=18),\n",
              " Alignment(seqA='ATGCATGGTGCGC--G-A', seqB='AT-T-T-GTGCTCCTGGA', score=10.0, start=0, end=18),\n",
              " Alignment(seqA='ATGCATGGTGCGC--G-A', seqB='ATT--T-GTGCTCCTGGA', score=10.0, start=0, end=18),\n",
              " Alignment(seqA='A-TGCATGGTGCGC--G-A', seqB='ATT---T-GTGCTCCTGGA', score=10.0, start=0, end=19),\n",
              " Alignment(seqA='ATGCAT-GGTGCGC--G-A', seqB='AT---TTG-TGCTCCTGGA', score=10.0, start=0, end=19),\n",
              " Alignment(seqA='ATGCA-TGGTGCGC--G-A', seqB='AT---TTG-TGCTCCTGGA', score=10.0, start=0, end=19),\n",
              " Alignment(seqA='ATGCATGGTGCGC--G-A', seqB='AT--TTG-TGCTCCTGGA', score=10.0, start=0, end=18),\n",
              " Alignment(seqA='ATGCATGGTGCGC--G-A', seqB='AT-T-TG-TGCTCCTGGA', score=10.0, start=0, end=18),\n",
              " Alignment(seqA='ATGCATGGTGCGC--G-A', seqB='ATT--TG-TGCTCCTGGA', score=10.0, start=0, end=18),\n",
              " Alignment(seqA='A-TGCATGGTGCGC--G-A', seqB='ATT---TG-TGCTCCTGGA', score=10.0, start=0, end=19),\n",
              " Alignment(seqA='ATGCATG-GTGCG--C-G-A', seqB='AT---T-TGTGC-TCCTGGA', score=10.0, start=0, end=20),\n",
              " Alignment(seqA='ATGCATGGTGCG--C-G-A', seqB='AT---TTGTGC-TCCTGGA', score=10.0, start=0, end=19),\n",
              " Alignment(seqA='ATGCA-TGGTGCG--C-G-A', seqB='AT---TT-GTGC-TCCTGGA', score=10.0, start=0, end=20),\n",
              " Alignment(seqA='ATGCATGGTGCG--C-G-A', seqB='AT--TT-GTGC-TCCTGGA', score=10.0, start=0, end=19),\n",
              " Alignment(seqA='ATGCATGGTGCG--C-G-A', seqB='AT-T-T-GTGC-TCCTGGA', score=10.0, start=0, end=19),\n",
              " Alignment(seqA='ATGCATGGTGCG--C-G-A', seqB='ATT--T-GTGC-TCCTGGA', score=10.0, start=0, end=19),\n",
              " Alignment(seqA='A-TGCATGGTGCG--C-G-A', seqB='ATT---T-GTGC-TCCTGGA', score=10.0, start=0, end=20),\n",
              " Alignment(seqA='ATGCAT-GGTGCG--C-G-A', seqB='AT---TTG-TGC-TCCTGGA', score=10.0, start=0, end=20),\n",
              " Alignment(seqA='ATGCA-TGGTGCG--C-G-A', seqB='AT---TTG-TGC-TCCTGGA', score=10.0, start=0, end=20),\n",
              " Alignment(seqA='ATGCATGGTGCG--C-G-A', seqB='AT--TTG-TGC-TCCTGGA', score=10.0, start=0, end=19),\n",
              " Alignment(seqA='ATGCATGGTGCG--C-G-A', seqB='AT-T-TG-TGC-TCCTGGA', score=10.0, start=0, end=19),\n",
              " Alignment(seqA='ATGCATGGTGCG--C-G-A', seqB='ATT--TG-TGC-TCCTGGA', score=10.0, start=0, end=19),\n",
              " Alignment(seqA='A-TGCATGGTGCG--C-G-A', seqB='ATT---TG-TGC-TCCTGGA', score=10.0, start=0, end=20),\n",
              " Alignment(seqA='ATGCATG-GTGCG-C-G-A', seqB='AT---T-TGTGCTCCTGGA', score=10.0, start=0, end=19),\n",
              " Alignment(seqA='ATGCATGGTGCG-C-G-A', seqB='AT---TTGTGCTCCTGGA', score=10.0, start=0, end=18),\n",
              " Alignment(seqA='ATGCA-TGGTGCG-C-G-A', seqB='AT---TT-GTGCTCCTGGA', score=10.0, start=0, end=19),\n",
              " Alignment(seqA='ATGCATGGTGCG-C-G-A', seqB='AT--TT-GTGCTCCTGGA', score=10.0, start=0, end=18),\n",
              " Alignment(seqA='ATGCATGGTGCG-C-G-A', seqB='AT-T-T-GTGCTCCTGGA', score=10.0, start=0, end=18),\n",
              " Alignment(seqA='ATGCATGGTGCG-C-G-A', seqB='ATT--T-GTGCTCCTGGA', score=10.0, start=0, end=18),\n",
              " Alignment(seqA='A-TGCATGGTGCG-C-G-A', seqB='ATT---T-GTGCTCCTGGA', score=10.0, start=0, end=19),\n",
              " Alignment(seqA='ATGCAT-GGTGCG-C-G-A', seqB='AT---TTG-TGCTCCTGGA', score=10.0, start=0, end=19),\n",
              " Alignment(seqA='ATGCA-TGGTGCG-C-G-A', seqB='AT---TTG-TGCTCCTGGA', score=10.0, start=0, end=19),\n",
              " Alignment(seqA='ATGCATGGTGCG-C-G-A', seqB='AT--TTG-TGCTCCTGGA', score=10.0, start=0, end=18),\n",
              " Alignment(seqA='ATGCATGGTGCG-C-G-A', seqB='AT-T-TG-TGCTCCTGGA', score=10.0, start=0, end=18),\n",
              " Alignment(seqA='ATGCATGGTGCG-C-G-A', seqB='ATT--TG-TGCTCCTGGA', score=10.0, start=0, end=18),\n",
              " Alignment(seqA='A-TGCATGGTGCG-C-G-A', seqB='ATT---TG-TGCTCCTGGA', score=10.0, start=0, end=19),\n",
              " Alignment(seqA='ATGCATG-GTGC-GC-G-A', seqB='AT---T-TGTGCTCCTGGA', score=10.0, start=0, end=19),\n",
              " Alignment(seqA='ATGCATGGTGC-GC-G-A', seqB='AT---TTGTGCTCCTGGA', score=10.0, start=0, end=18),\n",
              " Alignment(seqA='ATGCA-TGGTGC-GC-G-A', seqB='AT---TT-GTGCTCCTGGA', score=10.0, start=0, end=19),\n",
              " Alignment(seqA='ATGCATGGTGC-GC-G-A', seqB='AT--TT-GTGCTCCTGGA', score=10.0, start=0, end=18),\n",
              " Alignment(seqA='ATGCATGGTGC-GC-G-A', seqB='AT-T-T-GTGCTCCTGGA', score=10.0, start=0, end=18),\n",
              " Alignment(seqA='ATGCATGGTGC-GC-G-A', seqB='ATT--T-GTGCTCCTGGA', score=10.0, start=0, end=18),\n",
              " Alignment(seqA='A-TGCATGGTGC-GC-G-A', seqB='ATT---T-GTGCTCCTGGA', score=10.0, start=0, end=19),\n",
              " Alignment(seqA='ATGCAT-GGTGC-GC-G-A', seqB='AT---TTG-TGCTCCTGGA', score=10.0, start=0, end=19),\n",
              " Alignment(seqA='ATGCA-TGGTGC-GC-G-A', seqB='AT---TTG-TGCTCCTGGA', score=10.0, start=0, end=19),\n",
              " Alignment(seqA='ATGCATGGTGC-GC-G-A', seqB='AT--TTG-TGCTCCTGGA', score=10.0, start=0, end=18),\n",
              " Alignment(seqA='ATGCATGGTGC-GC-G-A', seqB='AT-T-TG-TGCTCCTGGA', score=10.0, start=0, end=18),\n",
              " Alignment(seqA='ATGCATGGTGC-GC-G-A', seqB='ATT--TG-TGCTCCTGGA', score=10.0, start=0, end=18),\n",
              " Alignment(seqA='A-TGCATGGTGC-GC-G-A', seqB='ATT---TG-TGCTCCTGGA', score=10.0, start=0, end=19),\n",
              " Alignment(seqA='ATGCATG-GTG--CGC-G-A', seqB='AT---T-TGTGCTC-CTGGA', score=10.0, start=0, end=20),\n",
              " Alignment(seqA='ATGCATGGTG--CGC-G-A', seqB='AT---TTGTGCTC-CTGGA', score=10.0, start=0, end=19),\n",
              " Alignment(seqA='ATGCA-TGGTG--CGC-G-A', seqB='AT---TT-GTGCTC-CTGGA', score=10.0, start=0, end=20),\n",
              " Alignment(seqA='ATGCATGGTG--CGC-G-A', seqB='AT--TT-GTGCTC-CTGGA', score=10.0, start=0, end=19),\n",
              " Alignment(seqA='ATGCATGGTG--CGC-G-A', seqB='AT-T-T-GTGCTC-CTGGA', score=10.0, start=0, end=19),\n",
              " Alignment(seqA='ATGCATGGTG--CGC-G-A', seqB='ATT--T-GTGCTC-CTGGA', score=10.0, start=0, end=19),\n",
              " Alignment(seqA='A-TGCATGGTG--CGC-G-A', seqB='ATT---T-GTGCTC-CTGGA', score=10.0, start=0, end=20),\n",
              " Alignment(seqA='ATGCAT-GGTG--CGC-G-A', seqB='AT---TTG-TGCTC-CTGGA', score=10.0, start=0, end=20),\n",
              " Alignment(seqA='ATGCA-TGGTG--CGC-G-A', seqB='AT---TTG-TGCTC-CTGGA', score=10.0, start=0, end=20),\n",
              " Alignment(seqA='ATGCATGGTG--CGC-G-A', seqB='AT--TTG-TGCTC-CTGGA', score=10.0, start=0, end=19),\n",
              " Alignment(seqA='ATGCATGGTG--CGC-G-A', seqB='AT-T-TG-TGCTC-CTGGA', score=10.0, start=0, end=19),\n",
              " Alignment(seqA='ATGCATGGTG--CGC-G-A', seqB='ATT--TG-TGCTC-CTGGA', score=10.0, start=0, end=19),\n",
              " Alignment(seqA='A-TGCATGGTG--CGC-G-A', seqB='ATT---TG-TGCTC-CTGGA', score=10.0, start=0, end=20),\n",
              " Alignment(seqA='ATGCAT-G-G-TGCGC-G-A', seqB='AT---TTGTGCT-C-CTGGA', score=10.0, start=0, end=20),\n",
              " Alignment(seqA='ATGCA-TG-G-TGCGC-G-A', seqB='AT---TTGTGCT-C-CTGGA', score=10.0, start=0, end=20),\n",
              " Alignment(seqA='ATGCATG-G-TGCGC-G-A', seqB='AT--TTGTGCT-C-CTGGA', score=10.0, start=0, end=19),\n",
              " Alignment(seqA='ATGCATG-G-TGCGC-G-A', seqB='AT-T-TGTGCT-C-CTGGA', score=10.0, start=0, end=19),\n",
              " Alignment(seqA='ATGCATG-G-TGCGC-G-A', seqB='ATT--TGTGCT-C-CTGGA', score=10.0, start=0, end=19),\n",
              " Alignment(seqA='A-TGCATG-G-TGCGC-G-A', seqB='ATT---TGTGCT-C-CTGGA', score=10.0, start=0, end=20),\n",
              " Alignment(seqA='AT--GCATGG-TGCGC-G-A', seqB='ATTTG--T-GCT-C-CTGGA', score=10.0, start=0, end=20),\n",
              " Alignment(seqA='A-T-GCATGG-TGCGC-G-A', seqB='ATTTG--T-GCT-C-CTGGA', score=10.0, start=0, end=20),\n",
              " Alignment(seqA='A--TGCATGG-TGCGC-G-A', seqB='ATTTG--T-GCT-C-CTGGA', score=10.0, start=0, end=20),\n",
              " Alignment(seqA='AT--GCATGG-TGCGC-G-A', seqB='ATTTG--TG-CT-C-CTGGA', score=10.0, start=0, end=20),\n",
              " Alignment(seqA='A-T-GCATGG-TGCGC-G-A', seqB='ATTTG--TG-CT-C-CTGGA', score=10.0, start=0, end=20),\n",
              " Alignment(seqA='A--TGCATGG-TGCGC-G-A', seqB='ATTTG--TG-CT-C-CTGGA', score=10.0, start=0, end=20),\n",
              " Alignment(seqA='AT--GCATGGTGCGC-G-A', seqB='ATTTG--TGCT-C-CTGGA', score=10.0, start=0, end=19),\n",
              " Alignment(seqA='A-T-GCATGGTGCGC-G-A', seqB='ATTTG--TGCT-C-CTGGA', score=10.0, start=0, end=19),\n",
              " Alignment(seqA='A--TGCATGGTGCGC-G-A', seqB='ATTTG--TGCT-C-CTGGA', score=10.0, start=0, end=19),\n",
              " Alignment(seqA='ATGCATG-GTGCG-C---GA', seqB='AT---T-TGTGC-TCCTGGA', score=10.0, start=0, end=20),\n",
              " Alignment(seqA='ATGCATGGTGCG-C---GA', seqB='AT---TTGTGC-TCCTGGA', score=10.0, start=0, end=19),\n",
              " Alignment(seqA='ATGCA-TGGTGCG-C---GA', seqB='AT---TT-GTGC-TCCTGGA', score=10.0, start=0, end=20),\n",
              " Alignment(seqA='ATGCATGGTGCG-C---GA', seqB='AT--TT-GTGC-TCCTGGA', score=10.0, start=0, end=19),\n",
              " Alignment(seqA='ATGCATGGTGCG-C---GA', seqB='AT-T-T-GTGC-TCCTGGA', score=10.0, start=0, end=19),\n",
              " Alignment(seqA='ATGCATGGTGCG-C---GA', seqB='ATT--T-GTGC-TCCTGGA', score=10.0, start=0, end=19),\n",
              " Alignment(seqA='A-TGCATGGTGCG-C---GA', seqB='ATT---T-GTGC-TCCTGGA', score=10.0, start=0, end=20),\n",
              " Alignment(seqA='ATGCAT-GGTGCG-C---GA', seqB='AT---TTG-TGC-TCCTGGA', score=10.0, start=0, end=20),\n",
              " Alignment(seqA='ATGCA-TGGTGCG-C---GA', seqB='AT---TTG-TGC-TCCTGGA', score=10.0, start=0, end=20),\n",
              " Alignment(seqA='ATGCATGGTGCG-C---GA', seqB='AT--TTG-TGC-TCCTGGA', score=10.0, start=0, end=19),\n",
              " Alignment(seqA='ATGCATGGTGCG-C---GA', seqB='AT-T-TG-TGC-TCCTGGA', score=10.0, start=0, end=19),\n",
              " Alignment(seqA='ATGCATGGTGCG-C---GA', seqB='ATT--TG-TGC-TCCTGGA', score=10.0, start=0, end=19),\n",
              " Alignment(seqA='A-TGCATGGTGCG-C---GA', seqB='ATT---TG-TGC-TCCTGGA', score=10.0, start=0, end=20),\n",
              " Alignment(seqA='ATGCATG-GTGCGC---GA', seqB='AT---T-TGTGCTCCTGGA', score=10.0, start=0, end=19),\n",
              " Alignment(seqA='ATGCATGGTGCGC---GA', seqB='AT---TTGTGCTCCTGGA', score=10.0, start=0, end=18),\n",
              " Alignment(seqA='ATGCA-TGGTGCGC---GA', seqB='AT---TT-GTGCTCCTGGA', score=10.0, start=0, end=19),\n",
              " Alignment(seqA='ATGCATGGTGCGC---GA', seqB='AT--TT-GTGCTCCTGGA', score=10.0, start=0, end=18),\n",
              " Alignment(seqA='ATGCATGGTGCGC---GA', seqB='AT-T-T-GTGCTCCTGGA', score=10.0, start=0, end=18),\n",
              " Alignment(seqA='ATGCATGGTGCGC---GA', seqB='ATT--T-GTGCTCCTGGA', score=10.0, start=0, end=18),\n",
              " Alignment(seqA='A-TGCATGGTGCGC---GA', seqB='ATT---T-GTGCTCCTGGA', score=10.0, start=0, end=19),\n",
              " Alignment(seqA='ATGCAT-GGTGCGC---GA', seqB='AT---TTG-TGCTCCTGGA', score=10.0, start=0, end=19),\n",
              " Alignment(seqA='ATGCA-TGGTGCGC---GA', seqB='AT---TTG-TGCTCCTGGA', score=10.0, start=0, end=19),\n",
              " Alignment(seqA='ATGCATGGTGCGC---GA', seqB='AT--TTG-TGCTCCTGGA', score=10.0, start=0, end=18),\n",
              " Alignment(seqA='ATGCATGGTGCGC---GA', seqB='AT-T-TG-TGCTCCTGGA', score=10.0, start=0, end=18),\n",
              " Alignment(seqA='ATGCATGGTGCGC---GA', seqB='ATT--TG-TGCTCCTGGA', score=10.0, start=0, end=18),\n",
              " Alignment(seqA='A-TGCATGGTGCGC---GA', seqB='ATT---TG-TGCTCCTGGA', score=10.0, start=0, end=19),\n",
              " Alignment(seqA='ATGCATG-GTGCG--C--GA', seqB='AT---T-TGTGC-TCCTGGA', score=10.0, start=0, end=20),\n",
              " Alignment(seqA='ATGCATGGTGCG--C--GA', seqB='AT---TTGTGC-TCCTGGA', score=10.0, start=0, end=19),\n",
              " Alignment(seqA='ATGCA-TGGTGCG--C--GA', seqB='AT---TT-GTGC-TCCTGGA', score=10.0, start=0, end=20),\n",
              " Alignment(seqA='ATGCATGGTGCG--C--GA', seqB='AT--TT-GTGC-TCCTGGA', score=10.0, start=0, end=19),\n",
              " Alignment(seqA='ATGCATGGTGCG--C--GA', seqB='AT-T-T-GTGC-TCCTGGA', score=10.0, start=0, end=19),\n",
              " Alignment(seqA='ATGCATGGTGCG--C--GA', seqB='ATT--T-GTGC-TCCTGGA', score=10.0, start=0, end=19),\n",
              " Alignment(seqA='A-TGCATGGTGCG--C--GA', seqB='ATT---T-GTGC-TCCTGGA', score=10.0, start=0, end=20),\n",
              " Alignment(seqA='ATGCAT-GGTGCG--C--GA', seqB='AT---TTG-TGC-TCCTGGA', score=10.0, start=0, end=20),\n",
              " Alignment(seqA='ATGCA-TGGTGCG--C--GA', seqB='AT---TTG-TGC-TCCTGGA', score=10.0, start=0, end=20),\n",
              " Alignment(seqA='ATGCATGGTGCG--C--GA', seqB='AT--TTG-TGC-TCCTGGA', score=10.0, start=0, end=19),\n",
              " Alignment(seqA='ATGCATGGTGCG--C--GA', seqB='AT-T-TG-TGC-TCCTGGA', score=10.0, start=0, end=19),\n",
              " Alignment(seqA='ATGCATGGTGCG--C--GA', seqB='ATT--TG-TGC-TCCTGGA', score=10.0, start=0, end=19),\n",
              " Alignment(seqA='A-TGCATGGTGCG--C--GA', seqB='ATT---TG-TGC-TCCTGGA', score=10.0, start=0, end=20),\n",
              " Alignment(seqA='ATGCATG-GTGCG-C--GA', seqB='AT---T-TGTGCTCCTGGA', score=10.0, start=0, end=19),\n",
              " Alignment(seqA='ATGCATGGTGCG-C--GA', seqB='AT---TTGTGCTCCTGGA', score=10.0, start=0, end=18),\n",
              " Alignment(seqA='ATGCA-TGGTGCG-C--GA', seqB='AT---TT-GTGCTCCTGGA', score=10.0, start=0, end=19),\n",
              " Alignment(seqA='ATGCATGGTGCG-C--GA', seqB='AT--TT-GTGCTCCTGGA', score=10.0, start=0, end=18),\n",
              " Alignment(seqA='ATGCATGGTGCG-C--GA', seqB='AT-T-T-GTGCTCCTGGA', score=10.0, start=0, end=18),\n",
              " Alignment(seqA='ATGCATGGTGCG-C--GA', seqB='ATT--T-GTGCTCCTGGA', score=10.0, start=0, end=18),\n",
              " Alignment(seqA='A-TGCATGGTGCG-C--GA', seqB='ATT---T-GTGCTCCTGGA', score=10.0, start=0, end=19),\n",
              " Alignment(seqA='ATGCAT-GGTGCG-C--GA', seqB='AT---TTG-TGCTCCTGGA', score=10.0, start=0, end=19),\n",
              " Alignment(seqA='ATGCA-TGGTGCG-C--GA', seqB='AT---TTG-TGCTCCTGGA', score=10.0, start=0, end=19),\n",
              " Alignment(seqA='ATGCATGGTGCG-C--GA', seqB='AT--TTG-TGCTCCTGGA', score=10.0, start=0, end=18),\n",
              " Alignment(seqA='ATGCATGGTGCG-C--GA', seqB='AT-T-TG-TGCTCCTGGA', score=10.0, start=0, end=18),\n",
              " Alignment(seqA='ATGCATGGTGCG-C--GA', seqB='ATT--TG-TGCTCCTGGA', score=10.0, start=0, end=18),\n",
              " Alignment(seqA='A-TGCATGGTGCG-C--GA', seqB='ATT---TG-TGCTCCTGGA', score=10.0, start=0, end=19),\n",
              " Alignment(seqA='ATGCATG-GTGC-GC--GA', seqB='AT---T-TGTGCTCCTGGA', score=10.0, start=0, end=19),\n",
              " Alignment(seqA='ATGCATGGTGC-GC--GA', seqB='AT---TTGTGCTCCTGGA', score=10.0, start=0, end=18),\n",
              " Alignment(seqA='ATGCA-TGGTGC-GC--GA', seqB='AT---TT-GTGCTCCTGGA', score=10.0, start=0, end=19),\n",
              " Alignment(seqA='ATGCATGGTGC-GC--GA', seqB='AT--TT-GTGCTCCTGGA', score=10.0, start=0, end=18),\n",
              " Alignment(seqA='ATGCATGGTGC-GC--GA', seqB='AT-T-T-GTGCTCCTGGA', score=10.0, start=0, end=18),\n",
              " Alignment(seqA='ATGCATGGTGC-GC--GA', seqB='ATT--T-GTGCTCCTGGA', score=10.0, start=0, end=18),\n",
              " Alignment(seqA='A-TGCATGGTGC-GC--GA', seqB='ATT---T-GTGCTCCTGGA', score=10.0, start=0, end=19),\n",
              " Alignment(seqA='ATGCAT-GGTGC-GC--GA', seqB='AT---TTG-TGCTCCTGGA', score=10.0, start=0, end=19),\n",
              " Alignment(seqA='ATGCA-TGGTGC-GC--GA', seqB='AT---TTG-TGCTCCTGGA', score=10.0, start=0, end=19),\n",
              " Alignment(seqA='ATGCATGGTGC-GC--GA', seqB='AT--TTG-TGCTCCTGGA', score=10.0, start=0, end=18),\n",
              " Alignment(seqA='ATGCATGGTGC-GC--GA', seqB='AT-T-TG-TGCTCCTGGA', score=10.0, start=0, end=18),\n",
              " Alignment(seqA='ATGCATGGTGC-GC--GA', seqB='ATT--TG-TGCTCCTGGA', score=10.0, start=0, end=18),\n",
              " Alignment(seqA='A-TGCATGGTGC-GC--GA', seqB='ATT---TG-TGCTCCTGGA', score=10.0, start=0, end=19),\n",
              " Alignment(seqA='ATGCATG-GTG--CGC--GA', seqB='AT---T-TGTGCTC-CTGGA', score=10.0, start=0, end=20),\n",
              " Alignment(seqA='ATGCATGGTG--CGC--GA', seqB='AT---TTGTGCTC-CTGGA', score=10.0, start=0, end=19),\n",
              " Alignment(seqA='ATGCA-TGGTG--CGC--GA', seqB='AT---TT-GTGCTC-CTGGA', score=10.0, start=0, end=20),\n",
              " Alignment(seqA='ATGCATGGTG--CGC--GA', seqB='AT--TT-GTGCTC-CTGGA', score=10.0, start=0, end=19),\n",
              " Alignment(seqA='ATGCATGGTG--CGC--GA', seqB='AT-T-T-GTGCTC-CTGGA', score=10.0, start=0, end=19),\n",
              " Alignment(seqA='ATGCATGGTG--CGC--GA', seqB='ATT--T-GTGCTC-CTGGA', score=10.0, start=0, end=19),\n",
              " Alignment(seqA='A-TGCATGGTG--CGC--GA', seqB='ATT---T-GTGCTC-CTGGA', score=10.0, start=0, end=20),\n",
              " Alignment(seqA='ATGCAT-GGTG--CGC--GA', seqB='AT---TTG-TGCTC-CTGGA', score=10.0, start=0, end=20),\n",
              " Alignment(seqA='ATGCA-TGGTG--CGC--GA', seqB='AT---TTG-TGCTC-CTGGA', score=10.0, start=0, end=20),\n",
              " Alignment(seqA='ATGCATGGTG--CGC--GA', seqB='AT--TTG-TGCTC-CTGGA', score=10.0, start=0, end=19),\n",
              " Alignment(seqA='ATGCATGGTG--CGC--GA', seqB='AT-T-TG-TGCTC-CTGGA', score=10.0, start=0, end=19),\n",
              " Alignment(seqA='ATGCATGGTG--CGC--GA', seqB='ATT--TG-TGCTC-CTGGA', score=10.0, start=0, end=19),\n",
              " Alignment(seqA='A-TGCATGGTG--CGC--GA', seqB='ATT---TG-TGCTC-CTGGA', score=10.0, start=0, end=20),\n",
              " Alignment(seqA='ATGCAT-G-G-TGCGC--GA', seqB='AT---TTGTGCT-C-CTGGA', score=10.0, start=0, end=20),\n",
              " Alignment(seqA='ATGCA-TG-G-TGCGC--GA', seqB='AT---TTGTGCT-C-CTGGA', score=10.0, start=0, end=20),\n",
              " Alignment(seqA='ATGCATG-G-TGCGC--GA', seqB='AT--TTGTGCT-C-CTGGA', score=10.0, start=0, end=19),\n",
              " Alignment(seqA='ATGCATG-G-TGCGC--GA', seqB='AT-T-TGTGCT-C-CTGGA', score=10.0, start=0, end=19),\n",
              " Alignment(seqA='ATGCATG-G-TGCGC--GA', seqB='ATT--TGTGCT-C-CTGGA', score=10.0, start=0, end=19),\n",
              " Alignment(seqA='A-TGCATG-G-TGCGC--GA', seqB='ATT---TGTGCT-C-CTGGA', score=10.0, start=0, end=20),\n",
              " Alignment(seqA='AT--GCATGG-TGCGC--GA', seqB='ATTTG--T-GCT-C-CTGGA', score=10.0, start=0, end=20),\n",
              " Alignment(seqA='A-T-GCATGG-TGCGC--GA', seqB='ATTTG--T-GCT-C-CTGGA', score=10.0, start=0, end=20),\n",
              " Alignment(seqA='A--TGCATGG-TGCGC--GA', seqB='ATTTG--T-GCT-C-CTGGA', score=10.0, start=0, end=20),\n",
              " Alignment(seqA='AT--GCATGG-TGCGC--GA', seqB='ATTTG--TG-CT-C-CTGGA', score=10.0, start=0, end=20),\n",
              " Alignment(seqA='A-T-GCATGG-TGCGC--GA', seqB='ATTTG--TG-CT-C-CTGGA', score=10.0, start=0, end=20),\n",
              " Alignment(seqA='A--TGCATGG-TGCGC--GA', seqB='ATTTG--TG-CT-C-CTGGA', score=10.0, start=0, end=20),\n",
              " Alignment(seqA='AT--GCATGGTGCGC--GA', seqB='ATTTG--TGCT-C-CTGGA', score=10.0, start=0, end=19),\n",
              " Alignment(seqA='A-T-GCATGGTGCGC--GA', seqB='ATTTG--TGCT-C-CTGGA', score=10.0, start=0, end=19),\n",
              " Alignment(seqA='A--TGCATGGTGCGC--GA', seqB='ATTTG--TGCT-C-CTGGA', score=10.0, start=0, end=19),\n",
              " Alignment(seqA='ATGCATG-GTGC----GCGA', seqB='AT---T-TGTGCTCCTG-GA', score=10.0, start=0, end=20),\n",
              " Alignment(seqA='ATGCATGGTGC----GCGA', seqB='AT---TTGTGCTCCTG-GA', score=10.0, start=0, end=19),\n",
              " Alignment(seqA='ATGCA-TGGTGC----GCGA', seqB='AT---TT-GTGCTCCTG-GA', score=10.0, start=0, end=20),\n",
              " Alignment(seqA='ATGCATGGTGC----GCGA', seqB='AT--TT-GTGCTCCTG-GA', score=10.0, start=0, end=19),\n",
              " Alignment(seqA='ATGCATGGTGC----GCGA', seqB='AT-T-T-GTGCTCCTG-GA', score=10.0, start=0, end=19),\n",
              " Alignment(seqA='ATGCATGGTGC----GCGA', seqB='ATT--T-GTGCTCCTG-GA', score=10.0, start=0, end=19),\n",
              " Alignment(seqA='A-TGCATGGTGC----GCGA', seqB='ATT---T-GTGCTCCTG-GA', score=10.0, start=0, end=20),\n",
              " Alignment(seqA='ATGCAT-GGTGC----GCGA', seqB='AT---TTG-TGCTCCTG-GA', score=10.0, start=0, end=20),\n",
              " Alignment(seqA='ATGCA-TGGTGC----GCGA', seqB='AT---TTG-TGCTCCTG-GA', score=10.0, start=0, end=20),\n",
              " Alignment(seqA='ATGCATGGTGC----GCGA', seqB='AT--TTG-TGCTCCTG-GA', score=10.0, start=0, end=19),\n",
              " Alignment(seqA='ATGCATGGTGC----GCGA', seqB='AT-T-TG-TGCTCCTG-GA', score=10.0, start=0, end=19),\n",
              " Alignment(seqA='ATGCATGGTGC----GCGA', seqB='ATT--TG-TGCTCCTG-GA', score=10.0, start=0, end=19),\n",
              " Alignment(seqA='A-TGCATGGTGC----GCGA', seqB='ATT---TG-TGCTCCTG-GA', score=10.0, start=0, end=20),\n",
              " Alignment(seqA='ATGCATG-GTG--C--GCGA', seqB='AT---T-TGTGCTCCTG-GA', score=10.0, start=0, end=20),\n",
              " Alignment(seqA='ATGCATGGTG--C--GCGA', seqB='AT---TTGTGCTCCTG-GA', score=10.0, start=0, end=19),\n",
              " Alignment(seqA='ATGCA-TGGTG--C--GCGA', seqB='AT---TT-GTGCTCCTG-GA', score=10.0, start=0, end=20),\n",
              " Alignment(seqA='ATGCATGGTG--C--GCGA', seqB='AT--TT-GTGCTCCTG-GA', score=10.0, start=0, end=19),\n",
              " Alignment(seqA='ATGCATGGTG--C--GCGA', seqB='AT-T-T-GTGCTCCTG-GA', score=10.0, start=0, end=19),\n",
              " Alignment(seqA='ATGCATGGTG--C--GCGA', seqB='ATT--T-GTGCTCCTG-GA', score=10.0, start=0, end=19),\n",
              " Alignment(seqA='A-TGCATGGTG--C--GCGA', seqB='ATT---T-GTGCTCCTG-GA', score=10.0, start=0, end=20),\n",
              " Alignment(seqA='ATGCAT-GGTG--C--GCGA', seqB='AT---TTG-TGCTCCTG-GA', score=10.0, start=0, end=20),\n",
              " Alignment(seqA='ATGCA-TGGTG--C--GCGA', seqB='AT---TTG-TGCTCCTG-GA', score=10.0, start=0, end=20),\n",
              " Alignment(seqA='ATGCATGGTG--C--GCGA', seqB='AT--TTG-TGCTCCTG-GA', score=10.0, start=0, end=19),\n",
              " Alignment(seqA='ATGCATGGTG--C--GCGA', seqB='AT-T-TG-TGCTCCTG-GA', score=10.0, start=0, end=19),\n",
              " Alignment(seqA='ATGCATGGTG--C--GCGA', seqB='ATT--TG-TGCTCCTG-GA', score=10.0, start=0, end=19),\n",
              " Alignment(seqA='A-TGCATGGTG--C--GCGA', seqB='ATT---TG-TGCTCCTG-GA', score=10.0, start=0, end=20),\n",
              " Alignment(seqA='ATGCAT-G-G-TGC--GCGA', seqB='AT---TTGTGCT-CCTG-GA', score=10.0, start=0, end=20),\n",
              " Alignment(seqA='ATGCA-TG-G-TGC--GCGA', seqB='AT---TTGTGCT-CCTG-GA', score=10.0, start=0, end=20),\n",
              " Alignment(seqA='ATGCATG-G-TGC--GCGA', seqB='AT--TTGTGCT-CCTG-GA', score=10.0, start=0, end=19),\n",
              " Alignment(seqA='ATGCATG-G-TGC--GCGA', seqB='AT-T-TGTGCT-CCTG-GA', score=10.0, start=0, end=19),\n",
              " Alignment(seqA='ATGCATG-G-TGC--GCGA', seqB='ATT--TGTGCT-CCTG-GA', score=10.0, start=0, end=19),\n",
              " Alignment(seqA='A-TGCATG-G-TGC--GCGA', seqB='ATT---TGTGCT-CCTG-GA', score=10.0, start=0, end=20),\n",
              " Alignment(seqA='AT--GCATGG-TGC--GCGA', seqB='ATTTG--T-GCT-CCTG-GA', score=10.0, start=0, end=20),\n",
              " Alignment(seqA='A-T-GCATGG-TGC--GCGA', seqB='ATTTG--T-GCT-CCTG-GA', score=10.0, start=0, end=20),\n",
              " Alignment(seqA='A--TGCATGG-TGC--GCGA', seqB='ATTTG--T-GCT-CCTG-GA', score=10.0, start=0, end=20),\n",
              " Alignment(seqA='AT--GCATGG-TGC--GCGA', seqB='ATTTG--TG-CT-CCTG-GA', score=10.0, start=0, end=20),\n",
              " Alignment(seqA='A-T-GCATGG-TGC--GCGA', seqB='ATTTG--TG-CT-CCTG-GA', score=10.0, start=0, end=20),\n",
              " Alignment(seqA='A--TGCATGG-TGC--GCGA', seqB='ATTTG--TG-CT-CCTG-GA', score=10.0, start=0, end=20),\n",
              " Alignment(seqA='AT--GCATGGTGC--GCGA', seqB='ATTTG--TGCT-CCTG-GA', score=10.0, start=0, end=19),\n",
              " Alignment(seqA='A-T-GCATGGTGC--GCGA', seqB='ATTTG--TGCT-CCTG-GA', score=10.0, start=0, end=19),\n",
              " Alignment(seqA='A--TGCATGGTGC--GCGA', seqB='ATTTG--TGCT-CCTG-GA', score=10.0, start=0, end=19)]"
            ]
          },
          "metadata": {},
          "execution_count": 200
        }
      ]
    },
    {
      "cell_type": "markdown",
      "source": [],
      "metadata": {
        "id": "0ZQgMhGj42G1"
      }
    },
    {
      "cell_type": "code",
      "execution_count": 201,
      "metadata": {
        "id": "bO4vD5ovZrrZ",
        "colab": {
          "base_uri": "https://localhost:8080/"
        },
        "outputId": "0cc4d2a0-e57f-4ea3-c3c7-a41bcc502224"
      },
      "outputs": [
        {
          "output_type": "stream",
          "name": "stdout",
          "text": [
            "ATGCATG-GTGCG-C--G-A\n",
            "||   |  ||||  |  | |\n",
            "AT---T-TGTGC-TCCTGGA\n",
            "  Score=10\n",
            "\n"
          ]
        }
      ],
      "source": [
        "# display the alignment\n",
        "print(format_alignment(*alignments[0]))"
      ]
    },
    {
      "cell_type": "code",
      "execution_count": 202,
      "metadata": {
        "id": "joqq3YqPZrrZ",
        "colab": {
          "base_uri": "https://localhost:8080/"
        },
        "outputId": "d138a3ea-e431-49bd-cce2-d227646020e3"
      },
      "outputs": [
        {
          "output_type": "stream",
          "name": "stdout",
          "text": [
            "ATGCATG-GTGCG-C--G-A\n",
            "||   |  ||||  |  | |\n",
            "AT---T-TGTGC-TCCTGGA\n",
            "  Score=10\n",
            "\n",
            "ATGCATGGTGCG-C--G-A\n",
            "||   |.||||  |  | |\n",
            "AT---TTGTGC-TCCTGGA\n",
            "  Score=10\n",
            "\n",
            "ATGCA-TGGTGCG-C--G-A\n",
            "||    | ||||  |  | |\n",
            "AT---TT-GTGC-TCCTGGA\n",
            "  Score=10\n",
            "\n",
            "ATGCATGGTGCG-C--G-A\n",
            "||  .| ||||  |  | |\n",
            "AT--TT-GTGC-TCCTGGA\n",
            "  Score=10\n",
            "\n",
            "ATGCATGGTGCG-C--G-A\n",
            "|| . | ||||  |  | |\n",
            "AT-T-T-GTGC-TCCTGGA\n",
            "  Score=10\n",
            "\n",
            "ATGCATGGTGCG-C--G-A\n",
            "||.  | ||||  |  | |\n",
            "ATT--T-GTGC-TCCTGGA\n",
            "  Score=10\n",
            "\n",
            "A-TGCATGGTGCG-C--G-A\n",
            "| |   | ||||  |  | |\n",
            "ATT---T-GTGC-TCCTGGA\n",
            "  Score=10\n",
            "\n",
            "ATGCAT-GGTGCG-C--G-A\n",
            "||   | | |||  |  | |\n",
            "AT---TTG-TGC-TCCTGGA\n",
            "  Score=10\n",
            "\n",
            "ATGCA-TGGTGCG-C--G-A\n",
            "||    || |||  |  | |\n",
            "AT---TTG-TGC-TCCTGGA\n",
            "  Score=10\n",
            "\n",
            "ATGCATGGTGCG-C--G-A\n",
            "||  .|| |||  |  | |\n",
            "AT--TTG-TGC-TCCTGGA\n",
            "  Score=10\n",
            "\n",
            "ATGCATGGTGCG-C--G-A\n",
            "|| . || |||  |  | |\n",
            "AT-T-TG-TGC-TCCTGGA\n",
            "  Score=10\n",
            "\n",
            "ATGCATGGTGCG-C--G-A\n",
            "||.  || |||  |  | |\n",
            "ATT--TG-TGC-TCCTGGA\n",
            "  Score=10\n",
            "\n",
            "A-TGCATGGTGCG-C--G-A\n",
            "| |   || |||  |  | |\n",
            "ATT---TG-TGC-TCCTGGA\n",
            "  Score=10\n",
            "\n",
            "ATGCATG-GTGCGC--G-A\n",
            "||   |  ||||.|  | |\n",
            "AT---T-TGTGCTCCTGGA\n",
            "  Score=10\n",
            "\n",
            "ATGCATGGTGCGC--G-A\n",
            "||   |.||||.|  | |\n",
            "AT---TTGTGCTCCTGGA\n",
            "  Score=10\n",
            "\n",
            "ATGCA-TGGTGCGC--G-A\n",
            "||    | ||||.|  | |\n",
            "AT---TT-GTGCTCCTGGA\n",
            "  Score=10\n",
            "\n",
            "ATGCATGGTGCGC--G-A\n",
            "||  .| ||||.|  | |\n",
            "AT--TT-GTGCTCCTGGA\n",
            "  Score=10\n",
            "\n",
            "ATGCATGGTGCGC--G-A\n",
            "|| . | ||||.|  | |\n",
            "AT-T-T-GTGCTCCTGGA\n",
            "  Score=10\n",
            "\n",
            "ATGCATGGTGCGC--G-A\n",
            "||.  | ||||.|  | |\n",
            "ATT--T-GTGCTCCTGGA\n",
            "  Score=10\n",
            "\n",
            "A-TGCATGGTGCGC--G-A\n",
            "| |   | ||||.|  | |\n",
            "ATT---T-GTGCTCCTGGA\n",
            "  Score=10\n",
            "\n",
            "ATGCAT-GGTGCGC--G-A\n",
            "||   | | |||.|  | |\n",
            "AT---TTG-TGCTCCTGGA\n",
            "  Score=10\n",
            "\n",
            "ATGCA-TGGTGCGC--G-A\n",
            "||    || |||.|  | |\n",
            "AT---TTG-TGCTCCTGGA\n",
            "  Score=10\n",
            "\n",
            "ATGCATGGTGCGC--G-A\n",
            "||  .|| |||.|  | |\n",
            "AT--TTG-TGCTCCTGGA\n",
            "  Score=10\n",
            "\n",
            "ATGCATGGTGCGC--G-A\n",
            "|| . || |||.|  | |\n",
            "AT-T-TG-TGCTCCTGGA\n",
            "  Score=10\n",
            "\n",
            "ATGCATGGTGCGC--G-A\n",
            "||.  || |||.|  | |\n",
            "ATT--TG-TGCTCCTGGA\n",
            "  Score=10\n",
            "\n",
            "A-TGCATGGTGCGC--G-A\n",
            "| |   || |||.|  | |\n",
            "ATT---TG-TGCTCCTGGA\n",
            "  Score=10\n",
            "\n",
            "ATGCATG-GTGCG--C-G-A\n",
            "||   |  ||||   | | |\n",
            "AT---T-TGTGC-TCCTGGA\n",
            "  Score=10\n",
            "\n",
            "ATGCATGGTGCG--C-G-A\n",
            "||   |.||||   | | |\n",
            "AT---TTGTGC-TCCTGGA\n",
            "  Score=10\n",
            "\n",
            "ATGCA-TGGTGCG--C-G-A\n",
            "||    | ||||   | | |\n",
            "AT---TT-GTGC-TCCTGGA\n",
            "  Score=10\n",
            "\n",
            "ATGCATGGTGCG--C-G-A\n",
            "||  .| ||||   | | |\n",
            "AT--TT-GTGC-TCCTGGA\n",
            "  Score=10\n",
            "\n",
            "ATGCATGGTGCG--C-G-A\n",
            "|| . | ||||   | | |\n",
            "AT-T-T-GTGC-TCCTGGA\n",
            "  Score=10\n",
            "\n",
            "ATGCATGGTGCG--C-G-A\n",
            "||.  | ||||   | | |\n",
            "ATT--T-GTGC-TCCTGGA\n",
            "  Score=10\n",
            "\n",
            "A-TGCATGGTGCG--C-G-A\n",
            "| |   | ||||   | | |\n",
            "ATT---T-GTGC-TCCTGGA\n",
            "  Score=10\n",
            "\n",
            "ATGCAT-GGTGCG--C-G-A\n",
            "||   | | |||   | | |\n",
            "AT---TTG-TGC-TCCTGGA\n",
            "  Score=10\n",
            "\n",
            "ATGCA-TGGTGCG--C-G-A\n",
            "||    || |||   | | |\n",
            "AT---TTG-TGC-TCCTGGA\n",
            "  Score=10\n",
            "\n",
            "ATGCATGGTGCG--C-G-A\n",
            "||  .|| |||   | | |\n",
            "AT--TTG-TGC-TCCTGGA\n",
            "  Score=10\n",
            "\n",
            "ATGCATGGTGCG--C-G-A\n",
            "|| . || |||   | | |\n",
            "AT-T-TG-TGC-TCCTGGA\n",
            "  Score=10\n",
            "\n",
            "ATGCATGGTGCG--C-G-A\n",
            "||.  || |||   | | |\n",
            "ATT--TG-TGC-TCCTGGA\n",
            "  Score=10\n",
            "\n",
            "A-TGCATGGTGCG--C-G-A\n",
            "| |   || |||   | | |\n",
            "ATT---TG-TGC-TCCTGGA\n",
            "  Score=10\n",
            "\n",
            "ATGCATG-GTGCG-C-G-A\n",
            "||   |  ||||. | | |\n",
            "AT---T-TGTGCTCCTGGA\n",
            "  Score=10\n",
            "\n",
            "ATGCATGGTGCG-C-G-A\n",
            "||   |.||||. | | |\n",
            "AT---TTGTGCTCCTGGA\n",
            "  Score=10\n",
            "\n",
            "ATGCA-TGGTGCG-C-G-A\n",
            "||    | ||||. | | |\n",
            "AT---TT-GTGCTCCTGGA\n",
            "  Score=10\n",
            "\n",
            "ATGCATGGTGCG-C-G-A\n",
            "||  .| ||||. | | |\n",
            "AT--TT-GTGCTCCTGGA\n",
            "  Score=10\n",
            "\n",
            "ATGCATGGTGCG-C-G-A\n",
            "|| . | ||||. | | |\n",
            "AT-T-T-GTGCTCCTGGA\n",
            "  Score=10\n",
            "\n",
            "ATGCATGGTGCG-C-G-A\n",
            "||.  | ||||. | | |\n",
            "ATT--T-GTGCTCCTGGA\n",
            "  Score=10\n",
            "\n",
            "A-TGCATGGTGCG-C-G-A\n",
            "| |   | ||||. | | |\n",
            "ATT---T-GTGCTCCTGGA\n",
            "  Score=10\n",
            "\n",
            "ATGCAT-GGTGCG-C-G-A\n",
            "||   | | |||. | | |\n",
            "AT---TTG-TGCTCCTGGA\n",
            "  Score=10\n",
            "\n",
            "ATGCA-TGGTGCG-C-G-A\n",
            "||    || |||. | | |\n",
            "AT---TTG-TGCTCCTGGA\n",
            "  Score=10\n",
            "\n",
            "ATGCATGGTGCG-C-G-A\n",
            "||  .|| |||. | | |\n",
            "AT--TTG-TGCTCCTGGA\n",
            "  Score=10\n",
            "\n",
            "ATGCATGGTGCG-C-G-A\n",
            "|| . || |||. | | |\n",
            "AT-T-TG-TGCTCCTGGA\n",
            "  Score=10\n",
            "\n",
            "ATGCATGGTGCG-C-G-A\n",
            "||.  || |||. | | |\n",
            "ATT--TG-TGCTCCTGGA\n",
            "  Score=10\n",
            "\n",
            "A-TGCATGGTGCG-C-G-A\n",
            "| |   || |||. | | |\n",
            "ATT---TG-TGCTCCTGGA\n",
            "  Score=10\n",
            "\n",
            "ATGCATG-GTGC-GC-G-A\n",
            "||   |  |||| .| | |\n",
            "AT---T-TGTGCTCCTGGA\n",
            "  Score=10\n",
            "\n",
            "ATGCATGGTGC-GC-G-A\n",
            "||   |.|||| .| | |\n",
            "AT---TTGTGCTCCTGGA\n",
            "  Score=10\n",
            "\n",
            "ATGCA-TGGTGC-GC-G-A\n",
            "||    | |||| .| | |\n",
            "AT---TT-GTGCTCCTGGA\n",
            "  Score=10\n",
            "\n",
            "ATGCATGGTGC-GC-G-A\n",
            "||  .| |||| .| | |\n",
            "AT--TT-GTGCTCCTGGA\n",
            "  Score=10\n",
            "\n",
            "ATGCATGGTGC-GC-G-A\n",
            "|| . | |||| .| | |\n",
            "AT-T-T-GTGCTCCTGGA\n",
            "  Score=10\n",
            "\n",
            "ATGCATGGTGC-GC-G-A\n",
            "||.  | |||| .| | |\n",
            "ATT--T-GTGCTCCTGGA\n",
            "  Score=10\n",
            "\n",
            "A-TGCATGGTGC-GC-G-A\n",
            "| |   | |||| .| | |\n",
            "ATT---T-GTGCTCCTGGA\n",
            "  Score=10\n",
            "\n",
            "ATGCAT-GGTGC-GC-G-A\n",
            "||   | | ||| .| | |\n",
            "AT---TTG-TGCTCCTGGA\n",
            "  Score=10\n",
            "\n",
            "ATGCA-TGGTGC-GC-G-A\n",
            "||    || ||| .| | |\n",
            "AT---TTG-TGCTCCTGGA\n",
            "  Score=10\n",
            "\n",
            "ATGCATGGTGC-GC-G-A\n",
            "||  .|| ||| .| | |\n",
            "AT--TTG-TGCTCCTGGA\n",
            "  Score=10\n",
            "\n",
            "ATGCATGGTGC-GC-G-A\n",
            "|| . || ||| .| | |\n",
            "AT-T-TG-TGCTCCTGGA\n",
            "  Score=10\n",
            "\n",
            "ATGCATGGTGC-GC-G-A\n",
            "||.  || ||| .| | |\n",
            "ATT--TG-TGCTCCTGGA\n",
            "  Score=10\n",
            "\n",
            "A-TGCATGGTGC-GC-G-A\n",
            "| |   || ||| .| | |\n",
            "ATT---TG-TGCTCCTGGA\n",
            "  Score=10\n",
            "\n",
            "ATGCATG-GTG--CGC-G-A\n",
            "||   |  |||  | | | |\n",
            "AT---T-TGTGCTC-CTGGA\n",
            "  Score=10\n",
            "\n",
            "ATGCATGGTG--CGC-G-A\n",
            "||   |.|||  | | | |\n",
            "AT---TTGTGCTC-CTGGA\n",
            "  Score=10\n",
            "\n",
            "ATGCA-TGGTG--CGC-G-A\n",
            "||    | |||  | | | |\n",
            "AT---TT-GTGCTC-CTGGA\n",
            "  Score=10\n",
            "\n",
            "ATGCATGGTG--CGC-G-A\n",
            "||  .| |||  | | | |\n",
            "AT--TT-GTGCTC-CTGGA\n",
            "  Score=10\n",
            "\n",
            "ATGCATGGTG--CGC-G-A\n",
            "|| . | |||  | | | |\n",
            "AT-T-T-GTGCTC-CTGGA\n",
            "  Score=10\n",
            "\n",
            "ATGCATGGTG--CGC-G-A\n",
            "||.  | |||  | | | |\n",
            "ATT--T-GTGCTC-CTGGA\n",
            "  Score=10\n",
            "\n",
            "A-TGCATGGTG--CGC-G-A\n",
            "| |   | |||  | | | |\n",
            "ATT---T-GTGCTC-CTGGA\n",
            "  Score=10\n",
            "\n",
            "ATGCAT-GGTG--CGC-G-A\n",
            "||   | | ||  | | | |\n",
            "AT---TTG-TGCTC-CTGGA\n",
            "  Score=10\n",
            "\n",
            "ATGCA-TGGTG--CGC-G-A\n",
            "||    || ||  | | | |\n",
            "AT---TTG-TGCTC-CTGGA\n",
            "  Score=10\n",
            "\n",
            "ATGCATGGTG--CGC-G-A\n",
            "||  .|| ||  | | | |\n",
            "AT--TTG-TGCTC-CTGGA\n",
            "  Score=10\n",
            "\n",
            "ATGCATGGTG--CGC-G-A\n",
            "|| . || ||  | | | |\n",
            "AT-T-TG-TGCTC-CTGGA\n",
            "  Score=10\n",
            "\n",
            "ATGCATGGTG--CGC-G-A\n",
            "||.  || ||  | | | |\n",
            "ATT--TG-TGCTC-CTGGA\n",
            "  Score=10\n",
            "\n",
            "A-TGCATGGTG--CGC-G-A\n",
            "| |   || ||  | | | |\n",
            "ATT---TG-TGCTC-CTGGA\n",
            "  Score=10\n",
            "\n",
            "ATGCAT-G-G-TGCGC-G-A\n",
            "||   | | | | | | | |\n",
            "AT---TTGTGCT-C-CTGGA\n",
            "  Score=10\n",
            "\n",
            "ATGCA-TG-G-TGCGC-G-A\n",
            "||    || | | | | | |\n",
            "AT---TTGTGCT-C-CTGGA\n",
            "  Score=10\n",
            "\n",
            "ATGCATG-G-TGCGC-G-A\n",
            "||  .|| | | | | | |\n",
            "AT--TTGTGCT-C-CTGGA\n",
            "  Score=10\n",
            "\n",
            "ATGCATG-G-TGCGC-G-A\n",
            "|| . || | | | | | |\n",
            "AT-T-TGTGCT-C-CTGGA\n",
            "  Score=10\n",
            "\n",
            "ATGCATG-G-TGCGC-G-A\n",
            "||.  || | | | | | |\n",
            "ATT--TGTGCT-C-CTGGA\n",
            "  Score=10\n",
            "\n",
            "A-TGCATG-G-TGCGC-G-A\n",
            "| |   || | | | | | |\n",
            "ATT---TGTGCT-C-CTGGA\n",
            "  Score=10\n",
            "\n",
            "AT--GCATGG-TGCGC-G-A\n",
            "||  |  | | | | | | |\n",
            "ATTTG--T-GCT-C-CTGGA\n",
            "  Score=10\n",
            "\n",
            "A-T-GCATGG-TGCGC-G-A\n",
            "| | |  | | | | | | |\n",
            "ATTTG--T-GCT-C-CTGGA\n",
            "  Score=10\n",
            "\n",
            "A--TGCATGG-TGCGC-G-A\n",
            "|  ||  | | | | | | |\n",
            "ATTTG--T-GCT-C-CTGGA\n",
            "  Score=10\n",
            "\n",
            "AT--GCATGG-TGCGC-G-A\n",
            "||  |  ||  | | | | |\n",
            "ATTTG--TG-CT-C-CTGGA\n",
            "  Score=10\n",
            "\n",
            "A-T-GCATGG-TGCGC-G-A\n",
            "| | |  ||  | | | | |\n",
            "ATTTG--TG-CT-C-CTGGA\n",
            "  Score=10\n",
            "\n",
            "A--TGCATGG-TGCGC-G-A\n",
            "|  ||  ||  | | | | |\n",
            "ATTTG--TG-CT-C-CTGGA\n",
            "  Score=10\n",
            "\n",
            "AT--GCATGGTGCGC-G-A\n",
            "||  |  ||.| | | | |\n",
            "ATTTG--TGCT-C-CTGGA\n",
            "  Score=10\n",
            "\n",
            "A-T-GCATGGTGCGC-G-A\n",
            "| | |  ||.| | | | |\n",
            "ATTTG--TGCT-C-CTGGA\n",
            "  Score=10\n",
            "\n",
            "A--TGCATGGTGCGC-G-A\n",
            "|  ||  ||.| | | | |\n",
            "ATTTG--TGCT-C-CTGGA\n",
            "  Score=10\n",
            "\n",
            "ATGCATG-GTGCG-C---GA\n",
            "||   |  ||||  |   ||\n",
            "AT---T-TGTGC-TCCTGGA\n",
            "  Score=10\n",
            "\n",
            "ATGCATGGTGCG-C---GA\n",
            "||   |.||||  |   ||\n",
            "AT---TTGTGC-TCCTGGA\n",
            "  Score=10\n",
            "\n",
            "ATGCA-TGGTGCG-C---GA\n",
            "||    | ||||  |   ||\n",
            "AT---TT-GTGC-TCCTGGA\n",
            "  Score=10\n",
            "\n",
            "ATGCATGGTGCG-C---GA\n",
            "||  .| ||||  |   ||\n",
            "AT--TT-GTGC-TCCTGGA\n",
            "  Score=10\n",
            "\n",
            "ATGCATGGTGCG-C---GA\n",
            "|| . | ||||  |   ||\n",
            "AT-T-T-GTGC-TCCTGGA\n",
            "  Score=10\n",
            "\n",
            "ATGCATGGTGCG-C---GA\n",
            "||.  | ||||  |   ||\n",
            "ATT--T-GTGC-TCCTGGA\n",
            "  Score=10\n",
            "\n",
            "A-TGCATGGTGCG-C---GA\n",
            "| |   | ||||  |   ||\n",
            "ATT---T-GTGC-TCCTGGA\n",
            "  Score=10\n",
            "\n",
            "ATGCAT-GGTGCG-C---GA\n",
            "||   | | |||  |   ||\n",
            "AT---TTG-TGC-TCCTGGA\n",
            "  Score=10\n",
            "\n",
            "ATGCA-TGGTGCG-C---GA\n",
            "||    || |||  |   ||\n",
            "AT---TTG-TGC-TCCTGGA\n",
            "  Score=10\n",
            "\n",
            "ATGCATGGTGCG-C---GA\n",
            "||  .|| |||  |   ||\n",
            "AT--TTG-TGC-TCCTGGA\n",
            "  Score=10\n",
            "\n",
            "ATGCATGGTGCG-C---GA\n",
            "|| . || |||  |   ||\n",
            "AT-T-TG-TGC-TCCTGGA\n",
            "  Score=10\n",
            "\n",
            "ATGCATGGTGCG-C---GA\n",
            "||.  || |||  |   ||\n",
            "ATT--TG-TGC-TCCTGGA\n",
            "  Score=10\n",
            "\n",
            "A-TGCATGGTGCG-C---GA\n",
            "| |   || |||  |   ||\n",
            "ATT---TG-TGC-TCCTGGA\n",
            "  Score=10\n",
            "\n",
            "ATGCATG-GTGCGC---GA\n",
            "||   |  ||||.|   ||\n",
            "AT---T-TGTGCTCCTGGA\n",
            "  Score=10\n",
            "\n",
            "ATGCATGGTGCGC---GA\n",
            "||   |.||||.|   ||\n",
            "AT---TTGTGCTCCTGGA\n",
            "  Score=10\n",
            "\n",
            "ATGCA-TGGTGCGC---GA\n",
            "||    | ||||.|   ||\n",
            "AT---TT-GTGCTCCTGGA\n",
            "  Score=10\n",
            "\n",
            "ATGCATGGTGCGC---GA\n",
            "||  .| ||||.|   ||\n",
            "AT--TT-GTGCTCCTGGA\n",
            "  Score=10\n",
            "\n",
            "ATGCATGGTGCGC---GA\n",
            "|| . | ||||.|   ||\n",
            "AT-T-T-GTGCTCCTGGA\n",
            "  Score=10\n",
            "\n",
            "ATGCATGGTGCGC---GA\n",
            "||.  | ||||.|   ||\n",
            "ATT--T-GTGCTCCTGGA\n",
            "  Score=10\n",
            "\n",
            "A-TGCATGGTGCGC---GA\n",
            "| |   | ||||.|   ||\n",
            "ATT---T-GTGCTCCTGGA\n",
            "  Score=10\n",
            "\n",
            "ATGCAT-GGTGCGC---GA\n",
            "||   | | |||.|   ||\n",
            "AT---TTG-TGCTCCTGGA\n",
            "  Score=10\n",
            "\n",
            "ATGCA-TGGTGCGC---GA\n",
            "||    || |||.|   ||\n",
            "AT---TTG-TGCTCCTGGA\n",
            "  Score=10\n",
            "\n",
            "ATGCATGGTGCGC---GA\n",
            "||  .|| |||.|   ||\n",
            "AT--TTG-TGCTCCTGGA\n",
            "  Score=10\n",
            "\n",
            "ATGCATGGTGCGC---GA\n",
            "|| . || |||.|   ||\n",
            "AT-T-TG-TGCTCCTGGA\n",
            "  Score=10\n",
            "\n",
            "ATGCATGGTGCGC---GA\n",
            "||.  || |||.|   ||\n",
            "ATT--TG-TGCTCCTGGA\n",
            "  Score=10\n",
            "\n",
            "A-TGCATGGTGCGC---GA\n",
            "| |   || |||.|   ||\n",
            "ATT---TG-TGCTCCTGGA\n",
            "  Score=10\n",
            "\n",
            "ATGCATG-GTGCG--C--GA\n",
            "||   |  ||||   |  ||\n",
            "AT---T-TGTGC-TCCTGGA\n",
            "  Score=10\n",
            "\n",
            "ATGCATGGTGCG--C--GA\n",
            "||   |.||||   |  ||\n",
            "AT---TTGTGC-TCCTGGA\n",
            "  Score=10\n",
            "\n",
            "ATGCA-TGGTGCG--C--GA\n",
            "||    | ||||   |  ||\n",
            "AT---TT-GTGC-TCCTGGA\n",
            "  Score=10\n",
            "\n",
            "ATGCATGGTGCG--C--GA\n",
            "||  .| ||||   |  ||\n",
            "AT--TT-GTGC-TCCTGGA\n",
            "  Score=10\n",
            "\n",
            "ATGCATGGTGCG--C--GA\n",
            "|| . | ||||   |  ||\n",
            "AT-T-T-GTGC-TCCTGGA\n",
            "  Score=10\n",
            "\n",
            "ATGCATGGTGCG--C--GA\n",
            "||.  | ||||   |  ||\n",
            "ATT--T-GTGC-TCCTGGA\n",
            "  Score=10\n",
            "\n",
            "A-TGCATGGTGCG--C--GA\n",
            "| |   | ||||   |  ||\n",
            "ATT---T-GTGC-TCCTGGA\n",
            "  Score=10\n",
            "\n",
            "ATGCAT-GGTGCG--C--GA\n",
            "||   | | |||   |  ||\n",
            "AT---TTG-TGC-TCCTGGA\n",
            "  Score=10\n",
            "\n",
            "ATGCA-TGGTGCG--C--GA\n",
            "||    || |||   |  ||\n",
            "AT---TTG-TGC-TCCTGGA\n",
            "  Score=10\n",
            "\n",
            "ATGCATGGTGCG--C--GA\n",
            "||  .|| |||   |  ||\n",
            "AT--TTG-TGC-TCCTGGA\n",
            "  Score=10\n",
            "\n",
            "ATGCATGGTGCG--C--GA\n",
            "|| . || |||   |  ||\n",
            "AT-T-TG-TGC-TCCTGGA\n",
            "  Score=10\n",
            "\n",
            "ATGCATGGTGCG--C--GA\n",
            "||.  || |||   |  ||\n",
            "ATT--TG-TGC-TCCTGGA\n",
            "  Score=10\n",
            "\n",
            "A-TGCATGGTGCG--C--GA\n",
            "| |   || |||   |  ||\n",
            "ATT---TG-TGC-TCCTGGA\n",
            "  Score=10\n",
            "\n",
            "ATGCATG-GTGCG-C--GA\n",
            "||   |  ||||. |  ||\n",
            "AT---T-TGTGCTCCTGGA\n",
            "  Score=10\n",
            "\n",
            "ATGCATGGTGCG-C--GA\n",
            "||   |.||||. |  ||\n",
            "AT---TTGTGCTCCTGGA\n",
            "  Score=10\n",
            "\n",
            "ATGCA-TGGTGCG-C--GA\n",
            "||    | ||||. |  ||\n",
            "AT---TT-GTGCTCCTGGA\n",
            "  Score=10\n",
            "\n",
            "ATGCATGGTGCG-C--GA\n",
            "||  .| ||||. |  ||\n",
            "AT--TT-GTGCTCCTGGA\n",
            "  Score=10\n",
            "\n",
            "ATGCATGGTGCG-C--GA\n",
            "|| . | ||||. |  ||\n",
            "AT-T-T-GTGCTCCTGGA\n",
            "  Score=10\n",
            "\n",
            "ATGCATGGTGCG-C--GA\n",
            "||.  | ||||. |  ||\n",
            "ATT--T-GTGCTCCTGGA\n",
            "  Score=10\n",
            "\n",
            "A-TGCATGGTGCG-C--GA\n",
            "| |   | ||||. |  ||\n",
            "ATT---T-GTGCTCCTGGA\n",
            "  Score=10\n",
            "\n",
            "ATGCAT-GGTGCG-C--GA\n",
            "||   | | |||. |  ||\n",
            "AT---TTG-TGCTCCTGGA\n",
            "  Score=10\n",
            "\n",
            "ATGCA-TGGTGCG-C--GA\n",
            "||    || |||. |  ||\n",
            "AT---TTG-TGCTCCTGGA\n",
            "  Score=10\n",
            "\n",
            "ATGCATGGTGCG-C--GA\n",
            "||  .|| |||. |  ||\n",
            "AT--TTG-TGCTCCTGGA\n",
            "  Score=10\n",
            "\n",
            "ATGCATGGTGCG-C--GA\n",
            "|| . || |||. |  ||\n",
            "AT-T-TG-TGCTCCTGGA\n",
            "  Score=10\n",
            "\n",
            "ATGCATGGTGCG-C--GA\n",
            "||.  || |||. |  ||\n",
            "ATT--TG-TGCTCCTGGA\n",
            "  Score=10\n",
            "\n",
            "A-TGCATGGTGCG-C--GA\n",
            "| |   || |||. |  ||\n",
            "ATT---TG-TGCTCCTGGA\n",
            "  Score=10\n",
            "\n",
            "ATGCATG-GTGC-GC--GA\n",
            "||   |  |||| .|  ||\n",
            "AT---T-TGTGCTCCTGGA\n",
            "  Score=10\n",
            "\n",
            "ATGCATGGTGC-GC--GA\n",
            "||   |.|||| .|  ||\n",
            "AT---TTGTGCTCCTGGA\n",
            "  Score=10\n",
            "\n",
            "ATGCA-TGGTGC-GC--GA\n",
            "||    | |||| .|  ||\n",
            "AT---TT-GTGCTCCTGGA\n",
            "  Score=10\n",
            "\n",
            "ATGCATGGTGC-GC--GA\n",
            "||  .| |||| .|  ||\n",
            "AT--TT-GTGCTCCTGGA\n",
            "  Score=10\n",
            "\n",
            "ATGCATGGTGC-GC--GA\n",
            "|| . | |||| .|  ||\n",
            "AT-T-T-GTGCTCCTGGA\n",
            "  Score=10\n",
            "\n",
            "ATGCATGGTGC-GC--GA\n",
            "||.  | |||| .|  ||\n",
            "ATT--T-GTGCTCCTGGA\n",
            "  Score=10\n",
            "\n",
            "A-TGCATGGTGC-GC--GA\n",
            "| |   | |||| .|  ||\n",
            "ATT---T-GTGCTCCTGGA\n",
            "  Score=10\n",
            "\n",
            "ATGCAT-GGTGC-GC--GA\n",
            "||   | | ||| .|  ||\n",
            "AT---TTG-TGCTCCTGGA\n",
            "  Score=10\n",
            "\n",
            "ATGCA-TGGTGC-GC--GA\n",
            "||    || ||| .|  ||\n",
            "AT---TTG-TGCTCCTGGA\n",
            "  Score=10\n",
            "\n",
            "ATGCATGGTGC-GC--GA\n",
            "||  .|| ||| .|  ||\n",
            "AT--TTG-TGCTCCTGGA\n",
            "  Score=10\n",
            "\n",
            "ATGCATGGTGC-GC--GA\n",
            "|| . || ||| .|  ||\n",
            "AT-T-TG-TGCTCCTGGA\n",
            "  Score=10\n",
            "\n",
            "ATGCATGGTGC-GC--GA\n",
            "||.  || ||| .|  ||\n",
            "ATT--TG-TGCTCCTGGA\n",
            "  Score=10\n",
            "\n",
            "A-TGCATGGTGC-GC--GA\n",
            "| |   || ||| .|  ||\n",
            "ATT---TG-TGCTCCTGGA\n",
            "  Score=10\n",
            "\n",
            "ATGCATG-GTG--CGC--GA\n",
            "||   |  |||  | |  ||\n",
            "AT---T-TGTGCTC-CTGGA\n",
            "  Score=10\n",
            "\n",
            "ATGCATGGTG--CGC--GA\n",
            "||   |.|||  | |  ||\n",
            "AT---TTGTGCTC-CTGGA\n",
            "  Score=10\n",
            "\n",
            "ATGCA-TGGTG--CGC--GA\n",
            "||    | |||  | |  ||\n",
            "AT---TT-GTGCTC-CTGGA\n",
            "  Score=10\n",
            "\n",
            "ATGCATGGTG--CGC--GA\n",
            "||  .| |||  | |  ||\n",
            "AT--TT-GTGCTC-CTGGA\n",
            "  Score=10\n",
            "\n",
            "ATGCATGGTG--CGC--GA\n",
            "|| . | |||  | |  ||\n",
            "AT-T-T-GTGCTC-CTGGA\n",
            "  Score=10\n",
            "\n",
            "ATGCATGGTG--CGC--GA\n",
            "||.  | |||  | |  ||\n",
            "ATT--T-GTGCTC-CTGGA\n",
            "  Score=10\n",
            "\n",
            "A-TGCATGGTG--CGC--GA\n",
            "| |   | |||  | |  ||\n",
            "ATT---T-GTGCTC-CTGGA\n",
            "  Score=10\n",
            "\n",
            "ATGCAT-GGTG--CGC--GA\n",
            "||   | | ||  | |  ||\n",
            "AT---TTG-TGCTC-CTGGA\n",
            "  Score=10\n",
            "\n",
            "ATGCA-TGGTG--CGC--GA\n",
            "||    || ||  | |  ||\n",
            "AT---TTG-TGCTC-CTGGA\n",
            "  Score=10\n",
            "\n",
            "ATGCATGGTG--CGC--GA\n",
            "||  .|| ||  | |  ||\n",
            "AT--TTG-TGCTC-CTGGA\n",
            "  Score=10\n",
            "\n",
            "ATGCATGGTG--CGC--GA\n",
            "|| . || ||  | |  ||\n",
            "AT-T-TG-TGCTC-CTGGA\n",
            "  Score=10\n",
            "\n",
            "ATGCATGGTG--CGC--GA\n",
            "||.  || ||  | |  ||\n",
            "ATT--TG-TGCTC-CTGGA\n",
            "  Score=10\n",
            "\n",
            "A-TGCATGGTG--CGC--GA\n",
            "| |   || ||  | |  ||\n",
            "ATT---TG-TGCTC-CTGGA\n",
            "  Score=10\n",
            "\n",
            "ATGCAT-G-G-TGCGC--GA\n",
            "||   | | | | | |  ||\n",
            "AT---TTGTGCT-C-CTGGA\n",
            "  Score=10\n",
            "\n",
            "ATGCA-TG-G-TGCGC--GA\n",
            "||    || | | | |  ||\n",
            "AT---TTGTGCT-C-CTGGA\n",
            "  Score=10\n",
            "\n",
            "ATGCATG-G-TGCGC--GA\n",
            "||  .|| | | | |  ||\n",
            "AT--TTGTGCT-C-CTGGA\n",
            "  Score=10\n",
            "\n",
            "ATGCATG-G-TGCGC--GA\n",
            "|| . || | | | |  ||\n",
            "AT-T-TGTGCT-C-CTGGA\n",
            "  Score=10\n",
            "\n",
            "ATGCATG-G-TGCGC--GA\n",
            "||.  || | | | |  ||\n",
            "ATT--TGTGCT-C-CTGGA\n",
            "  Score=10\n",
            "\n",
            "A-TGCATG-G-TGCGC--GA\n",
            "| |   || | | | |  ||\n",
            "ATT---TGTGCT-C-CTGGA\n",
            "  Score=10\n",
            "\n",
            "AT--GCATGG-TGCGC--GA\n",
            "||  |  | | | | |  ||\n",
            "ATTTG--T-GCT-C-CTGGA\n",
            "  Score=10\n",
            "\n",
            "A-T-GCATGG-TGCGC--GA\n",
            "| | |  | | | | |  ||\n",
            "ATTTG--T-GCT-C-CTGGA\n",
            "  Score=10\n",
            "\n",
            "A--TGCATGG-TGCGC--GA\n",
            "|  ||  | | | | |  ||\n",
            "ATTTG--T-GCT-C-CTGGA\n",
            "  Score=10\n",
            "\n",
            "AT--GCATGG-TGCGC--GA\n",
            "||  |  ||  | | |  ||\n",
            "ATTTG--TG-CT-C-CTGGA\n",
            "  Score=10\n",
            "\n",
            "A-T-GCATGG-TGCGC--GA\n",
            "| | |  ||  | | |  ||\n",
            "ATTTG--TG-CT-C-CTGGA\n",
            "  Score=10\n",
            "\n",
            "A--TGCATGG-TGCGC--GA\n",
            "|  ||  ||  | | |  ||\n",
            "ATTTG--TG-CT-C-CTGGA\n",
            "  Score=10\n",
            "\n",
            "AT--GCATGGTGCGC--GA\n",
            "||  |  ||.| | |  ||\n",
            "ATTTG--TGCT-C-CTGGA\n",
            "  Score=10\n",
            "\n",
            "A-T-GCATGGTGCGC--GA\n",
            "| | |  ||.| | |  ||\n",
            "ATTTG--TGCT-C-CTGGA\n",
            "  Score=10\n",
            "\n",
            "A--TGCATGGTGCGC--GA\n",
            "|  ||  ||.| | |  ||\n",
            "ATTTG--TGCT-C-CTGGA\n",
            "  Score=10\n",
            "\n",
            "ATGCATG-GTGC----GCGA\n",
            "||   |  ||||    | ||\n",
            "AT---T-TGTGCTCCTG-GA\n",
            "  Score=10\n",
            "\n",
            "ATGCATGGTGC----GCGA\n",
            "||   |.||||    | ||\n",
            "AT---TTGTGCTCCTG-GA\n",
            "  Score=10\n",
            "\n",
            "ATGCA-TGGTGC----GCGA\n",
            "||    | ||||    | ||\n",
            "AT---TT-GTGCTCCTG-GA\n",
            "  Score=10\n",
            "\n",
            "ATGCATGGTGC----GCGA\n",
            "||  .| ||||    | ||\n",
            "AT--TT-GTGCTCCTG-GA\n",
            "  Score=10\n",
            "\n",
            "ATGCATGGTGC----GCGA\n",
            "|| . | ||||    | ||\n",
            "AT-T-T-GTGCTCCTG-GA\n",
            "  Score=10\n",
            "\n",
            "ATGCATGGTGC----GCGA\n",
            "||.  | ||||    | ||\n",
            "ATT--T-GTGCTCCTG-GA\n",
            "  Score=10\n",
            "\n",
            "A-TGCATGGTGC----GCGA\n",
            "| |   | ||||    | ||\n",
            "ATT---T-GTGCTCCTG-GA\n",
            "  Score=10\n",
            "\n",
            "ATGCAT-GGTGC----GCGA\n",
            "||   | | |||    | ||\n",
            "AT---TTG-TGCTCCTG-GA\n",
            "  Score=10\n",
            "\n",
            "ATGCA-TGGTGC----GCGA\n",
            "||    || |||    | ||\n",
            "AT---TTG-TGCTCCTG-GA\n",
            "  Score=10\n",
            "\n",
            "ATGCATGGTGC----GCGA\n",
            "||  .|| |||    | ||\n",
            "AT--TTG-TGCTCCTG-GA\n",
            "  Score=10\n",
            "\n",
            "ATGCATGGTGC----GCGA\n",
            "|| . || |||    | ||\n",
            "AT-T-TG-TGCTCCTG-GA\n",
            "  Score=10\n",
            "\n",
            "ATGCATGGTGC----GCGA\n",
            "||.  || |||    | ||\n",
            "ATT--TG-TGCTCCTG-GA\n",
            "  Score=10\n",
            "\n",
            "A-TGCATGGTGC----GCGA\n",
            "| |   || |||    | ||\n",
            "ATT---TG-TGCTCCTG-GA\n",
            "  Score=10\n",
            "\n",
            "ATGCATG-GTG--C--GCGA\n",
            "||   |  |||  |  | ||\n",
            "AT---T-TGTGCTCCTG-GA\n",
            "  Score=10\n",
            "\n",
            "ATGCATGGTG--C--GCGA\n",
            "||   |.|||  |  | ||\n",
            "AT---TTGTGCTCCTG-GA\n",
            "  Score=10\n",
            "\n",
            "ATGCA-TGGTG--C--GCGA\n",
            "||    | |||  |  | ||\n",
            "AT---TT-GTGCTCCTG-GA\n",
            "  Score=10\n",
            "\n",
            "ATGCATGGTG--C--GCGA\n",
            "||  .| |||  |  | ||\n",
            "AT--TT-GTGCTCCTG-GA\n",
            "  Score=10\n",
            "\n",
            "ATGCATGGTG--C--GCGA\n",
            "|| . | |||  |  | ||\n",
            "AT-T-T-GTGCTCCTG-GA\n",
            "  Score=10\n",
            "\n",
            "ATGCATGGTG--C--GCGA\n",
            "||.  | |||  |  | ||\n",
            "ATT--T-GTGCTCCTG-GA\n",
            "  Score=10\n",
            "\n",
            "A-TGCATGGTG--C--GCGA\n",
            "| |   | |||  |  | ||\n",
            "ATT---T-GTGCTCCTG-GA\n",
            "  Score=10\n",
            "\n",
            "ATGCAT-GGTG--C--GCGA\n",
            "||   | | ||  |  | ||\n",
            "AT---TTG-TGCTCCTG-GA\n",
            "  Score=10\n",
            "\n",
            "ATGCA-TGGTG--C--GCGA\n",
            "||    || ||  |  | ||\n",
            "AT---TTG-TGCTCCTG-GA\n",
            "  Score=10\n",
            "\n",
            "ATGCATGGTG--C--GCGA\n",
            "||  .|| ||  |  | ||\n",
            "AT--TTG-TGCTCCTG-GA\n",
            "  Score=10\n",
            "\n",
            "ATGCATGGTG--C--GCGA\n",
            "|| . || ||  |  | ||\n",
            "AT-T-TG-TGCTCCTG-GA\n",
            "  Score=10\n",
            "\n",
            "ATGCATGGTG--C--GCGA\n",
            "||.  || ||  |  | ||\n",
            "ATT--TG-TGCTCCTG-GA\n",
            "  Score=10\n",
            "\n",
            "A-TGCATGGTG--C--GCGA\n",
            "| |   || ||  |  | ||\n",
            "ATT---TG-TGCTCCTG-GA\n",
            "  Score=10\n",
            "\n",
            "ATGCAT-G-G-TGC--GCGA\n",
            "||   | | | | |  | ||\n",
            "AT---TTGTGCT-CCTG-GA\n",
            "  Score=10\n",
            "\n",
            "ATGCA-TG-G-TGC--GCGA\n",
            "||    || | | |  | ||\n",
            "AT---TTGTGCT-CCTG-GA\n",
            "  Score=10\n",
            "\n",
            "ATGCATG-G-TGC--GCGA\n",
            "||  .|| | | |  | ||\n",
            "AT--TTGTGCT-CCTG-GA\n",
            "  Score=10\n",
            "\n",
            "ATGCATG-G-TGC--GCGA\n",
            "|| . || | | |  | ||\n",
            "AT-T-TGTGCT-CCTG-GA\n",
            "  Score=10\n",
            "\n",
            "ATGCATG-G-TGC--GCGA\n",
            "||.  || | | |  | ||\n",
            "ATT--TGTGCT-CCTG-GA\n",
            "  Score=10\n",
            "\n",
            "A-TGCATG-G-TGC--GCGA\n",
            "| |   || | | |  | ||\n",
            "ATT---TGTGCT-CCTG-GA\n",
            "  Score=10\n",
            "\n",
            "AT--GCATGG-TGC--GCGA\n",
            "||  |  | | | |  | ||\n",
            "ATTTG--T-GCT-CCTG-GA\n",
            "  Score=10\n",
            "\n",
            "A-T-GCATGG-TGC--GCGA\n",
            "| | |  | | | |  | ||\n",
            "ATTTG--T-GCT-CCTG-GA\n",
            "  Score=10\n",
            "\n",
            "A--TGCATGG-TGC--GCGA\n",
            "|  ||  | | | |  | ||\n",
            "ATTTG--T-GCT-CCTG-GA\n",
            "  Score=10\n",
            "\n",
            "AT--GCATGG-TGC--GCGA\n",
            "||  |  ||  | |  | ||\n",
            "ATTTG--TG-CT-CCTG-GA\n",
            "  Score=10\n",
            "\n",
            "A-T-GCATGG-TGC--GCGA\n",
            "| | |  ||  | |  | ||\n",
            "ATTTG--TG-CT-CCTG-GA\n",
            "  Score=10\n",
            "\n",
            "A--TGCATGG-TGC--GCGA\n",
            "|  ||  ||  | |  | ||\n",
            "ATTTG--TG-CT-CCTG-GA\n",
            "  Score=10\n",
            "\n",
            "AT--GCATGGTGC--GCGA\n",
            "||  |  ||.| |  | ||\n",
            "ATTTG--TGCT-CCTG-GA\n",
            "  Score=10\n",
            "\n",
            "A-T-GCATGGTGC--GCGA\n",
            "| | |  ||.| |  | ||\n",
            "ATTTG--TGCT-CCTG-GA\n",
            "  Score=10\n",
            "\n",
            "A--TGCATGGTGC--GCGA\n",
            "|  ||  ||.| |  | ||\n",
            "ATTTG--TGCT-CCTG-GA\n",
            "  Score=10\n",
            "\n"
          ]
        }
      ],
      "source": [
        "# View all possible alignment\n",
        "for a in alignments:\n",
        "  print(format_alignment(*a))"
      ]
    },
    {
      "cell_type": "code",
      "execution_count": 203,
      "metadata": {
        "id": "DPK31YekZrra"
      },
      "outputs": [],
      "source": [
        "# Perform Local Alignment\n",
        "loc_alignments = pairwise2.align.localxx(seq1,seq2)"
      ]
    },
    {
      "cell_type": "code",
      "execution_count": 204,
      "metadata": {
        "id": "GxV_shdIZrra",
        "colab": {
          "base_uri": "https://localhost:8080/"
        },
        "outputId": "b942a9f8-48be-4469-9f7f-bac013bedc8e"
      },
      "outputs": [
        {
          "output_type": "stream",
          "name": "stdout",
          "text": [
            "ATGCATG-GTGCG-C--G-A\n",
            "||   |  ||||  |  | |\n",
            "AT---T-TGTGC-TCCTGGA\n",
            "  Score=10\n",
            "\n",
            "ATGCATGGTGCG-C--G-A\n",
            "||   |.||||  |  | |\n",
            "AT---TTGTGC-TCCTGGA\n",
            "  Score=10\n",
            "\n",
            "ATGCA-TGGTGCG-C--G-A\n",
            "||    | ||||  |  | |\n",
            "AT---TT-GTGC-TCCTGGA\n",
            "  Score=10\n",
            "\n",
            "ATGCATGGTGCG-C--G-A\n",
            "||  .| ||||  |  | |\n",
            "AT--TT-GTGC-TCCTGGA\n",
            "  Score=10\n",
            "\n",
            "ATGCATGGTGCG-C--G-A\n",
            "|| . | ||||  |  | |\n",
            "AT-T-T-GTGC-TCCTGGA\n",
            "  Score=10\n",
            "\n",
            "ATGCATGGTGCG-C--G-A\n",
            "||.  | ||||  |  | |\n",
            "ATT--T-GTGC-TCCTGGA\n",
            "  Score=10\n",
            "\n",
            "A-TGCATGGTGCG-C--G-A\n",
            "| |   | ||||  |  | |\n",
            "ATT---T-GTGC-TCCTGGA\n",
            "  Score=10\n",
            "\n",
            "ATGCAT-GGTGCG-C--G-A\n",
            "||   | | |||  |  | |\n",
            "AT---TTG-TGC-TCCTGGA\n",
            "  Score=10\n",
            "\n",
            "ATGCA-TGGTGCG-C--G-A\n",
            "||    || |||  |  | |\n",
            "AT---TTG-TGC-TCCTGGA\n",
            "  Score=10\n",
            "\n",
            "ATGCATGGTGCG-C--G-A\n",
            "||  .|| |||  |  | |\n",
            "AT--TTG-TGC-TCCTGGA\n",
            "  Score=10\n",
            "\n",
            "ATGCATGGTGCG-C--G-A\n",
            "|| . || |||  |  | |\n",
            "AT-T-TG-TGC-TCCTGGA\n",
            "  Score=10\n",
            "\n",
            "ATGCATGGTGCG-C--G-A\n",
            "||.  || |||  |  | |\n",
            "ATT--TG-TGC-TCCTGGA\n",
            "  Score=10\n",
            "\n",
            "A-TGCATGGTGCG-C--G-A\n",
            "| |   || |||  |  | |\n",
            "ATT---TG-TGC-TCCTGGA\n",
            "  Score=10\n",
            "\n",
            "ATGCATG-GTGCGC--G-A\n",
            "||   |  ||||.|  | |\n",
            "AT---T-TGTGCTCCTGGA\n",
            "  Score=10\n",
            "\n",
            "ATGCATGGTGCGC--G-A\n",
            "||   |.||||.|  | |\n",
            "AT---TTGTGCTCCTGGA\n",
            "  Score=10\n",
            "\n",
            "ATGCA-TGGTGCGC--G-A\n",
            "||    | ||||.|  | |\n",
            "AT---TT-GTGCTCCTGGA\n",
            "  Score=10\n",
            "\n",
            "ATGCATGGTGCGC--G-A\n",
            "||  .| ||||.|  | |\n",
            "AT--TT-GTGCTCCTGGA\n",
            "  Score=10\n",
            "\n",
            "ATGCATGGTGCGC--G-A\n",
            "|| . | ||||.|  | |\n",
            "AT-T-T-GTGCTCCTGGA\n",
            "  Score=10\n",
            "\n",
            "ATGCATGGTGCGC--G-A\n",
            "||.  | ||||.|  | |\n",
            "ATT--T-GTGCTCCTGGA\n",
            "  Score=10\n",
            "\n",
            "A-TGCATGGTGCGC--G-A\n",
            "| |   | ||||.|  | |\n",
            "ATT---T-GTGCTCCTGGA\n",
            "  Score=10\n",
            "\n",
            "ATGCAT-GGTGCGC--G-A\n",
            "||   | | |||.|  | |\n",
            "AT---TTG-TGCTCCTGGA\n",
            "  Score=10\n",
            "\n",
            "ATGCA-TGGTGCGC--G-A\n",
            "||    || |||.|  | |\n",
            "AT---TTG-TGCTCCTGGA\n",
            "  Score=10\n",
            "\n",
            "ATGCATGGTGCGC--G-A\n",
            "||  .|| |||.|  | |\n",
            "AT--TTG-TGCTCCTGGA\n",
            "  Score=10\n",
            "\n",
            "ATGCATGGTGCGC--G-A\n",
            "|| . || |||.|  | |\n",
            "AT-T-TG-TGCTCCTGGA\n",
            "  Score=10\n",
            "\n",
            "ATGCATGGTGCGC--G-A\n",
            "||.  || |||.|  | |\n",
            "ATT--TG-TGCTCCTGGA\n",
            "  Score=10\n",
            "\n",
            "A-TGCATGGTGCGC--G-A\n",
            "| |   || |||.|  | |\n",
            "ATT---TG-TGCTCCTGGA\n",
            "  Score=10\n",
            "\n",
            "ATGCATG-GTGCG--C-G-A\n",
            "||   |  ||||   | | |\n",
            "AT---T-TGTGC-TCCTGGA\n",
            "  Score=10\n",
            "\n",
            "ATGCATGGTGCG--C-G-A\n",
            "||   |.||||   | | |\n",
            "AT---TTGTGC-TCCTGGA\n",
            "  Score=10\n",
            "\n",
            "ATGCA-TGGTGCG--C-G-A\n",
            "||    | ||||   | | |\n",
            "AT---TT-GTGC-TCCTGGA\n",
            "  Score=10\n",
            "\n",
            "ATGCATGGTGCG--C-G-A\n",
            "||  .| ||||   | | |\n",
            "AT--TT-GTGC-TCCTGGA\n",
            "  Score=10\n",
            "\n",
            "ATGCATGGTGCG--C-G-A\n",
            "|| . | ||||   | | |\n",
            "AT-T-T-GTGC-TCCTGGA\n",
            "  Score=10\n",
            "\n",
            "ATGCATGGTGCG--C-G-A\n",
            "||.  | ||||   | | |\n",
            "ATT--T-GTGC-TCCTGGA\n",
            "  Score=10\n",
            "\n",
            "A-TGCATGGTGCG--C-G-A\n",
            "| |   | ||||   | | |\n",
            "ATT---T-GTGC-TCCTGGA\n",
            "  Score=10\n",
            "\n",
            "ATGCAT-GGTGCG--C-G-A\n",
            "||   | | |||   | | |\n",
            "AT---TTG-TGC-TCCTGGA\n",
            "  Score=10\n",
            "\n",
            "ATGCA-TGGTGCG--C-G-A\n",
            "||    || |||   | | |\n",
            "AT---TTG-TGC-TCCTGGA\n",
            "  Score=10\n",
            "\n",
            "ATGCATGGTGCG--C-G-A\n",
            "||  .|| |||   | | |\n",
            "AT--TTG-TGC-TCCTGGA\n",
            "  Score=10\n",
            "\n",
            "ATGCATGGTGCG--C-G-A\n",
            "|| . || |||   | | |\n",
            "AT-T-TG-TGC-TCCTGGA\n",
            "  Score=10\n",
            "\n",
            "ATGCATGGTGCG--C-G-A\n",
            "||.  || |||   | | |\n",
            "ATT--TG-TGC-TCCTGGA\n",
            "  Score=10\n",
            "\n",
            "A-TGCATGGTGCG--C-G-A\n",
            "| |   || |||   | | |\n",
            "ATT---TG-TGC-TCCTGGA\n",
            "  Score=10\n",
            "\n",
            "ATGCATG-GTGCG-C-G-A\n",
            "||   |  ||||. | | |\n",
            "AT---T-TGTGCTCCTGGA\n",
            "  Score=10\n",
            "\n",
            "ATGCATGGTGCG-C-G-A\n",
            "||   |.||||. | | |\n",
            "AT---TTGTGCTCCTGGA\n",
            "  Score=10\n",
            "\n",
            "ATGCA-TGGTGCG-C-G-A\n",
            "||    | ||||. | | |\n",
            "AT---TT-GTGCTCCTGGA\n",
            "  Score=10\n",
            "\n",
            "ATGCATGGTGCG-C-G-A\n",
            "||  .| ||||. | | |\n",
            "AT--TT-GTGCTCCTGGA\n",
            "  Score=10\n",
            "\n",
            "ATGCATGGTGCG-C-G-A\n",
            "|| . | ||||. | | |\n",
            "AT-T-T-GTGCTCCTGGA\n",
            "  Score=10\n",
            "\n",
            "ATGCATGGTGCG-C-G-A\n",
            "||.  | ||||. | | |\n",
            "ATT--T-GTGCTCCTGGA\n",
            "  Score=10\n",
            "\n",
            "A-TGCATGGTGCG-C-G-A\n",
            "| |   | ||||. | | |\n",
            "ATT---T-GTGCTCCTGGA\n",
            "  Score=10\n",
            "\n",
            "ATGCAT-GGTGCG-C-G-A\n",
            "||   | | |||. | | |\n",
            "AT---TTG-TGCTCCTGGA\n",
            "  Score=10\n",
            "\n",
            "ATGCA-TGGTGCG-C-G-A\n",
            "||    || |||. | | |\n",
            "AT---TTG-TGCTCCTGGA\n",
            "  Score=10\n",
            "\n",
            "ATGCATGGTGCG-C-G-A\n",
            "||  .|| |||. | | |\n",
            "AT--TTG-TGCTCCTGGA\n",
            "  Score=10\n",
            "\n",
            "ATGCATGGTGCG-C-G-A\n",
            "|| . || |||. | | |\n",
            "AT-T-TG-TGCTCCTGGA\n",
            "  Score=10\n",
            "\n",
            "ATGCATGGTGCG-C-G-A\n",
            "||.  || |||. | | |\n",
            "ATT--TG-TGCTCCTGGA\n",
            "  Score=10\n",
            "\n",
            "A-TGCATGGTGCG-C-G-A\n",
            "| |   || |||. | | |\n",
            "ATT---TG-TGCTCCTGGA\n",
            "  Score=10\n",
            "\n",
            "ATGCATG-GTGC-GC-G-A\n",
            "||   |  |||| .| | |\n",
            "AT---T-TGTGCTCCTGGA\n",
            "  Score=10\n",
            "\n",
            "ATGCATGGTGC-GC-G-A\n",
            "||   |.|||| .| | |\n",
            "AT---TTGTGCTCCTGGA\n",
            "  Score=10\n",
            "\n",
            "ATGCA-TGGTGC-GC-G-A\n",
            "||    | |||| .| | |\n",
            "AT---TT-GTGCTCCTGGA\n",
            "  Score=10\n",
            "\n",
            "ATGCATGGTGC-GC-G-A\n",
            "||  .| |||| .| | |\n",
            "AT--TT-GTGCTCCTGGA\n",
            "  Score=10\n",
            "\n",
            "ATGCATGGTGC-GC-G-A\n",
            "|| . | |||| .| | |\n",
            "AT-T-T-GTGCTCCTGGA\n",
            "  Score=10\n",
            "\n",
            "ATGCATGGTGC-GC-G-A\n",
            "||.  | |||| .| | |\n",
            "ATT--T-GTGCTCCTGGA\n",
            "  Score=10\n",
            "\n",
            "A-TGCATGGTGC-GC-G-A\n",
            "| |   | |||| .| | |\n",
            "ATT---T-GTGCTCCTGGA\n",
            "  Score=10\n",
            "\n",
            "ATGCAT-GGTGC-GC-G-A\n",
            "||   | | ||| .| | |\n",
            "AT---TTG-TGCTCCTGGA\n",
            "  Score=10\n",
            "\n",
            "ATGCA-TGGTGC-GC-G-A\n",
            "||    || ||| .| | |\n",
            "AT---TTG-TGCTCCTGGA\n",
            "  Score=10\n",
            "\n",
            "ATGCATGGTGC-GC-G-A\n",
            "||  .|| ||| .| | |\n",
            "AT--TTG-TGCTCCTGGA\n",
            "  Score=10\n",
            "\n",
            "ATGCATGGTGC-GC-G-A\n",
            "|| . || ||| .| | |\n",
            "AT-T-TG-TGCTCCTGGA\n",
            "  Score=10\n",
            "\n",
            "ATGCATGGTGC-GC-G-A\n",
            "||.  || ||| .| | |\n",
            "ATT--TG-TGCTCCTGGA\n",
            "  Score=10\n",
            "\n",
            "A-TGCATGGTGC-GC-G-A\n",
            "| |   || ||| .| | |\n",
            "ATT---TG-TGCTCCTGGA\n",
            "  Score=10\n",
            "\n",
            "ATGCATG-GTG--CGC-G-A\n",
            "||   |  |||  | | | |\n",
            "AT---T-TGTGCTC-CTGGA\n",
            "  Score=10\n",
            "\n",
            "ATGCATGGTG--CGC-G-A\n",
            "||   |.|||  | | | |\n",
            "AT---TTGTGCTC-CTGGA\n",
            "  Score=10\n",
            "\n",
            "ATGCA-TGGTG--CGC-G-A\n",
            "||    | |||  | | | |\n",
            "AT---TT-GTGCTC-CTGGA\n",
            "  Score=10\n",
            "\n",
            "ATGCATGGTG--CGC-G-A\n",
            "||  .| |||  | | | |\n",
            "AT--TT-GTGCTC-CTGGA\n",
            "  Score=10\n",
            "\n",
            "ATGCATGGTG--CGC-G-A\n",
            "|| . | |||  | | | |\n",
            "AT-T-T-GTGCTC-CTGGA\n",
            "  Score=10\n",
            "\n",
            "ATGCATGGTG--CGC-G-A\n",
            "||.  | |||  | | | |\n",
            "ATT--T-GTGCTC-CTGGA\n",
            "  Score=10\n",
            "\n",
            "A-TGCATGGTG--CGC-G-A\n",
            "| |   | |||  | | | |\n",
            "ATT---T-GTGCTC-CTGGA\n",
            "  Score=10\n",
            "\n",
            "ATGCAT-GGTG--CGC-G-A\n",
            "||   | | ||  | | | |\n",
            "AT---TTG-TGCTC-CTGGA\n",
            "  Score=10\n",
            "\n",
            "ATGCA-TGGTG--CGC-G-A\n",
            "||    || ||  | | | |\n",
            "AT---TTG-TGCTC-CTGGA\n",
            "  Score=10\n",
            "\n",
            "ATGCATGGTG--CGC-G-A\n",
            "||  .|| ||  | | | |\n",
            "AT--TTG-TGCTC-CTGGA\n",
            "  Score=10\n",
            "\n",
            "ATGCATGGTG--CGC-G-A\n",
            "|| . || ||  | | | |\n",
            "AT-T-TG-TGCTC-CTGGA\n",
            "  Score=10\n",
            "\n",
            "ATGCATGGTG--CGC-G-A\n",
            "||.  || ||  | | | |\n",
            "ATT--TG-TGCTC-CTGGA\n",
            "  Score=10\n",
            "\n",
            "A-TGCATGGTG--CGC-G-A\n",
            "| |   || ||  | | | |\n",
            "ATT---TG-TGCTC-CTGGA\n",
            "  Score=10\n",
            "\n",
            "ATGCAT-G-G-TGCGC-G-A\n",
            "||   | | | | | | | |\n",
            "AT---TTGTGCT-C-CTGGA\n",
            "  Score=10\n",
            "\n",
            "ATGCA-TG-G-TGCGC-G-A\n",
            "||    || | | | | | |\n",
            "AT---TTGTGCT-C-CTGGA\n",
            "  Score=10\n",
            "\n",
            "ATGCATG-G-TGCGC-G-A\n",
            "||  .|| | | | | | |\n",
            "AT--TTGTGCT-C-CTGGA\n",
            "  Score=10\n",
            "\n",
            "ATGCATG-G-TGCGC-G-A\n",
            "|| . || | | | | | |\n",
            "AT-T-TGTGCT-C-CTGGA\n",
            "  Score=10\n",
            "\n",
            "ATGCATG-G-TGCGC-G-A\n",
            "||.  || | | | | | |\n",
            "ATT--TGTGCT-C-CTGGA\n",
            "  Score=10\n",
            "\n",
            "A-TGCATG-G-TGCGC-G-A\n",
            "| |   || | | | | | |\n",
            "ATT---TGTGCT-C-CTGGA\n",
            "  Score=10\n",
            "\n",
            "AT--GCATGG-TGCGC-G-A\n",
            "||  |  | | | | | | |\n",
            "ATTTG--T-GCT-C-CTGGA\n",
            "  Score=10\n",
            "\n",
            "A-T-GCATGG-TGCGC-G-A\n",
            "| | |  | | | | | | |\n",
            "ATTTG--T-GCT-C-CTGGA\n",
            "  Score=10\n",
            "\n",
            "A--TGCATGG-TGCGC-G-A\n",
            "|  ||  | | | | | | |\n",
            "ATTTG--T-GCT-C-CTGGA\n",
            "  Score=10\n",
            "\n",
            "AT--GCATGG-TGCGC-G-A\n",
            "||  |  ||  | | | | |\n",
            "ATTTG--TG-CT-C-CTGGA\n",
            "  Score=10\n",
            "\n",
            "A-T-GCATGG-TGCGC-G-A\n",
            "| | |  ||  | | | | |\n",
            "ATTTG--TG-CT-C-CTGGA\n",
            "  Score=10\n",
            "\n",
            "A--TGCATGG-TGCGC-G-A\n",
            "|  ||  ||  | | | | |\n",
            "ATTTG--TG-CT-C-CTGGA\n",
            "  Score=10\n",
            "\n",
            "AT--GCATGGTGCGC-G-A\n",
            "||  |  ||.| | | | |\n",
            "ATTTG--TGCT-C-CTGGA\n",
            "  Score=10\n",
            "\n",
            "A-T-GCATGGTGCGC-G-A\n",
            "| | |  ||.| | | | |\n",
            "ATTTG--TGCT-C-CTGGA\n",
            "  Score=10\n",
            "\n",
            "A--TGCATGGTGCGC-G-A\n",
            "|  ||  ||.| | | | |\n",
            "ATTTG--TGCT-C-CTGGA\n",
            "  Score=10\n",
            "\n",
            "ATGCATG-GTGCG-C---GA\n",
            "||   |  ||||  |   ||\n",
            "AT---T-TGTGC-TCCTGGA\n",
            "  Score=10\n",
            "\n",
            "ATGCATGGTGCG-C---GA\n",
            "||   |.||||  |   ||\n",
            "AT---TTGTGC-TCCTGGA\n",
            "  Score=10\n",
            "\n",
            "ATGCA-TGGTGCG-C---GA\n",
            "||    | ||||  |   ||\n",
            "AT---TT-GTGC-TCCTGGA\n",
            "  Score=10\n",
            "\n",
            "ATGCATGGTGCG-C---GA\n",
            "||  .| ||||  |   ||\n",
            "AT--TT-GTGC-TCCTGGA\n",
            "  Score=10\n",
            "\n",
            "ATGCATGGTGCG-C---GA\n",
            "|| . | ||||  |   ||\n",
            "AT-T-T-GTGC-TCCTGGA\n",
            "  Score=10\n",
            "\n",
            "ATGCATGGTGCG-C---GA\n",
            "||.  | ||||  |   ||\n",
            "ATT--T-GTGC-TCCTGGA\n",
            "  Score=10\n",
            "\n",
            "A-TGCATGGTGCG-C---GA\n",
            "| |   | ||||  |   ||\n",
            "ATT---T-GTGC-TCCTGGA\n",
            "  Score=10\n",
            "\n",
            "ATGCAT-GGTGCG-C---GA\n",
            "||   | | |||  |   ||\n",
            "AT---TTG-TGC-TCCTGGA\n",
            "  Score=10\n",
            "\n",
            "ATGCA-TGGTGCG-C---GA\n",
            "||    || |||  |   ||\n",
            "AT---TTG-TGC-TCCTGGA\n",
            "  Score=10\n",
            "\n",
            "ATGCATGGTGCG-C---GA\n",
            "||  .|| |||  |   ||\n",
            "AT--TTG-TGC-TCCTGGA\n",
            "  Score=10\n",
            "\n",
            "ATGCATGGTGCG-C---GA\n",
            "|| . || |||  |   ||\n",
            "AT-T-TG-TGC-TCCTGGA\n",
            "  Score=10\n",
            "\n",
            "ATGCATGGTGCG-C---GA\n",
            "||.  || |||  |   ||\n",
            "ATT--TG-TGC-TCCTGGA\n",
            "  Score=10\n",
            "\n",
            "A-TGCATGGTGCG-C---GA\n",
            "| |   || |||  |   ||\n",
            "ATT---TG-TGC-TCCTGGA\n",
            "  Score=10\n",
            "\n",
            "ATGCATG-GTGCGC---GA\n",
            "||   |  ||||.|   ||\n",
            "AT---T-TGTGCTCCTGGA\n",
            "  Score=10\n",
            "\n",
            "ATGCATGGTGCGC---GA\n",
            "||   |.||||.|   ||\n",
            "AT---TTGTGCTCCTGGA\n",
            "  Score=10\n",
            "\n",
            "ATGCA-TGGTGCGC---GA\n",
            "||    | ||||.|   ||\n",
            "AT---TT-GTGCTCCTGGA\n",
            "  Score=10\n",
            "\n",
            "ATGCATGGTGCGC---GA\n",
            "||  .| ||||.|   ||\n",
            "AT--TT-GTGCTCCTGGA\n",
            "  Score=10\n",
            "\n",
            "ATGCATGGTGCGC---GA\n",
            "|| . | ||||.|   ||\n",
            "AT-T-T-GTGCTCCTGGA\n",
            "  Score=10\n",
            "\n",
            "ATGCATGGTGCGC---GA\n",
            "||.  | ||||.|   ||\n",
            "ATT--T-GTGCTCCTGGA\n",
            "  Score=10\n",
            "\n",
            "A-TGCATGGTGCGC---GA\n",
            "| |   | ||||.|   ||\n",
            "ATT---T-GTGCTCCTGGA\n",
            "  Score=10\n",
            "\n",
            "ATGCAT-GGTGCGC---GA\n",
            "||   | | |||.|   ||\n",
            "AT---TTG-TGCTCCTGGA\n",
            "  Score=10\n",
            "\n",
            "ATGCA-TGGTGCGC---GA\n",
            "||    || |||.|   ||\n",
            "AT---TTG-TGCTCCTGGA\n",
            "  Score=10\n",
            "\n",
            "ATGCATGGTGCGC---GA\n",
            "||  .|| |||.|   ||\n",
            "AT--TTG-TGCTCCTGGA\n",
            "  Score=10\n",
            "\n",
            "ATGCATGGTGCGC---GA\n",
            "|| . || |||.|   ||\n",
            "AT-T-TG-TGCTCCTGGA\n",
            "  Score=10\n",
            "\n",
            "ATGCATGGTGCGC---GA\n",
            "||.  || |||.|   ||\n",
            "ATT--TG-TGCTCCTGGA\n",
            "  Score=10\n",
            "\n",
            "A-TGCATGGTGCGC---GA\n",
            "| |   || |||.|   ||\n",
            "ATT---TG-TGCTCCTGGA\n",
            "  Score=10\n",
            "\n",
            "ATGCATG-GTGCG--C--GA\n",
            "||   |  ||||   |  ||\n",
            "AT---T-TGTGC-TCCTGGA\n",
            "  Score=10\n",
            "\n",
            "ATGCATGGTGCG--C--GA\n",
            "||   |.||||   |  ||\n",
            "AT---TTGTGC-TCCTGGA\n",
            "  Score=10\n",
            "\n",
            "ATGCA-TGGTGCG--C--GA\n",
            "||    | ||||   |  ||\n",
            "AT---TT-GTGC-TCCTGGA\n",
            "  Score=10\n",
            "\n",
            "ATGCATGGTGCG--C--GA\n",
            "||  .| ||||   |  ||\n",
            "AT--TT-GTGC-TCCTGGA\n",
            "  Score=10\n",
            "\n",
            "ATGCATGGTGCG--C--GA\n",
            "|| . | ||||   |  ||\n",
            "AT-T-T-GTGC-TCCTGGA\n",
            "  Score=10\n",
            "\n",
            "ATGCATGGTGCG--C--GA\n",
            "||.  | ||||   |  ||\n",
            "ATT--T-GTGC-TCCTGGA\n",
            "  Score=10\n",
            "\n",
            "A-TGCATGGTGCG--C--GA\n",
            "| |   | ||||   |  ||\n",
            "ATT---T-GTGC-TCCTGGA\n",
            "  Score=10\n",
            "\n",
            "ATGCAT-GGTGCG--C--GA\n",
            "||   | | |||   |  ||\n",
            "AT---TTG-TGC-TCCTGGA\n",
            "  Score=10\n",
            "\n",
            "ATGCA-TGGTGCG--C--GA\n",
            "||    || |||   |  ||\n",
            "AT---TTG-TGC-TCCTGGA\n",
            "  Score=10\n",
            "\n",
            "ATGCATGGTGCG--C--GA\n",
            "||  .|| |||   |  ||\n",
            "AT--TTG-TGC-TCCTGGA\n",
            "  Score=10\n",
            "\n",
            "ATGCATGGTGCG--C--GA\n",
            "|| . || |||   |  ||\n",
            "AT-T-TG-TGC-TCCTGGA\n",
            "  Score=10\n",
            "\n",
            "ATGCATGGTGCG--C--GA\n",
            "||.  || |||   |  ||\n",
            "ATT--TG-TGC-TCCTGGA\n",
            "  Score=10\n",
            "\n",
            "A-TGCATGGTGCG--C--GA\n",
            "| |   || |||   |  ||\n",
            "ATT---TG-TGC-TCCTGGA\n",
            "  Score=10\n",
            "\n",
            "ATGCATG-GTGCG-C--GA\n",
            "||   |  ||||. |  ||\n",
            "AT---T-TGTGCTCCTGGA\n",
            "  Score=10\n",
            "\n",
            "ATGCATGGTGCG-C--GA\n",
            "||   |.||||. |  ||\n",
            "AT---TTGTGCTCCTGGA\n",
            "  Score=10\n",
            "\n",
            "ATGCA-TGGTGCG-C--GA\n",
            "||    | ||||. |  ||\n",
            "AT---TT-GTGCTCCTGGA\n",
            "  Score=10\n",
            "\n",
            "ATGCATGGTGCG-C--GA\n",
            "||  .| ||||. |  ||\n",
            "AT--TT-GTGCTCCTGGA\n",
            "  Score=10\n",
            "\n",
            "ATGCATGGTGCG-C--GA\n",
            "|| . | ||||. |  ||\n",
            "AT-T-T-GTGCTCCTGGA\n",
            "  Score=10\n",
            "\n",
            "ATGCATGGTGCG-C--GA\n",
            "||.  | ||||. |  ||\n",
            "ATT--T-GTGCTCCTGGA\n",
            "  Score=10\n",
            "\n",
            "A-TGCATGGTGCG-C--GA\n",
            "| |   | ||||. |  ||\n",
            "ATT---T-GTGCTCCTGGA\n",
            "  Score=10\n",
            "\n",
            "ATGCAT-GGTGCG-C--GA\n",
            "||   | | |||. |  ||\n",
            "AT---TTG-TGCTCCTGGA\n",
            "  Score=10\n",
            "\n",
            "ATGCA-TGGTGCG-C--GA\n",
            "||    || |||. |  ||\n",
            "AT---TTG-TGCTCCTGGA\n",
            "  Score=10\n",
            "\n",
            "ATGCATGGTGCG-C--GA\n",
            "||  .|| |||. |  ||\n",
            "AT--TTG-TGCTCCTGGA\n",
            "  Score=10\n",
            "\n",
            "ATGCATGGTGCG-C--GA\n",
            "|| . || |||. |  ||\n",
            "AT-T-TG-TGCTCCTGGA\n",
            "  Score=10\n",
            "\n",
            "ATGCATGGTGCG-C--GA\n",
            "||.  || |||. |  ||\n",
            "ATT--TG-TGCTCCTGGA\n",
            "  Score=10\n",
            "\n",
            "A-TGCATGGTGCG-C--GA\n",
            "| |   || |||. |  ||\n",
            "ATT---TG-TGCTCCTGGA\n",
            "  Score=10\n",
            "\n",
            "ATGCATG-GTGC-GC--GA\n",
            "||   |  |||| .|  ||\n",
            "AT---T-TGTGCTCCTGGA\n",
            "  Score=10\n",
            "\n",
            "ATGCATGGTGC-GC--GA\n",
            "||   |.|||| .|  ||\n",
            "AT---TTGTGCTCCTGGA\n",
            "  Score=10\n",
            "\n",
            "ATGCA-TGGTGC-GC--GA\n",
            "||    | |||| .|  ||\n",
            "AT---TT-GTGCTCCTGGA\n",
            "  Score=10\n",
            "\n",
            "ATGCATGGTGC-GC--GA\n",
            "||  .| |||| .|  ||\n",
            "AT--TT-GTGCTCCTGGA\n",
            "  Score=10\n",
            "\n",
            "ATGCATGGTGC-GC--GA\n",
            "|| . | |||| .|  ||\n",
            "AT-T-T-GTGCTCCTGGA\n",
            "  Score=10\n",
            "\n",
            "ATGCATGGTGC-GC--GA\n",
            "||.  | |||| .|  ||\n",
            "ATT--T-GTGCTCCTGGA\n",
            "  Score=10\n",
            "\n",
            "A-TGCATGGTGC-GC--GA\n",
            "| |   | |||| .|  ||\n",
            "ATT---T-GTGCTCCTGGA\n",
            "  Score=10\n",
            "\n",
            "ATGCAT-GGTGC-GC--GA\n",
            "||   | | ||| .|  ||\n",
            "AT---TTG-TGCTCCTGGA\n",
            "  Score=10\n",
            "\n",
            "ATGCA-TGGTGC-GC--GA\n",
            "||    || ||| .|  ||\n",
            "AT---TTG-TGCTCCTGGA\n",
            "  Score=10\n",
            "\n",
            "ATGCATGGTGC-GC--GA\n",
            "||  .|| ||| .|  ||\n",
            "AT--TTG-TGCTCCTGGA\n",
            "  Score=10\n",
            "\n",
            "ATGCATGGTGC-GC--GA\n",
            "|| . || ||| .|  ||\n",
            "AT-T-TG-TGCTCCTGGA\n",
            "  Score=10\n",
            "\n",
            "ATGCATGGTGC-GC--GA\n",
            "||.  || ||| .|  ||\n",
            "ATT--TG-TGCTCCTGGA\n",
            "  Score=10\n",
            "\n",
            "A-TGCATGGTGC-GC--GA\n",
            "| |   || ||| .|  ||\n",
            "ATT---TG-TGCTCCTGGA\n",
            "  Score=10\n",
            "\n",
            "ATGCATG-GTG--CGC--GA\n",
            "||   |  |||  | |  ||\n",
            "AT---T-TGTGCTC-CTGGA\n",
            "  Score=10\n",
            "\n",
            "ATGCATGGTG--CGC--GA\n",
            "||   |.|||  | |  ||\n",
            "AT---TTGTGCTC-CTGGA\n",
            "  Score=10\n",
            "\n",
            "ATGCA-TGGTG--CGC--GA\n",
            "||    | |||  | |  ||\n",
            "AT---TT-GTGCTC-CTGGA\n",
            "  Score=10\n",
            "\n",
            "ATGCATGGTG--CGC--GA\n",
            "||  .| |||  | |  ||\n",
            "AT--TT-GTGCTC-CTGGA\n",
            "  Score=10\n",
            "\n",
            "ATGCATGGTG--CGC--GA\n",
            "|| . | |||  | |  ||\n",
            "AT-T-T-GTGCTC-CTGGA\n",
            "  Score=10\n",
            "\n",
            "ATGCATGGTG--CGC--GA\n",
            "||.  | |||  | |  ||\n",
            "ATT--T-GTGCTC-CTGGA\n",
            "  Score=10\n",
            "\n",
            "A-TGCATGGTG--CGC--GA\n",
            "| |   | |||  | |  ||\n",
            "ATT---T-GTGCTC-CTGGA\n",
            "  Score=10\n",
            "\n",
            "ATGCAT-GGTG--CGC--GA\n",
            "||   | | ||  | |  ||\n",
            "AT---TTG-TGCTC-CTGGA\n",
            "  Score=10\n",
            "\n",
            "ATGCA-TGGTG--CGC--GA\n",
            "||    || ||  | |  ||\n",
            "AT---TTG-TGCTC-CTGGA\n",
            "  Score=10\n",
            "\n",
            "ATGCATGGTG--CGC--GA\n",
            "||  .|| ||  | |  ||\n",
            "AT--TTG-TGCTC-CTGGA\n",
            "  Score=10\n",
            "\n",
            "ATGCATGGTG--CGC--GA\n",
            "|| . || ||  | |  ||\n",
            "AT-T-TG-TGCTC-CTGGA\n",
            "  Score=10\n",
            "\n",
            "ATGCATGGTG--CGC--GA\n",
            "||.  || ||  | |  ||\n",
            "ATT--TG-TGCTC-CTGGA\n",
            "  Score=10\n",
            "\n",
            "A-TGCATGGTG--CGC--GA\n",
            "| |   || ||  | |  ||\n",
            "ATT---TG-TGCTC-CTGGA\n",
            "  Score=10\n",
            "\n",
            "ATGCAT-G-G-TGCGC--GA\n",
            "||   | | | | | |  ||\n",
            "AT---TTGTGCT-C-CTGGA\n",
            "  Score=10\n",
            "\n",
            "ATGCA-TG-G-TGCGC--GA\n",
            "||    || | | | |  ||\n",
            "AT---TTGTGCT-C-CTGGA\n",
            "  Score=10\n",
            "\n",
            "ATGCATG-G-TGCGC--GA\n",
            "||  .|| | | | |  ||\n",
            "AT--TTGTGCT-C-CTGGA\n",
            "  Score=10\n",
            "\n",
            "ATGCATG-G-TGCGC--GA\n",
            "|| . || | | | |  ||\n",
            "AT-T-TGTGCT-C-CTGGA\n",
            "  Score=10\n",
            "\n",
            "ATGCATG-G-TGCGC--GA\n",
            "||.  || | | | |  ||\n",
            "ATT--TGTGCT-C-CTGGA\n",
            "  Score=10\n",
            "\n",
            "A-TGCATG-G-TGCGC--GA\n",
            "| |   || | | | |  ||\n",
            "ATT---TGTGCT-C-CTGGA\n",
            "  Score=10\n",
            "\n",
            "AT--GCATGG-TGCGC--GA\n",
            "||  |  | | | | |  ||\n",
            "ATTTG--T-GCT-C-CTGGA\n",
            "  Score=10\n",
            "\n",
            "A-T-GCATGG-TGCGC--GA\n",
            "| | |  | | | | |  ||\n",
            "ATTTG--T-GCT-C-CTGGA\n",
            "  Score=10\n",
            "\n",
            "A--TGCATGG-TGCGC--GA\n",
            "|  ||  | | | | |  ||\n",
            "ATTTG--T-GCT-C-CTGGA\n",
            "  Score=10\n",
            "\n",
            "AT--GCATGG-TGCGC--GA\n",
            "||  |  ||  | | |  ||\n",
            "ATTTG--TG-CT-C-CTGGA\n",
            "  Score=10\n",
            "\n",
            "A-T-GCATGG-TGCGC--GA\n",
            "| | |  ||  | | |  ||\n",
            "ATTTG--TG-CT-C-CTGGA\n",
            "  Score=10\n",
            "\n",
            "A--TGCATGG-TGCGC--GA\n",
            "|  ||  ||  | | |  ||\n",
            "ATTTG--TG-CT-C-CTGGA\n",
            "  Score=10\n",
            "\n",
            "AT--GCATGGTGCGC--GA\n",
            "||  |  ||.| | |  ||\n",
            "ATTTG--TGCT-C-CTGGA\n",
            "  Score=10\n",
            "\n",
            "A-T-GCATGGTGCGC--GA\n",
            "| | |  ||.| | |  ||\n",
            "ATTTG--TGCT-C-CTGGA\n",
            "  Score=10\n",
            "\n",
            "A--TGCATGGTGCGC--GA\n",
            "|  ||  ||.| | |  ||\n",
            "ATTTG--TGCT-C-CTGGA\n",
            "  Score=10\n",
            "\n",
            "ATGCATG-GTGC----GCGA\n",
            "||   |  ||||    | ||\n",
            "AT---T-TGTGCTCCTG-GA\n",
            "  Score=10\n",
            "\n",
            "ATGCATGGTGC----GCGA\n",
            "||   |.||||    | ||\n",
            "AT---TTGTGCTCCTG-GA\n",
            "  Score=10\n",
            "\n",
            "ATGCA-TGGTGC----GCGA\n",
            "||    | ||||    | ||\n",
            "AT---TT-GTGCTCCTG-GA\n",
            "  Score=10\n",
            "\n",
            "ATGCATGGTGC----GCGA\n",
            "||  .| ||||    | ||\n",
            "AT--TT-GTGCTCCTG-GA\n",
            "  Score=10\n",
            "\n",
            "ATGCATGGTGC----GCGA\n",
            "|| . | ||||    | ||\n",
            "AT-T-T-GTGCTCCTG-GA\n",
            "  Score=10\n",
            "\n",
            "ATGCATGGTGC----GCGA\n",
            "||.  | ||||    | ||\n",
            "ATT--T-GTGCTCCTG-GA\n",
            "  Score=10\n",
            "\n",
            "A-TGCATGGTGC----GCGA\n",
            "| |   | ||||    | ||\n",
            "ATT---T-GTGCTCCTG-GA\n",
            "  Score=10\n",
            "\n",
            "ATGCAT-GGTGC----GCGA\n",
            "||   | | |||    | ||\n",
            "AT---TTG-TGCTCCTG-GA\n",
            "  Score=10\n",
            "\n",
            "ATGCA-TGGTGC----GCGA\n",
            "||    || |||    | ||\n",
            "AT---TTG-TGCTCCTG-GA\n",
            "  Score=10\n",
            "\n",
            "ATGCATGGTGC----GCGA\n",
            "||  .|| |||    | ||\n",
            "AT--TTG-TGCTCCTG-GA\n",
            "  Score=10\n",
            "\n",
            "ATGCATGGTGC----GCGA\n",
            "|| . || |||    | ||\n",
            "AT-T-TG-TGCTCCTG-GA\n",
            "  Score=10\n",
            "\n",
            "ATGCATGGTGC----GCGA\n",
            "||.  || |||    | ||\n",
            "ATT--TG-TGCTCCTG-GA\n",
            "  Score=10\n",
            "\n",
            "A-TGCATGGTGC----GCGA\n",
            "| |   || |||    | ||\n",
            "ATT---TG-TGCTCCTG-GA\n",
            "  Score=10\n",
            "\n",
            "ATGCATG-GTG--C--GCGA\n",
            "||   |  |||  |  | ||\n",
            "AT---T-TGTGCTCCTG-GA\n",
            "  Score=10\n",
            "\n",
            "ATGCATGGTG--C--GCGA\n",
            "||   |.|||  |  | ||\n",
            "AT---TTGTGCTCCTG-GA\n",
            "  Score=10\n",
            "\n",
            "ATGCA-TGGTG--C--GCGA\n",
            "||    | |||  |  | ||\n",
            "AT---TT-GTGCTCCTG-GA\n",
            "  Score=10\n",
            "\n",
            "ATGCATGGTG--C--GCGA\n",
            "||  .| |||  |  | ||\n",
            "AT--TT-GTGCTCCTG-GA\n",
            "  Score=10\n",
            "\n",
            "ATGCATGGTG--C--GCGA\n",
            "|| . | |||  |  | ||\n",
            "AT-T-T-GTGCTCCTG-GA\n",
            "  Score=10\n",
            "\n",
            "ATGCATGGTG--C--GCGA\n",
            "||.  | |||  |  | ||\n",
            "ATT--T-GTGCTCCTG-GA\n",
            "  Score=10\n",
            "\n",
            "A-TGCATGGTG--C--GCGA\n",
            "| |   | |||  |  | ||\n",
            "ATT---T-GTGCTCCTG-GA\n",
            "  Score=10\n",
            "\n",
            "ATGCAT-GGTG--C--GCGA\n",
            "||   | | ||  |  | ||\n",
            "AT---TTG-TGCTCCTG-GA\n",
            "  Score=10\n",
            "\n",
            "ATGCA-TGGTG--C--GCGA\n",
            "||    || ||  |  | ||\n",
            "AT---TTG-TGCTCCTG-GA\n",
            "  Score=10\n",
            "\n",
            "ATGCATGGTG--C--GCGA\n",
            "||  .|| ||  |  | ||\n",
            "AT--TTG-TGCTCCTG-GA\n",
            "  Score=10\n",
            "\n",
            "ATGCATGGTG--C--GCGA\n",
            "|| . || ||  |  | ||\n",
            "AT-T-TG-TGCTCCTG-GA\n",
            "  Score=10\n",
            "\n",
            "ATGCATGGTG--C--GCGA\n",
            "||.  || ||  |  | ||\n",
            "ATT--TG-TGCTCCTG-GA\n",
            "  Score=10\n",
            "\n",
            "A-TGCATGGTG--C--GCGA\n",
            "| |   || ||  |  | ||\n",
            "ATT---TG-TGCTCCTG-GA\n",
            "  Score=10\n",
            "\n",
            "ATGCAT-G-G-TGC--GCGA\n",
            "||   | | | | |  | ||\n",
            "AT---TTGTGCT-CCTG-GA\n",
            "  Score=10\n",
            "\n",
            "ATGCA-TG-G-TGC--GCGA\n",
            "||    || | | |  | ||\n",
            "AT---TTGTGCT-CCTG-GA\n",
            "  Score=10\n",
            "\n",
            "ATGCATG-G-TGC--GCGA\n",
            "||  .|| | | |  | ||\n",
            "AT--TTGTGCT-CCTG-GA\n",
            "  Score=10\n",
            "\n",
            "ATGCATG-G-TGC--GCGA\n",
            "|| . || | | |  | ||\n",
            "AT-T-TGTGCT-CCTG-GA\n",
            "  Score=10\n",
            "\n",
            "ATGCATG-G-TGC--GCGA\n",
            "||.  || | | |  | ||\n",
            "ATT--TGTGCT-CCTG-GA\n",
            "  Score=10\n",
            "\n",
            "A-TGCATG-G-TGC--GCGA\n",
            "| |   || | | |  | ||\n",
            "ATT---TGTGCT-CCTG-GA\n",
            "  Score=10\n",
            "\n",
            "AT--GCATGG-TGC--GCGA\n",
            "||  |  | | | |  | ||\n",
            "ATTTG--T-GCT-CCTG-GA\n",
            "  Score=10\n",
            "\n",
            "A-T-GCATGG-TGC--GCGA\n",
            "| | |  | | | |  | ||\n",
            "ATTTG--T-GCT-CCTG-GA\n",
            "  Score=10\n",
            "\n",
            "A--TGCATGG-TGC--GCGA\n",
            "|  ||  | | | |  | ||\n",
            "ATTTG--T-GCT-CCTG-GA\n",
            "  Score=10\n",
            "\n",
            "AT--GCATGG-TGC--GCGA\n",
            "||  |  ||  | |  | ||\n",
            "ATTTG--TG-CT-CCTG-GA\n",
            "  Score=10\n",
            "\n",
            "A-T-GCATGG-TGC--GCGA\n",
            "| | |  ||  | |  | ||\n",
            "ATTTG--TG-CT-CCTG-GA\n",
            "  Score=10\n",
            "\n",
            "A--TGCATGG-TGC--GCGA\n",
            "|  ||  ||  | |  | ||\n",
            "ATTTG--TG-CT-CCTG-GA\n",
            "  Score=10\n",
            "\n",
            "AT--GCATGGTGC--GCGA\n",
            "||  |  ||.| |  | ||\n",
            "ATTTG--TGCT-CCTG-GA\n",
            "  Score=10\n",
            "\n",
            "A-T-GCATGGTGC--GCGA\n",
            "| | |  ||.| |  | ||\n",
            "ATTTG--TGCT-CCTG-GA\n",
            "  Score=10\n",
            "\n",
            "A--TGCATGGTGC--GCGA\n",
            "|  ||  ||.| |  | ||\n",
            "ATTTG--TGCT-CCTG-GA\n",
            "  Score=10\n",
            "\n"
          ]
        }
      ],
      "source": [
        "# View all possible alignment\n",
        "for a in loc_alignments:\n",
        "  print(format_alignment(*a))"
      ]
    },
    {
      "cell_type": "code",
      "execution_count": 205,
      "metadata": {
        "id": "MW8XNhLZZrra"
      },
      "outputs": [],
      "source": [
        "# Get the alignment by only the score\n",
        "alignment2 = pairwise2.align.globalxx(seq1,seq2,one_alignment_only=True,score_only=True)"
      ]
    },
    {
      "cell_type": "code",
      "source": [
        "alignment2"
      ],
      "metadata": {
        "colab": {
          "base_uri": "https://localhost:8080/"
        },
        "id": "sMlEpG1i6dz6",
        "outputId": "0b29b538-148c-4cc1-b2e6-41635278f723"
      },
      "execution_count": 206,
      "outputs": [
        {
          "output_type": "execute_result",
          "data": {
            "text/plain": [
              "10.0"
            ]
          },
          "metadata": {},
          "execution_count": 206
        }
      ]
    },
    {
      "cell_type": "code",
      "source": [
        "seq1"
      ],
      "metadata": {
        "colab": {
          "base_uri": "https://localhost:8080/"
        },
        "id": "w0_lhkJU6tcx",
        "outputId": "1e8e1a15-540b-43a0-c2b4-3f5b357c99a4"
      },
      "execution_count": 207,
      "outputs": [
        {
          "output_type": "execute_result",
          "data": {
            "text/plain": [
              "Seq('ATGCATGGTGCGCGA')"
            ]
          },
          "metadata": {},
          "execution_count": 207
        }
      ]
    },
    {
      "cell_type": "code",
      "source": [
        "seq2"
      ],
      "metadata": {
        "colab": {
          "base_uri": "https://localhost:8080/"
        },
        "id": "TbeiB0hR6s8L",
        "outputId": "1ca5efaf-639b-4055-c101-d55a505dcf77"
      },
      "execution_count": 208,
      "outputs": [
        {
          "output_type": "execute_result",
          "data": {
            "text/plain": [
              "Seq('ATTTGTGCTCCTGGA')"
            ]
          },
          "metadata": {},
          "execution_count": 208
        }
      ]
    },
    {
      "cell_type": "code",
      "source": [
        "alignment2/len(seq1) *100"
      ],
      "metadata": {
        "colab": {
          "base_uri": "https://localhost:8080/"
        },
        "id": "a1tAGqub6sjK",
        "outputId": "eb6533c4-ae5e-4869-de74-97b7ed9fbbc2"
      },
      "execution_count": 209,
      "outputs": [
        {
          "output_type": "execute_result",
          "data": {
            "text/plain": [
              "66.66666666666666"
            ]
          },
          "metadata": {},
          "execution_count": 209
        }
      ]
    },
    {
      "cell_type": "markdown",
      "metadata": {
        "id": "xvz5rYMRZrra"
      },
      "source": [
        "#### Check for similarity or percentage of similarity using Alignment\n",
        "+ fraction of nucleotides that is the same/ total number of nucleotides * 100%\n"
      ]
    },
    {
      "cell_type": "code",
      "execution_count": 210,
      "metadata": {
        "id": "34J5HokSZrrb"
      },
      "outputs": [],
      "source": [
        "# Calculate the global alignment score\n"
      ]
    },
    {
      "cell_type": "code",
      "execution_count": 211,
      "metadata": {
        "id": "oDG-4cTNZrrb"
      },
      "outputs": [],
      "source": [
        "# Get the local alignment by only the score\n",
        "loc_alignment2 = pairwise2.align.localxx(seq1,seq2,one_alignment_only=True,score_only=True)"
      ]
    },
    {
      "cell_type": "code",
      "source": [
        "loc_alignment2/len(seq1) *100"
      ],
      "metadata": {
        "colab": {
          "base_uri": "https://localhost:8080/"
        },
        "id": "TD1mFeIR7lsV",
        "outputId": "e2d6fb68-189b-49e0-d633-7c5cf70bc25b"
      },
      "execution_count": 212,
      "outputs": [
        {
          "output_type": "execute_result",
          "data": {
            "text/plain": [
              "66.66666666666666"
            ]
          },
          "metadata": {},
          "execution_count": 212
        }
      ]
    },
    {
      "cell_type": "code",
      "source": [
        "from Bio.Seq import Seq"
      ],
      "metadata": {
        "id": "t6msVjsY8HB8"
      },
      "execution_count": 213,
      "outputs": []
    },
    {
      "cell_type": "code",
      "source": [
        "seqA = Seq('AAGGCTT')\n",
        "seqB = Seq('AAGGC')\n",
        "seqC = Seq('AAGGCAT')"
      ],
      "metadata": {
        "id": "iHm2uafj8LjI"
      },
      "execution_count": 214,
      "outputs": []
    },
    {
      "cell_type": "code",
      "source": [
        "from Bio import pairwise2"
      ],
      "metadata": {
        "id": "O_01BpnJ8av7"
      },
      "execution_count": 215,
      "outputs": []
    },
    {
      "cell_type": "code",
      "source": [
        "AvB = pairwise2.align.localxx(seqA,seqB,one_alignment_only=True,score_only=True)\n",
        "BvC = pairwise2.align.localxx(seqB,seqC,one_alignment_only=True,score_only=True)\n",
        "AvC = pairwise2.align.localxx(seqA,seqC,one_alignment_only=True,score_only=True)"
      ],
      "metadata": {
        "id": "jjjMLKWI8d5S"
      },
      "execution_count": 216,
      "outputs": []
    },
    {
      "cell_type": "code",
      "source": [
        "print(\"AvB\",AvB/len(seqB) *100)"
      ],
      "metadata": {
        "colab": {
          "base_uri": "https://localhost:8080/"
        },
        "id": "5UOLPKUH9BtC",
        "outputId": "adb40c4c-57f1-4f81-b9b0-6ec11c66b7b8"
      },
      "execution_count": 217,
      "outputs": [
        {
          "output_type": "stream",
          "name": "stdout",
          "text": [
            "AvB 100.0\n"
          ]
        }
      ]
    },
    {
      "cell_type": "code",
      "source": [
        "print(\"BvC\",BvC/len(seqB) *100)"
      ],
      "metadata": {
        "colab": {
          "base_uri": "https://localhost:8080/"
        },
        "id": "o2dj1NxD9K4J",
        "outputId": "08d9a573-459f-44b6-aba5-962c46497638"
      },
      "execution_count": 218,
      "outputs": [
        {
          "output_type": "stream",
          "name": "stdout",
          "text": [
            "BvC 100.0\n"
          ]
        }
      ]
    },
    {
      "cell_type": "code",
      "source": [
        "print(\"AvC\",AvC/len(seqC) *100)"
      ],
      "metadata": {
        "colab": {
          "base_uri": "https://localhost:8080/"
        },
        "id": "KaC-_Bnb9sN8",
        "outputId": "fea4c293-97cd-4cb7-aeaa-44805def68a0"
      },
      "execution_count": 219,
      "outputs": [
        {
          "output_type": "stream",
          "name": "stdout",
          "text": [
            "AvC 85.71428571428571\n"
          ]
        }
      ]
    },
    {
      "cell_type": "code",
      "source": [
        "seqA == seqB"
      ],
      "metadata": {
        "colab": {
          "base_uri": "https://localhost:8080/"
        },
        "id": "DsnZCefC96LC",
        "outputId": "2ceb6fda-b8d2-409b-946c-a364b3135536"
      },
      "execution_count": 220,
      "outputs": [
        {
          "output_type": "execute_result",
          "data": {
            "text/plain": [
              "False"
            ]
          },
          "metadata": {},
          "execution_count": 220
        }
      ]
    },
    {
      "cell_type": "code",
      "source": [
        "seq1 = Seq(\"ATGCATGGTGCGCGA\")\n",
        "seq2 = Seq(\"ATTTGTGCTCCTGGA\")"
      ],
      "metadata": {
        "id": "L48Ubf0_-DeA"
      },
      "execution_count": 244,
      "outputs": []
    },
    {
      "cell_type": "code",
      "source": [
        "def hamming_distance(ihs,rhs):\n",
        "  return len([(x,y)for x,y in zip(ihs,rhs)if x != y])"
      ],
      "metadata": {
        "id": "trDO1Aeb-ghy"
      },
      "execution_count": 245,
      "outputs": []
    },
    {
      "cell_type": "code",
      "source": [
        "hamming_distance(seq1,seq2)"
      ],
      "metadata": {
        "colab": {
          "base_uri": "https://localhost:8080/"
        },
        "id": "kegEfpMy-9h5",
        "outputId": "ca2e462f-57e5-4760-f2e8-8e25400124ae"
      },
      "execution_count": 246,
      "outputs": [
        {
          "output_type": "execute_result",
          "data": {
            "text/plain": [
              "7"
            ]
          },
          "metadata": {},
          "execution_count": 246
        }
      ]
    },
    {
      "cell_type": "code",
      "source": [
        "hamming_distance(seq1,seq1)"
      ],
      "metadata": {
        "colab": {
          "base_uri": "https://localhost:8080/"
        },
        "id": "bY9U3P9Q_Yse",
        "outputId": "d2a9625d-a0d7-484e-deef-b2fba7aff3bc"
      },
      "execution_count": 247,
      "outputs": [
        {
          "output_type": "execute_result",
          "data": {
            "text/plain": [
              "0"
            ]
          },
          "metadata": {},
          "execution_count": 247
        }
      ]
    },
    {
      "cell_type": "code",
      "source": [
        "print(seq1)\n",
        "print(seq1[::-1])"
      ],
      "metadata": {
        "colab": {
          "base_uri": "https://localhost:8080/"
        },
        "id": "TV6FZEzh_fwP",
        "outputId": "fa46564f-5088-4d3e-e338-357a2d32bca6"
      },
      "execution_count": 248,
      "outputs": [
        {
          "output_type": "stream",
          "name": "stdout",
          "text": [
            "ATGCATGGTGCGCGA\n",
            "AGCGCGTGGTACGTA\n"
          ]
        }
      ]
    },
    {
      "cell_type": "code",
      "source": [
        "hamming_distance(seq1,seq1[::-1])"
      ],
      "metadata": {
        "colab": {
          "base_uri": "https://localhost:8080/"
        },
        "id": "nNswK6AT_lNu",
        "outputId": "84af6442-2c17-40eb-a682-2c3a9839e642"
      },
      "execution_count": 249,
      "outputs": [
        {
          "output_type": "execute_result",
          "data": {
            "text/plain": [
              "12"
            ]
          },
          "metadata": {},
          "execution_count": 249
        }
      ]
    },
    {
      "cell_type": "code",
      "source": [
        "hamming_distance(seq1,seq3)"
      ],
      "metadata": {
        "colab": {
          "base_uri": "https://localhost:8080/"
        },
        "id": "j9d6AED3_q3H",
        "outputId": "032c0959-b7e1-43cd-f337-4d074fd9d3cd"
      },
      "execution_count": 250,
      "outputs": [
        {
          "output_type": "execute_result",
          "data": {
            "text/plain": [
              "3"
            ]
          },
          "metadata": {},
          "execution_count": 250
        }
      ]
    },
    {
      "cell_type": "code",
      "source": [
        "!pip install python-Levenshtein\n",
        "from Levenshtein import distance"
      ],
      "metadata": {
        "colab": {
          "base_uri": "https://localhost:8080/"
        },
        "id": "qhHzAa-g_vug",
        "outputId": "abeca5e1-51d4-4374-a8a2-e297e8f47738"
      },
      "execution_count": 251,
      "outputs": [
        {
          "output_type": "stream",
          "name": "stdout",
          "text": [
            "Requirement already satisfied: python-Levenshtein in /usr/local/lib/python3.11/dist-packages (0.27.1)\n",
            "Requirement already satisfied: Levenshtein==0.27.1 in /usr/local/lib/python3.11/dist-packages (from python-Levenshtein) (0.27.1)\n",
            "Requirement already satisfied: rapidfuzz<4.0.0,>=3.9.0 in /usr/local/lib/python3.11/dist-packages (from Levenshtein==0.27.1->python-Levenshtein) (3.13.0)\n"
          ]
        }
      ]
    },
    {
      "cell_type": "code",
      "source": [
        "distance(str(seq1),str(seq2))"
      ],
      "metadata": {
        "colab": {
          "base_uri": "https://localhost:8080/"
        },
        "id": "fE6D_qYk_9x1",
        "outputId": "8b53a275-cd16-4878-d105-13709c1ec2f4"
      },
      "execution_count": 252,
      "outputs": [
        {
          "output_type": "execute_result",
          "data": {
            "text/plain": [
              "7"
            ]
          },
          "metadata": {},
          "execution_count": 252
        }
      ]
    },
    {
      "cell_type": "code",
      "source": [
        "print(\"Hamming Distance\", hamming_distance(seq1,seq2))\n",
        "print(\"Levenshtein Distance\",distance(str(seq1),str(seq2)))"
      ],
      "metadata": {
        "colab": {
          "base_uri": "https://localhost:8080/"
        },
        "id": "635_BQZhAC-u",
        "outputId": "5a20b783-02f7-41fc-8c09-2c81a10cdba9"
      },
      "execution_count": 253,
      "outputs": [
        {
          "output_type": "stream",
          "name": "stdout",
          "text": [
            "Hamming Distance 7\n",
            "Levenshtein Distance 7\n"
          ]
        }
      ]
    },
    {
      "cell_type": "code",
      "source": [
        "print(\"Hamming Distance\", hamming_distance(seq1,seq3))\n",
        "print(\"Levenshtein Distance\",distance(str(seq1),str(seq3)))"
      ],
      "metadata": {
        "colab": {
          "base_uri": "https://localhost:8080/"
        },
        "id": "SDoSpBvJAbB5",
        "outputId": "b12da3ac-1e05-4914-9026-6b21f75d32e7"
      },
      "execution_count": 254,
      "outputs": [
        {
          "output_type": "stream",
          "name": "stdout",
          "text": [
            "Hamming Distance 3\n",
            "Levenshtein Distance 11\n"
          ]
        }
      ]
    },
    {
      "cell_type": "code",
      "source": [
        "def delta(x,y):\n",
        "  return 0 if x == y else 1\n",
        "\n",
        "def M(seq1,seq2,i,j,k):\n",
        "  return sum(delta(x,y) for x,y in zip(seq1[i:i+k],seq2[j:j+k]))\n",
        "\n",
        "def makeMatrix(seq1,seq2,k):\n",
        "  n = len(seq1)\n",
        "  m = len(seq2)\n",
        "  return [[M(seq1,seq2,i,j,k) for j in range(m-k+1)] for i in range(n-k+1)]\n",
        "\n",
        "def plotMatrix(M,t, seq1, seq2, nonblank = chr(0x25A0), blank = ' '):\n",
        "  print(' |' + seq2)\n",
        "  print('-'*(2 + len(seq2)))\n",
        "  for label,row in zip(seq1,M):\n",
        "    line = \" \".join(nonblank if s < t else blank for s in row)\n",
        "    print(label + '|' + line)\n",
        "\n",
        "def dotplot(seq1,seq2,k = 1,t = 1):\n",
        "  M = makeMatrix(seq1,seq2,k)\n",
        "  plotMatrix(M, t, seq1,seq2)"
      ],
      "metadata": {
        "id": "wjYP-JCxFK6u"
      },
      "execution_count": 255,
      "outputs": []
    },
    {
      "cell_type": "code",
      "source": [
        "from Bio.Seq import Seq"
      ],
      "metadata": {
        "id": "3ex85N6nFNHe"
      },
      "execution_count": 256,
      "outputs": []
    },
    {
      "cell_type": "code",
      "source": [
        "seq1 = Seq('ACTTAG')\n",
        "seq2 = Seq('AC')"
      ],
      "metadata": {
        "id": "_xFtv14oFZaZ"
      },
      "execution_count": 257,
      "outputs": []
    },
    {
      "cell_type": "code",
      "source": [
        "dotplot(seq1,seq2)"
      ],
      "metadata": {
        "colab": {
          "base_uri": "https://localhost:8080/"
        },
        "id": "yLrRXyHfFmw9",
        "outputId": "c6070914-c176-426e-ad6f-e26f9d9c28fd"
      },
      "execution_count": 258,
      "outputs": [
        {
          "output_type": "stream",
          "name": "stdout",
          "text": [
            " |AC\n",
            "----\n",
            "A|■  \n",
            "C|  ■\n",
            "T|   \n",
            "T|   \n",
            "A|■  \n",
            "G|   \n"
          ]
        }
      ]
    },
    {
      "cell_type": "code",
      "source": [
        "dotplot(seq1,seq1)"
      ],
      "metadata": {
        "colab": {
          "base_uri": "https://localhost:8080/"
        },
        "id": "7wKWnqdNWhVD",
        "outputId": "9999612b-9140-4c65-e1d2-9410a87831ce"
      },
      "execution_count": 259,
      "outputs": [
        {
          "output_type": "stream",
          "name": "stdout",
          "text": [
            " |ACTTAG\n",
            "--------\n",
            "A|■       ■  \n",
            "C|  ■        \n",
            "T|    ■ ■    \n",
            "T|    ■ ■    \n",
            "A|■       ■  \n",
            "G|          ■\n"
          ]
        }
      ]
    },
    {
      "cell_type": "code",
      "source": [
        "dotplot('TREE','TREE')"
      ],
      "metadata": {
        "colab": {
          "base_uri": "https://localhost:8080/"
        },
        "id": "wXfunlSpWhK3",
        "outputId": "7e142721-cb04-41a8-ab51-945d9b7931a3"
      },
      "execution_count": 260,
      "outputs": [
        {
          "output_type": "stream",
          "name": "stdout",
          "text": [
            " |TREE\n",
            "------\n",
            "T|■      \n",
            "R|  ■    \n",
            "E|    ■ ■\n",
            "E|    ■ ■\n"
          ]
        }
      ]
    },
    {
      "cell_type": "code",
      "source": [
        "import matplotlib.pyplot as plt\n",
        "import numpy as np"
      ],
      "metadata": {
        "id": "pvCpMW0YWg1a"
      },
      "execution_count": 261,
      "outputs": []
    },
    {
      "cell_type": "code",
      "source": [
        "plt.imshow(np.array(makeMatrix(seq1,seq2,1)))\n",
        "xt=plt.xticks(np.arange(len(list(seq1))),list(seq1))\n",
        "yt=plt.yticks(np.arange(len(list(seq1))),list(seq1))\n",
        "plt.show()"
      ],
      "metadata": {
        "colab": {
          "base_uri": "https://localhost:8080/",
          "height": 430
        },
        "id": "H6byjExdWzUG",
        "outputId": "78ab60f8-1e96-4ac8-af4d-936fd0dcd752"
      },
      "execution_count": 262,
      "outputs": [
        {
          "output_type": "display_data",
          "data": {
            "text/plain": [
              "<Figure size 640x480 with 1 Axes>"
            ],
            "image/png": "[encoded data removed]"
          },
          "metadata": {}
        }
      ]
    },
    {
      "cell_type": "code",
      "source": [
        "def dotplotx(seq1,seq2):\n",
        "  plt.imshow(np.array(makeMatrix(seq1,seq2,1)))\n",
        "  xt=plt.xticks(np.arange(len(list(seq2))),list(seq2))\n",
        "  yt=plt.yticks(np.arange(len(list(seq1))),list(seq1))\n",
        "  plt.show()"
      ],
      "metadata": {
        "id": "dKhZq6iFXiln"
      },
      "execution_count": 263,
      "outputs": []
    },
    {
      "cell_type": "code",
      "source": [
        "dotplotx(seq1,seq2)"
      ],
      "metadata": {
        "colab": {
          "base_uri": "https://localhost:8080/",
          "height": 430
        },
        "id": "Y6VNcHWrYF1O",
        "outputId": "12317643-8318-4f7a-c61f-1b0fec42b4cb"
      },
      "execution_count": 264,
      "outputs": [
        {
          "output_type": "display_data",
          "data": {
            "text/plain": [
              "<Figure size 640x480 with 1 Axes>"
            ],
            "image/png": "[encoded data removed]"
          },
          "metadata": {}
        }
      ]
    },
    {
      "cell_type": "code",
      "source": [
        "dna1 = Seq(\"ATGCATGGTGCGCGA\")\n",
        "dna2 = Seq(\"ATTTGTGCTCCTGGA\")"
      ],
      "metadata": {
        "id": "TjiReaelYTHw"
      },
      "execution_count": 265,
      "outputs": []
    },
    {
      "cell_type": "code",
      "source": [
        "dotplot(dna1,dna2)"
      ],
      "metadata": {
        "colab": {
          "base_uri": "https://localhost:8080/"
        },
        "id": "CytXfrj1Yhyv",
        "outputId": "2f0ebe55-b578-4561-af79-9a873c338002"
      },
      "execution_count": 266,
      "outputs": [
        {
          "output_type": "stream",
          "name": "stdout",
          "text": [
            " |ATTTGTGCTCCTGGA\n",
            "-----------------\n",
            "A|■                           ■\n",
            "T|  ■ ■ ■   ■     ■     ■      \n",
            "G|        ■   ■           ■ ■  \n",
            "C|              ■   ■ ■        \n",
            "A|■                           ■\n",
            "T|  ■ ■ ■   ■     ■     ■      \n",
            "G|        ■   ■           ■ ■  \n",
            "G|        ■   ■           ■ ■  \n",
            "T|  ■ ■ ■   ■     ■     ■      \n",
            "G|        ■   ■           ■ ■  \n",
            "C|              ■   ■ ■        \n",
            "G|        ■   ■           ■ ■  \n",
            "C|              ■   ■ ■        \n",
            "G|        ■   ■           ■ ■  \n",
            "A|■                           ■\n"
          ]
        }
      ]
    },
    {
      "cell_type": "code",
      "source": [
        "dotplotx(dna1,dna1)"
      ],
      "metadata": {
        "colab": {
          "base_uri": "https://localhost:8080/",
          "height": 430
        },
        "id": "q1MD1j0sYnQo",
        "outputId": "dacfd919-c07d-4b2f-a762-0b7ab061f13a"
      },
      "execution_count": 270,
      "outputs": [
        {
          "output_type": "display_data",
          "data": {
            "text/plain": [
              "<Figure size 640x480 with 1 Axes>"
            ],
            "image/png": "[encoded data removed]"
          },
          "metadata": {}
        }
      ]
    },
    {
      "cell_type": "code",
      "source": [
        "dotplotx(dna1,dna2)"
      ],
      "metadata": {
        "colab": {
          "base_uri": "https://localhost:8080/",
          "height": 430
        },
        "id": "juAau9acYth2",
        "outputId": "cbba129f-c2b7-4704-97c6-5d73b355e41f"
      },
      "execution_count": 271,
      "outputs": [
        {
          "output_type": "display_data",
          "data": {
            "text/plain": [
              "<Figure size 640x480 with 1 Axes>"
            ],
            "image/png": "[encoded data removed]"
          },
          "metadata": {}
        }
      ]
    },
    {
      "cell_type": "code",
      "source": [
        "dotplotx(dna2,dna2)"
      ],
      "metadata": {
        "colab": {
          "base_uri": "https://localhost:8080/",
          "height": 430
        },
        "id": "O0CS72e9j7K4",
        "outputId": "e0004416-c4a9-4438-c567-a747d4be3fd2"
      },
      "execution_count": 269,
      "outputs": [
        {
          "output_type": "display_data",
          "data": {
            "text/plain": [
              "<Figure size 640x480 with 1 Axes>"
            ],
            "image/png": "[encoded data removed]"
          },
          "metadata": {}
        }
      ]
    },
    {
      "cell_type": "markdown",
      "metadata": {
        "id": "r1pe80qpZrrc"
      },
      "source": [
        "### Find out all the possible global alignments with the maximum similarity score\n",
        "+ Matching characters :2 points,\n",
        "+ Each mismatching character: -1 point\n",
        "+ 0.5 points are deducted when opening a gap,\n",
        "+ 0.1 points are deducted when extending it."
      ]
    },
    {
      "cell_type": "code",
      "execution_count": 171,
      "metadata": {
        "id": "BYkNrR0UZrrc"
      },
      "outputs": [],
      "source": [
        "# Perform GLobal alignment with maximum similarity score\n"
      ]
    },
    {
      "cell_type": "code",
      "execution_count": 169,
      "metadata": {
        "id": "Vp86oIRWZrrc"
      },
      "outputs": [],
      "source": [
        "# View all possible alignment\n"
      ]
    },
    {
      "cell_type": "code",
      "execution_count": 170,
      "metadata": {
        "id": "jyzUW-AwZrrc"
      },
      "outputs": [],
      "source": [
        "# View all alignment score\n"
      ]
    },
    {
      "cell_type": "markdown",
      "metadata": {
        "id": "qJhF7AatZrrd"
      },
      "source": [
        "### Checking for Similarity Between Sequences\n",
        "+ Sequence Alignment\n",
        "    - Dynamic Programming (Global/Local/(needle/water))\n",
        "    - Dotplot\n",
        "    \n",
        "+ Similarity: resemblance between two sequences in comparison\n",
        "    - the minimal number of edit operations (inserts, deletes, and substitutions) in order to transform the one sequence into an exact copy of the other sequence being aligned\n",
        "    - distance\n",
        "+ Identity: the number of charaters that match EXACTLY between two different sequences\n",
        "    + Gaps are not counted\n",
        "    + The measurement is relational to the shorter of the two sequences.\n",
        "    + This has the effect that sequence identity is not transitive, i.e.\n",
        "    + if sequence A=B and B=C then A is not necessarily equal C (in terms of the identity distance measure) :\n",
        "\n",
        "\n",
        " - A: AAGGCTT\n",
        " - B: AAGGC\n",
        " - C:AAGGCAT"
      ]
    },
    {
      "cell_type": "markdown",
      "metadata": {
        "id": "JUcFkdiyZrrd"
      },
      "source": [
        "+ Here identity(A,B)=100% (5 identical nucleotides / min(length(A),length(B))).\n",
        "Identity(B,C)=100%, but identity(A,C)=85% ((6 identical nucleotides / 7)). So 100% identity does not mean two sequences are the same.\n",
        "+ Sequence similarity is first of all a general description of a relationship but nevertheless its more or less common practice to define similarity as an optimal matching problem (for sequence alignments or unless defined otherwise).\n",
        "+ Hereby, the optimal matching algorithm finds the minimal number of edit operations (inserts, deletes, and substitutions) in order to transform the one sequence into an exact copy of the other sequence being aligned (edit distance).\n",
        "+ Using this, the percentage sequence similarity of the examples above are sim(A,B)=60%, sim(B,C)=60%, sim(A,C)=86% (semi-global, sim=1-(edit distance/unaligned length of the shorter sequence)). But there are other ways to define similarity between two objects (e.g. using tertiary strucure of proteins).\n",
        "An then you might start to conclude from similarity to homology, but this was already covered sufficiently\n",
        "+ read more https://www.researchgate.net/post/Homology_similarity_and_identity-can_anyone_help_with_these_terms"
      ]
    },
    {
      "cell_type": "code",
      "execution_count": 167,
      "metadata": {
        "id": "1wKp0HNYZrrd"
      },
      "outputs": [],
      "source": [
        "# Import necessary package/ function and Create 3 example sequences\n"
      ]
    },
    {
      "cell_type": "code",
      "execution_count": 168,
      "metadata": {
        "id": "bu0tTnl3Zrre"
      },
      "outputs": [],
      "source": [
        "# Perform Local Alignment and print the scores\n"
      ]
    },
    {
      "cell_type": "code",
      "execution_count": 199,
      "metadata": {
        "id": "EZF4Y45KZrrf"
      },
      "outputs": [],
      "source": [
        "# Check the concept : Is 100? similarity score means the two DNA sequences are exact match?\n"
      ]
    },
    {
      "cell_type": "markdown",
      "metadata": {
        "id": "zIuwMA0IZrrf"
      },
      "source": [
        "#### Hamming distance: shows how many places 2 strings differ\n",
        "+ Hamming distance between two strings of equal length is the number of positions at which the corresponding symbols are different.\n",
        "+ In other words, it measures the minimum number of substitutions required to change one string into the other, or the minimum number of errors that could have transformed one string into the othe\n",
        "+ It is used for error detection or error correction\n",
        "+ It is used to quantify the similarity of DNA sequences,\n",
        "+ For checking the edit distance\n",
        " - edit distance is a way of quantifying how dissimilar two strings (e.g., words) are to one another by counting the minimum number of operations required to transform one string into the other.\n",
        " - eg Levenshtein distance\n",
        "\n"
      ]
    },
    {
      "cell_type": "code",
      "execution_count": 200,
      "metadata": {
        "id": "IUkYPKwvZrrg"
      },
      "outputs": [],
      "source": [
        "# Create example sequences\n"
      ]
    },
    {
      "cell_type": "code",
      "execution_count": 208,
      "metadata": {
        "id": "GggjZ-bBZrrg"
      },
      "outputs": [],
      "source": [
        "# Define Hamming Distance function\n"
      ]
    },
    {
      "cell_type": "code",
      "execution_count": 209,
      "metadata": {
        "id": "oO2SG07XZrrg"
      },
      "outputs": [],
      "source": [
        "# Perform Hamming Distance calculation\n"
      ]
    },
    {
      "cell_type": "markdown",
      "metadata": {
        "id": "vL8Zb07dZrrh"
      },
      "source": [
        "#### Levenshtein Distance\n",
        "\n",
        "+ This method was invented in 1965 by the Russian Mathematician Vladimir Levenshtein (1935-2017).\n",
        "+ The distance value describes the minimal number of deletions, insertions, or substitutions that are required to transform one string (the source) into another (the target).\n",
        "+ Unlike the Hamming distance, the Levenshtein distance works on strings with an unequal length"
      ]
    },
    {
      "cell_type": "code",
      "execution_count": 210,
      "metadata": {
        "id": "GnV34nMpZrrh"
      },
      "outputs": [],
      "source": [
        "# Install Levenshtein Distance library\n"
      ]
    },
    {
      "cell_type": "code",
      "execution_count": 211,
      "metadata": {
        "id": "4pYUA-pMZrri"
      },
      "outputs": [],
      "source": [
        "# Perform Levenshtein Distance calculation\n",
        "\n"
      ]
    },
    {
      "cell_type": "markdown",
      "metadata": {
        "id": "jIRoeoEHZrri"
      },
      "source": [
        "#### Sequence Alignment using Dotplot"
      ]
    },
    {
      "cell_type": "markdown",
      "metadata": {
        "id": "9ehFpOODZrri"
      },
      "source": [
        "### Dot Plot\n",
        "+ A dot plot is a graphical method that allows the comparison of two biological sequences\n",
        "and identify regions of close similarity between them.\n",
        "+ Simplest method - put a dot wherever\n",
        "sequences are identical\n",
        "+ Dot plots compare two sequences by organizing one sequence on the x-axis, and another on the y-axis, of a plot.\n",
        "+ When the residues of both sequences match at the same location on the plot, a dot is drawn at the corresponding position\n",
        "\n",
        "#### usefulness\n",
        "+ Dot plots can also be used to visually inspect sequences for\n",
        "  - direct or inverted repeats\n",
        "  - regions with low sequence complexity.\n",
        "  - Similar regions\n",
        "  - Repeated sequences\n",
        "  - Sequence rearrangements\n",
        "  - RNA structures\n",
        "  - Gene order\n",
        "\n",
        "+ Link :https://stackoverflow.com/questions/40822400/how-to-create-a-dotplot-of-two-dna-sequence-in-python"
      ]
    },
    {
      "cell_type": "code",
      "execution_count": null,
      "metadata": {
        "id": "YHekyWbrZrri"
      },
      "outputs": [],
      "source": [
        "# Create Dot Plot function\n",
        "\n",
        "#experiment with character choice"
      ]
    },
    {
      "cell_type": "code",
      "execution_count": null,
      "metadata": {
        "id": "Go8ZV6S6Zrrj"
      },
      "outputs": [],
      "source": [
        "# Create 2 DNA sequence examples\n"
      ]
    },
    {
      "cell_type": "code",
      "execution_count": null,
      "metadata": {
        "id": "3vedlnj2Zrrj"
      },
      "outputs": [],
      "source": [
        "# Run Dot Plot function\n"
      ]
    },
    {
      "cell_type": "code",
      "execution_count": null,
      "metadata": {
        "id": "MUKpqIcZZrrj"
      },
      "outputs": [],
      "source": [
        "# Indentical show diagonal\n"
      ]
    },
    {
      "cell_type": "code",
      "execution_count": null,
      "metadata": {
        "id": "788PZTM9Zrrk"
      },
      "outputs": [],
      "source": [
        "#Import Numpy & Matplotlib libraries to calculate and plot the result\n"
      ]
    },
    {
      "cell_type": "code",
      "execution_count": null,
      "metadata": {
        "id": "_59o6rbFZrrk"
      },
      "outputs": [],
      "source": [
        "# Create a fancy plot\n"
      ]
    },
    {
      "cell_type": "code",
      "execution_count": null,
      "metadata": {
        "id": "v1G58TPwZrrk"
      },
      "outputs": [],
      "source": [
        "# Convert to Function\n"
      ]
    },
    {
      "cell_type": "code",
      "execution_count": null,
      "metadata": {
        "id": "PhtWWYUiZrrk"
      },
      "outputs": [],
      "source": [
        "# Run the updated Dot Plot function\n"
      ]
    },
    {
      "cell_type": "code",
      "execution_count": null,
      "metadata": {
        "id": "jE2FA1etZrrk"
      },
      "outputs": [],
      "source": [
        "# Create a sample case and Run the updated Dot Plot function\n"
      ]
    },
    {
      "cell_type": "markdown",
      "metadata": {
        "id": "PDeQottoZrrl"
      },
      "source": [
        "## Lab 5 Working with Biological Database\n"
      ]
    },
    {
      "cell_type": "markdown",
      "metadata": {
        "id": "GjNRXAl8uNmE"
      },
      "source": [
        "\n",
        "### Preparing a Genomic Research (OPTIONAL)"
      ]
    },
    {
      "cell_type": "code",
      "execution_count": null,
      "metadata": {
        "id": "cOJ0DtvyZrrm"
      },
      "outputs": [],
      "source": [
        "# Spelling correction\n",
        "from Bio import Entrez\n",
        "Entrez.email = 'learnbiopython@gmail.com'\n",
        "sciNames = ['Bos gaurus']"
      ]
    },
    {
      "cell_type": "code",
      "execution_count": null,
      "metadata": {
        "id": "U5bTjGgWZrrm"
      },
      "outputs": [],
      "source": [
        "record = Entrez.read(Entrez.espell(db='pmc', term='biopythonn'))\n",
        "print(type(record))\n",
        "print(record.keys())\n",
        "for key in record.keys():\n",
        "  print (key, ':', record[key])"
      ]
    },
    {
      "cell_type": "code",
      "execution_count": null,
      "metadata": {
        "id": "bDvGEFLOZrrm"
      },
      "outputs": [],
      "source": [
        "# Research Collection\n",
        "record = Entrez.read(Entrez.esearch(db='pmc', term='biopython', retmax=100))\n",
        "print(type(record))\n",
        "print(record.keys())\n",
        "for key in record.keys():\n",
        "  print (key, ':', record[key])"
      ]
    },
    {
      "cell_type": "code",
      "execution_count": null,
      "metadata": {
        "id": "k88cKwpAZrrm"
      },
      "outputs": [],
      "source": [
        "biopythonID = record['IdList']\n",
        "print(biopythonID)"
      ]
    },
    {
      "cell_type": "code",
      "execution_count": null,
      "metadata": {
        "id": "PimGNfSxZrrm"
      },
      "outputs": [],
      "source": [
        "for ID in biopythonID[:10]:\n",
        "  summary = Entrez.read(Entrez.esummary(db='pmc', id=ID))\n",
        "  for handle in summary:\n",
        "    print(handle['Title'], '\\t', handle['FullJournalName'], '\\t', handle['DOI'])"
      ]
    },
    {
      "cell_type": "markdown",
      "metadata": {
        "id": "XZTTC5wlZrrn"
      },
      "source": [
        "### Inquiry and Exporting Genomic Data from NCBI"
      ]
    },
    {
      "cell_type": "code",
      "execution_count": null,
      "metadata": {
        "id": "6ycQSI7uZrrn"
      },
      "outputs": [],
      "source": [
        "#examples of Homo sapiens Genes Research in NCBI Nucleotide database\n",
        "\n",
        "# Three examples of Homo sapiens Genes\n",
        "# OCA2 : malenosonal transmembrane protein (eye color gene)\n",
        "# idtype = 'acc' means we want to know the Accession Number.\n",
        "\n",
        "record = Entrez.read(Entrez.esearch(db='nucleotide',\n",
        "                                    term='OCA2[Gene Name] AND Homo sapiens [Organism] AND refSeq[Keyword]',\n",
        "                                    retmax=100, idtype='acc'))\n",
        "print(record)"
      ]
    },
    {
      "cell_type": "code",
      "execution_count": null,
      "metadata": {
        "id": "5dasGPcmZrrn"
      },
      "outputs": [],
      "source": [
        "#examples of Homo Sapiens Genes efetch in NCBI Nucleotide database for mRNA only\n",
        "#NM_ in Accession Number means reference mRNA\n",
        "#NC_ in Accession Number means Genomic Data\n",
        "\n",
        "for ID in record['IdList']:\n",
        "  if 'NM_' in ID:\n",
        "    fetch = Entrez.efetch(db='nucleotide', id=ID, rettype='fasta', retmode='text')\n",
        "    readFetch = fetch.readline()\n",
        "    print(readFetch)"
      ]
    },
    {
      "cell_type": "code",
      "execution_count": null,
      "metadata": {
        "id": "xG-nIM7oZrrn"
      },
      "outputs": [],
      "source": [
        "print(record)\n",
        "counter = 0\n",
        "fetchList = []\n",
        "for ID in record['IdList']:\n",
        "  if 'NM_' in ID:\n",
        "    counter += 1\n",
        "    fetch = Entrez.efetch(db='nucleotide',\n",
        "                          id=ID,\n",
        "                          rettype='fasta',\n",
        "                          retmode='text')\n",
        "    readFetch = fetch.readline()\n",
        "    fetchList.append(readFetch)\n",
        "\n",
        "print(fetchList)\n",
        "print(len(fetchList))"
      ]
    },
    {
      "cell_type": "code",
      "execution_count": null,
      "metadata": {
        "id": "7NUvHHEqZrrn"
      },
      "outputs": [],
      "source": [
        "#examples of Homo sapiens HBB mRNA esearch in NCBI Nucleotide database\n",
        "\n",
        "from Bio import Entrez\n",
        "Entrez.email = 'learnbiopython@gmail.com'\n",
        "\n",
        "# HBB : hemoglobin subunit beta\n",
        "# idtype = 'acc' means we want to know the Accession Number.\n",
        "# NM_ in Accession Number means reference mRNA (#NC_ means Genomic Data)\n",
        "# rettype='fasta' can be changed to 'gb' for GenBank files\n",
        "# 'a+' means it will add more fasta data to the saved file, not replace the previous one\n",
        "\n",
        "record = Entrez.read(Entrez.esearch(db='nucleotide',\n",
        "                                    term='HBB[Gene Name] AND refSeq[Keyword]',\n",
        "                                    retmax=2000, idtype='acc'))\n",
        "print(record)\n",
        "counter = 0\n",
        "fetchList = []\n",
        "for ID in record['IdList']:\n",
        "  if 'NM_' in ID:\n",
        "    counter += 1\n",
        "    fetch = Entrez.efetch(db='nucleotide',\n",
        "                          id=ID,\n",
        "                          rettype='fasta',\n",
        "                          retmode='text')\n",
        "    readFetch = fetch.read()\n",
        "    fetchList.append(readFetch)\n",
        "\n",
        "print(fetchList)\n",
        "print(len(fetchList))\n",
        "# for files in fetchList:\n",
        "#   with open ('HBB-NC.fasta','a+') as savedFile:\n",
        "#     savedFile.write(files)"
      ]
    },
    {
      "cell_type": "code",
      "execution_count": null,
      "metadata": {
        "id": "Fskgj3HnZrro"
      },
      "outputs": [],
      "source": [
        " # Change term='OCA2[Gene Name] AND Homo sapiens [Organism] AND refSeq[Keyword]'"
      ]
    },
    {
      "cell_type": "markdown",
      "metadata": {
        "id": "3dlaOjanZrrq"
      },
      "source": [
        "## Lab 6 Working with Common File Formats\n",
        " + FASTA\n",
        " + GenBank\n",
        " + PDB\n",
        " + etc\n",
        "\n",
        "+ Sample https://www.ncbi.nlm.nih.gov/nuccore/MN908947"
      ]
    },
    {
      "cell_type": "code",
      "execution_count": null,
      "metadata": {
        "id": "pHf34iXjZrrr"
      },
      "outputs": [],
      "source": [
        "# Reading FASTA file format\n"
      ]
    },
    {
      "cell_type": "code",
      "execution_count": null,
      "metadata": {
        "id": "kiwb_EeuZrrr"
      },
      "outputs": [],
      "source": [
        "# Load and print A FASTA file format\n"
      ]
    },
    {
      "cell_type": "code",
      "execution_count": null,
      "metadata": {
        "id": "zhRWSqgsZrrr"
      },
      "outputs": [],
      "source": [
        "# Reading the sequence in FASTA file format\n"
      ]
    },
    {
      "cell_type": "code",
      "execution_count": null,
      "metadata": {
        "id": "2HuLU7f-Zrrs"
      },
      "outputs": [],
      "source": [
        "# Read and Load a GenBank File format\n"
      ]
    },
    {
      "cell_type": "code",
      "execution_count": null,
      "metadata": {
        "id": "qcUhKaf0Zrrs"
      },
      "outputs": [],
      "source": [
        "# Reading the sequence in GenBank format\n"
      ]
    },
    {
      "cell_type": "code",
      "execution_count": null,
      "metadata": {
        "id": "D00CjP6mZrrs"
      },
      "outputs": [],
      "source": [
        "### Writing Data (OPTIONAL)\n"
      ]
    },
    {
      "cell_type": "markdown",
      "metadata": {
        "id": "BbLQKa4GLX2Y"
      },
      "source": [
        "### Protein Explanatory Data Analysis (Optional)\n",
        "\n",
        "This in a summary and practical example from what we have done in the previous part\n",
        "\n",
        "1.   Read a .fasta DNA sequence file\n",
        "2.   do Transcriptiaon and Translation\n",
        "3.   do basic Explanatory Data Analysis"
      ]
    },
    {
      "cell_type": "code",
      "execution_count": null,
      "metadata": {
        "id": "lacpSOb3EWi4"
      },
      "outputs": [],
      "source": [
        "# Reading our fasta file\n"
      ]
    },
    {
      "cell_type": "code",
      "execution_count": null,
      "metadata": {
        "id": "Z5PuRx8HHrO7"
      },
      "outputs": [],
      "source": [
        "# Transcription\n",
        "# DNA to mRNA = Writing the msg"
      ]
    },
    {
      "cell_type": "code",
      "execution_count": null,
      "metadata": {
        "id": "9NJzWjv-MoCX"
      },
      "outputs": [],
      "source": [
        "# Longest Seq AA before a stop codon\n"
      ]
    },
    {
      "cell_type": "code",
      "execution_count": null,
      "metadata": {
        "id": "yT67hDKaLX2a"
      },
      "outputs": [],
      "source": [
        "# Explanatory Data Analysis using Pandas\n"
      ]
    },
    {
      "cell_type": "markdown",
      "metadata": {
        "id": "OXZniGTOZrrs"
      },
      "source": [
        "## EXAM QUESTION : Sequence Analysis and Protein Synthesis of Covid-19\n",
        "![](https://github.com/AryaWiguna011/Tugas/blob/main/covid19.png?raw=1)\n",
        "![](https://drive.google.com/uc?export=view&id=13x8b147yDMYWL-jKowfsSLE3J2FcTEOk)\n",
        "\n",
        "### TASK PPTI\n",
        "+ Explain how to obtain the Covid-19 Sequence from Biological Database (20%)\n",
        "+ Read and the Biological Data and Explain the information (FASTA) (20%)\n",
        "+ Conduct Sequence Analysis (20%)\n",
        "+ Conduct Protein Synthesis & Protein Structure Analysis (20%)\n",
        "+ Write Scientific Practicum Report (20%)\n",
        "+ Run Basic Data Science Analysis (Extra Score 10%!)\n",
        "\n",
        "### TASK Regular\n",
        "+ Explain how to obtain the Covid-19 Sequence from Biological Database (20%)\n",
        "+ Read and the Biological Data and Explain the information (FASTA) (20%)\n",
        "+ Conduct Sequence Analysis (20%)\n",
        "+ Conduct Protein Synthesis (20%)\n",
        "+ Write Scientific Practicum Report (20%)\n",
        "+ Run Basic Data Science Analysis (Extra Score 10%!)"
      ]
    },
    {
      "cell_type": "code",
      "execution_count": null,
      "metadata": {
        "id": "QV52AzAGZrrs"
      },
      "outputs": [],
      "source": [
        "# Id MT385497.1\n",
        "# https://www.ncbi.nlm.nih.gov/nuccore/MT385497.1?report=fasta&log$=seqview\n",
        "\n",
        "!pip install biopython\n",
        "from Bio import SeqIO\n",
        "\n",
        "# Reading our fasta file\n",
        "covid_record = SeqIO.read(\"covid_sequence_MT385497.fasta\",\"fasta\")"
      ]
    },
    {
      "cell_type": "markdown",
      "metadata": {
        "id": "yjCBA4r5Zrr1"
      },
      "source": [
        "## Last update 30/09/2022\n",
        "Fabian S Pramudya, Ph.D  \n",
        "fabian.pramudya@binus.edu\n",
        "\n",
        "(+852)60373436"
      ]
    },
    {
      "cell_type": "code",
      "execution_count": null,
      "metadata": {
        "id": "iFmyNizrZrr1"
      },
      "outputs": [],
      "source": []
    }
  ],
  "metadata": {
    "colab": {
      "provenance": [],
      "include_colab_link": true
    },
    "kernelspec": {
      "display_name": "Python 3",
      "language": "python",
      "name": "python3"
    },
    "language_info": {
      "codemirror_mode": {
        "name": "ipython",
        "version": 3
      },
      "file_extension": ".py",
      "mimetype": "text/x-python",
      "name": "python",
      "nbconvert_exporter": "python",
      "pygments_lexer": "ipython3",
      "version": "3.7.4"
    },
    "toc": {
      "base_numbering": 1,
      "nav_menu": {},
      "number_sections": true,
      "sideBar": true,
      "skip_h1_title": false,
      "title_cell": "Table of Contents",
      "title_sidebar": "Contents",
      "toc_cell": false,
      "toc_position": {},
      "toc_section_display": true,
      "toc_window_display": false
    }
  },
  "nbformat": 4,
  "nbformat_minor": 0
}